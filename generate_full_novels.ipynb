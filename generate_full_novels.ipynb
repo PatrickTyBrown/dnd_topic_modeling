{
 "cells": [
  {
   "cell_type": "code",
   "execution_count": 1,
   "metadata": {},
   "outputs": [],
   "source": [
    "import pandas as pd\n",
    "import regex as re\n",
    "import os"
   ]
  },
  {
   "cell_type": "markdown",
   "metadata": {},
   "source": [
    "## Testing"
   ]
  },
  {
   "cell_type": "code",
   "execution_count": 5,
   "metadata": {},
   "outputs": [
    {
     "name": "stdout",
     "output_type": "stream",
     "text": [
      "533292\n"
     ]
    }
   ],
   "source": [
    "text = open('data/gutenberg/files/Hesiod, the Homeric Hymns, and Homerica.txt', 'r').read()\n",
    "print(len(text))"
   ]
  },
  {
   "cell_type": "code",
   "execution_count": 7,
   "metadata": {},
   "outputs": [],
   "source": [
    "def generate_full_text():\n",
    "    text = ''\n",
    "    with open('data/full_novels.txt', 'w') as file :\n",
    "        for filename in os.listdir('data/gutenberg/files/'):\n",
    "            file.writelines(open('data/gutenberg/files/'+filename, 'r').read())\n",
    "\n",
    "    return\n",
    "generate_full_text()\n"
   ]
  }
 ],
 "metadata": {
  "kernelspec": {
   "display_name": "Python 3.10.4 ('nlp')",
   "language": "python",
   "name": "python3"
  },
  "language_info": {
   "codemirror_mode": {
    "name": "ipython",
    "version": 3
   },
   "file_extension": ".py",
   "mimetype": "text/x-python",
   "name": "python",
   "nbconvert_exporter": "python",
   "pygments_lexer": "ipython3",
   "version": "3.10.4"
  },
  "orig_nbformat": 4,
  "vscode": {
   "interpreter": {
    "hash": "a24391615d34d2370e8c71feacd6926470ad51e93ade7b45ebeb03fab8fdaada"
   }
  }
 },
 "nbformat": 4,
 "nbformat_minor": 2
}
