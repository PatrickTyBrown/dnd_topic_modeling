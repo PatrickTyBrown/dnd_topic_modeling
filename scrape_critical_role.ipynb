{
 "cells": [
  {
   "cell_type": "code",
   "execution_count": 4,
   "metadata": {},
   "outputs": [],
   "source": [
    "from bs4 import BeautifulSoup\n",
    "import requests\n",
    "import json\n",
    "import pandas as pd\n",
    "import re\n",
    "import io\n",
    "import time\n",
    "\n",
    "# https://criticalrole.fandom.com/wiki/Category:Transcripts\n",
    "# https://criticalrole.fandom.com/wiki/Category:Transcripts?from=Narrative+Telephone%2FTranscripts"
   ]
  },
  {
   "cell_type": "code",
   "execution_count": 5,
   "metadata": {},
   "outputs": [],
   "source": [
    "def save_text(url, filename, dir='data/critical_role/files/'):\n",
    "    try:\n",
    "        html = requests.get(url).text\n",
    "        soup = BeautifulSoup(html)\n",
    "\n",
    "        with open(dir + filename +'.txt', 'w') as file:\n",
    "            tags = soup.find('div', {'class':\"mw-parser-output\"}).find_all(['span', 'p'])\n",
    "            for tag in tags:\n",
    "                if tag.has_attr('class') and tag['class'][0] == \"mw-headline\":\n",
    "                    file.writelines('\\n<'+tag.text+'>\\n')\n",
    "                elif tag.name == 'p':\n",
    "                    file.writelines(tag.text)\n",
    "                    # print(tag)\n",
    "        return filename\n",
    "    except:\n",
    "        return f'Skipped {filename}'\n",
    "\n",
    "def get_transcript_link(url):\n",
    "    html = requests.get(url).text\n",
    "    soup = BeautifulSoup(html)\n",
    "    tags =  soup.findAll('a', {'class':\"external text\"})\n",
    "    for tag in tags:\n",
    "        if tag.text and tag['href'] and bool(re.search('TRANSCRIPT', tag.text)):\n",
    "            return tag['href']\n",
    "    return False\n",
    "\n",
    "def get_episodes(url):\n",
    "    links = []\n",
    "    html = requests.get(url).text\n",
    "    soup = BeautifulSoup(html)\n",
    "    tags = soup.findAll('li', {'class':'category-page__member'})\n",
    "    for tag in tags:\n",
    "        tag = tag.find('a')\n",
    "        if tag.text and tag['href'] and bool(re.search('Transcript', tag.text)):\n",
    "            links.append('https://criticalrole.fandom.com' + tag['href'])\n",
    "    return links"
   ]
  },
  {
   "cell_type": "markdown",
   "metadata": {},
   "source": [
    "# Main Loop"
   ]
  },
  {
   "cell_type": "code",
   "execution_count": 6,
   "metadata": {},
   "outputs": [],
   "source": [
    "def main():\n",
    "    urls = ['https://criticalrole.fandom.com/wiki/Category:Transcripts',\n",
    "            'https://criticalrole.fandom.com/wiki/Category:Transcripts?from=Narrative+Telephone%2FTranscripts']\n",
    "    for url in urls:\n",
    "        # print(url)\n",
    "        episodes = get_episodes(url)\n",
    "        # print(episodes)\n",
    "        for i in range(3):\n",
    "        # for i in range(len(episodes)):\n",
    "            url = episodes[-i]\n",
    "            filename = url.split('/')[-2]\n",
    "            # url = get_transcript_link(url)\n",
    "            save_text(url, filename=filename)\n",
    "            print(f'{i}/{len(episodes)}:\\t{filename}',end='\\r',flush=True)\n",
    "            time.sleep(0.5)\n",
    "        print(f'Site Episodes Done.', flush=True)\n",
    "        print('\\n ')"
   ]
  },
  {
   "cell_type": "code",
   "execution_count": 7,
   "metadata": {},
   "outputs": [
    {
     "name": "stdout",
     "output_type": "stream",
     "text": [
      "Site Episodes Done._Company_and_Music\n",
      "\n",
      " \n",
      "Site Episodes Done.Uncoveredends\n",
      "\n",
      " \n"
     ]
    }
   ],
   "source": [
    "main()"
   ]
  },
  {
   "cell_type": "code",
   "execution_count": null,
   "metadata": {},
   "outputs": [],
   "source": []
  }
 ],
 "metadata": {
  "kernelspec": {
   "display_name": "Python 3.10.4 ('regression')",
   "language": "python",
   "name": "python3"
  },
  "language_info": {
   "codemirror_mode": {
    "name": "ipython",
    "version": 3
   },
   "file_extension": ".py",
   "mimetype": "text/x-python",
   "name": "python",
   "nbconvert_exporter": "python",
   "pygments_lexer": "ipython3",
   "version": "3.10.4"
  },
  "orig_nbformat": 4,
  "vscode": {
   "interpreter": {
    "hash": "b834e98849dd830995cef45fef40061e933db58847d4cb56560919edabbced90"
   }
  }
 },
 "nbformat": 4,
 "nbformat_minor": 2
}
