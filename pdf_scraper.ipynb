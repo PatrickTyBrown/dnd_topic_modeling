{
 "cells": [
  {
   "cell_type": "code",
   "execution_count": 27,
   "metadata": {},
   "outputs": [],
   "source": [
    "from bs4 import BeautifulSoup\n",
    "import requests\n",
    "import json\n",
    "import pandas as pd\n",
    "import PyPDF2\n",
    "import re\n",
    "import io\n",
    "\n",
    "# https://maximumfun.org/podcasts/adventure-zone/?_post-type=transcript&_paged=1&_sort=date_asc"
   ]
  },
  {
   "cell_type": "code",
   "execution_count": 2,
   "metadata": {},
   "outputs": [],
   "source": [
    "html = requests.get('https://maximumfun.org/podcasts/adventure-zone/?_post-type=transcript&_sort=date_asc').text\n",
    "soup = BeautifulSoup(html)"
   ]
  },
  {
   "cell_type": "code",
   "execution_count": 14,
   "metadata": {},
   "outputs": [
    {
     "name": "stdout",
     "output_type": "stream",
     "text": [
      "https://maximumfun.org/transcripts/adventure-zone/here-there-be-gerblins-chapter-one/\n",
      "https://maximumfun.org/transcripts/adventure-zone/here-there-be-gerblins-chapter-two-transcript/\n",
      "https://maximumfun.org/transcripts/adventure-zone/here-there-be-gerblins-chapter-three-transcript/\n",
      "https://maximumfun.org/transcripts/adventure-zone/here-there-be-gerblins-chapter-four-transcript/\n",
      "https://maximumfun.org/transcripts/adventure-zone/here-there-be-gerblins-chapter-five-transcript/\n",
      "https://maximumfun.org/transcripts/adventure-zone/here-there-be-gerblins-chapter-five-transcript-2/\n",
      "https://maximumfun.org/transcripts/adventure-zone/moonlighting-chapter-one-transcript/\n",
      "https://maximumfun.org/transcripts/adventure-zone/moonlighting-chapter-two-transcript/\n",
      "https://maximumfun.org/transcripts/adventure-zone/moonlighting-chapter-three-transcript/\n",
      "https://maximumfun.org/transcripts/adventure-zone/transcript-the-adventure-zone-murder-on-the-rockport-limited-chapter-one/\n",
      "https://maximumfun.org/transcripts/adventure-zone/transcript-the-adventure-zone-murder-on-the-rockport-limited-chapter-two/\n",
      "https://maximumfun.org/transcripts/adventure-zone/transcript-the-adventure-zone-murder-on-the-rockport-limited-chapter-three/\n"
     ]
    }
   ],
   "source": [
    "for header in soup.findAll('h4'):\n",
    "    link = header.find('a')\n",
    "    if link and bool(re.search('TRANSCRIPT', link.text)):\n",
    "    \n",
    "        print(link['href'])"
   ]
  },
  {
   "cell_type": "code",
   "execution_count": 15,
   "metadata": {},
   "outputs": [],
   "source": [
    "html = requests.get('https://maximumfun.org/transcripts/adventure-zone/here-there-be-gerblins-chapter-one/').text\n",
    "soup = BeautifulSoup(html)"
   ]
  },
  {
   "cell_type": "code",
   "execution_count": 19,
   "metadata": {},
   "outputs": [
    {
     "name": "stdout",
     "output_type": "stream",
     "text": [
      "https://maximumfun.org/wp-content/uploads/2019/10/TAZ001-Balance01-Here-There-Be-Gerblins-Chapter-1.pdf\n",
      "https://maximumfun.org/wp-content/uploads/2019/10/TAZ001-Balance01-Here-There-Be-Gerblins-Chapter-1.pdf\n"
     ]
    }
   ],
   "source": [
    "for link in soup.findAll('a'):\n",
    "    if link and bool(re.search('Download', link.text)):\n",
    "    \n",
    "        print(link['href'])"
   ]
  },
  {
   "cell_type": "code",
   "execution_count": 20,
   "metadata": {},
   "outputs": [],
   "source": [
    "html = requests.get('https://maximumfun.org/wp-content/uploads/2019/10/TAZ001-Balance01-Here-There-Be-Gerblins-Chapter-1.pdf').text\n",
    "soup = BeautifulSoup(html)"
   ]
  },
  {
   "cell_type": "code",
   "execution_count": 23,
   "metadata": {},
   "outputs": [
    {
     "ename": "ValueError",
     "evalue": "embedded null byte",
     "output_type": "error",
     "traceback": [
      "\u001b[0;31m---------------------------------------------------------------------------\u001b[0m",
      "\u001b[0;31mValueError\u001b[0m                                Traceback (most recent call last)",
      "\u001b[1;32m/home/patrick/dnd_project/pdf_scraper.ipynb Cell 7\u001b[0m in \u001b[0;36m<cell line: 1>\u001b[0;34m()\u001b[0m\n\u001b[0;32m----> <a href='vscode-notebook-cell:/home/patrick/dnd_project/pdf_scraper.ipynb#X11sZmlsZQ%3D%3D?line=0'>1</a>\u001b[0m reader \u001b[39m=\u001b[39m PyPDF2\u001b[39m.\u001b[39;49mPdfReader(html)\n",
      "File \u001b[0;32m~/anaconda3/envs/regression/lib/python3.10/site-packages/PyPDF2/_reader.py:273\u001b[0m, in \u001b[0;36mPdfReader.__init__\u001b[0;34m(self, stream, strict, password)\u001b[0m\n\u001b[1;32m    267\u001b[0m     logger_warning(\n\u001b[1;32m    268\u001b[0m         \u001b[39m\"\u001b[39m\u001b[39mPdfReader stream/file object is not in binary mode. \u001b[39m\u001b[39m\"\u001b[39m\n\u001b[1;32m    269\u001b[0m         \u001b[39m\"\u001b[39m\u001b[39mIt may not be read correctly.\u001b[39m\u001b[39m\"\u001b[39m,\n\u001b[1;32m    270\u001b[0m         \u001b[39m__name__\u001b[39m,\n\u001b[1;32m    271\u001b[0m     )\n\u001b[1;32m    272\u001b[0m \u001b[39mif\u001b[39;00m \u001b[39misinstance\u001b[39m(stream, (\u001b[39mstr\u001b[39m, Path)):\n\u001b[0;32m--> 273\u001b[0m     \u001b[39mwith\u001b[39;00m \u001b[39mopen\u001b[39;49m(stream, \u001b[39m\"\u001b[39;49m\u001b[39mrb\u001b[39;49m\u001b[39m\"\u001b[39;49m) \u001b[39mas\u001b[39;00m fh:\n\u001b[1;32m    274\u001b[0m         stream \u001b[39m=\u001b[39m BytesIO(fh\u001b[39m.\u001b[39mread())\n\u001b[1;32m    275\u001b[0m \u001b[39mself\u001b[39m\u001b[39m.\u001b[39mread(stream)\n",
      "\u001b[0;31mValueError\u001b[0m: embedded null byte"
     ]
    }
   ],
   "source": [
    "reader = PyPDF2.PdfReader(html)"
   ]
  },
  {
   "cell_type": "code",
   "execution_count": 41,
   "metadata": {},
   "outputs": [],
   "source": [
    "remote_file = requests.get('https://maximumfun.org/wp-content/uploads/2019/10/TAZ001-Balance01-Here-There-Be-Gerblins-Chapter-1.pdf').content\n",
    "# with open('test.pdf', 'wb') as file:\n",
    "#     file.write(remote_file)\n",
    "memory_file = io.BytesIO(remote_file)\n",
    "reader = PyPDF2.PdfFileReader(memory_file)\n",
    "\n",
    "\n",
    "# reader = PyPDF2.PdfFileReader('test.pdf')"
   ]
  },
  {
   "cell_type": "code",
   "execution_count": 47,
   "metadata": {},
   "outputs": [
    {
     "data": {
      "text/plain": [
       "'TAZ001-Balance01-Here-There-Be-Gerblins-Chapter-1'"
      ]
     },
     "execution_count": 47,
     "metadata": {},
     "output_type": "execute_result"
    }
   ],
   "source": [
    "text = 'https://maximumfun.org/wp-content/uploads/2019/10/TAZ001-Balance01-Here-There-Be-Gerblins-Chapter-1.pdf'\n",
    "text.split('/')[-1][:-4]"
   ]
  },
  {
   "cell_type": "code",
   "execution_count": 43,
   "metadata": {},
   "outputs": [],
   "source": [
    "with open('test.pdf', 'wb') as file:\n",
    "    file.write(remote_file)"
   ]
  },
  {
   "cell_type": "code",
   "execution_count": 33,
   "metadata": {},
   "outputs": [
    {
     "data": {
      "text/plain": [
       "' \\nTravis :  What?  \\n \\nGrif fin:  We just, I… Maybe you‘re not ready for this.  \\n \\nTravis :  Well, I mean — \\n \\nGriffin :  [laughing]  Maybe you‘re not —maybe you‘re not ready for the D&D \\nacumen that I‘m bringing to the table.  \\n \\nJustin :  I played one time, twice.  \\n \\nGriffin :  Okay. So the two time s, then.  \\n \\nClint :  I‘ve never played in my entire life.  \\n \\nGriffin :  You‘re the biggest goddamn nerd I‘ve ever met!  \\n \\nClint :  I know, and how did this happen?  \\n \\nGriffin :  I don‘t know, you should — \\n \\nTravis :  Was it something you actively avoided? ‗Cause that‘s w hat I did for \\na while, where I was — \\n \\nGriffin :  Yeah.  \\n \\nTravis :  I just wasn‘t willing to take that step.  \\n \\nClint :  I just never had anybody who was interested in it besides me.  \\n \\nGriffin :  But you, like, came up in the  Gygax  era! You — \\n \\nClint :  Oh yeah.  \\n \\nGriff in:  You were in the — '"
      ]
     },
     "execution_count": 33,
     "metadata": {},
     "output_type": "execute_result"
    }
   ],
   "source": [
    "reader.getPage(2).extractText()"
   ]
  },
  {
   "cell_type": "code",
   "execution_count": 40,
   "metadata": {},
   "outputs": [],
   "source": [
    "with open('test.txt', 'w') as file:\n",
    "    for page in reader.pages:\n",
    "        # print(page.extractText()[:5])\n",
    "        file.writelines(page.extractText())"
   ]
  }
 ],
 "metadata": {
  "kernelspec": {
   "display_name": "Python 3.10.4 ('regression')",
   "language": "python",
   "name": "python3"
  },
  "language_info": {
   "codemirror_mode": {
    "name": "ipython",
    "version": 3
   },
   "file_extension": ".py",
   "mimetype": "text/x-python",
   "name": "python",
   "nbconvert_exporter": "python",
   "pygments_lexer": "ipython3",
   "version": "3.10.4"
  },
  "orig_nbformat": 4,
  "vscode": {
   "interpreter": {
    "hash": "b834e98849dd830995cef45fef40061e933db58847d4cb56560919edabbced90"
   }
  }
 },
 "nbformat": 4,
 "nbformat_minor": 2
}
