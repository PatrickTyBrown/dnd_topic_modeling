{
 "cells": [
  {
   "cell_type": "code",
   "execution_count": 1,
   "metadata": {},
   "outputs": [],
   "source": [
    "import pandas as pd\n",
    "import regex as re\n",
    "import os"
   ]
  },
  {
   "cell_type": "markdown",
   "metadata": {},
   "source": [
    "## Testing"
   ]
  },
  {
   "cell_type": "code",
   "execution_count": 15,
   "metadata": {},
   "outputs": [],
   "source": [
    "text = open('data/dimension_20/files/A_Bloom_to_Remember.txt', 'r').read()"
   ]
  },
  {
   "cell_type": "code",
   "execution_count": 23,
   "metadata": {},
   "outputs": [],
   "source": [
    "data = []\n",
    "rows = re.split(':', text)\n",
    "for i in range(len(rows)):\n",
    "    row = rows[i]\n",
    "    row = re.split('\\n',row)\n",
    "    data.append([i,row[-1], ''.join(row[:-1])])\n",
    "# data"
   ]
  },
  {
   "cell_type": "markdown",
   "metadata": {},
   "source": [
    "## Save D20 Data"
   ]
  },
  {
   "cell_type": "code",
   "execution_count": 39,
   "metadata": {},
   "outputs": [
    {
     "data": {
      "text/html": [
       "<div>\n",
       "<style scoped>\n",
       "    .dataframe tbody tr th:only-of-type {\n",
       "        vertical-align: middle;\n",
       "    }\n",
       "\n",
       "    .dataframe tbody tr th {\n",
       "        vertical-align: top;\n",
       "    }\n",
       "\n",
       "    .dataframe thead th {\n",
       "        text-align: right;\n",
       "    }\n",
       "</style>\n",
       "<table border=\"1\" class=\"dataframe\">\n",
       "  <thead>\n",
       "    <tr style=\"text-align: right;\">\n",
       "      <th></th>\n",
       "      <th>episode</th>\n",
       "      <th>line</th>\n",
       "      <th>char</th>\n",
       "      <th>text</th>\n",
       "    </tr>\n",
       "  </thead>\n",
       "  <tbody>\n",
       "    <tr>\n",
       "      <th>318279</th>\n",
       "      <td>The_Kevin_Bacon_of_Crime.txt</td>\n",
       "      <td>457</td>\n",
       "      <td>Brennan</td>\n",
       "      <td>Oh my God. Gang, this has been Adventuring Pa...</td>\n",
       "    </tr>\n",
       "    <tr>\n",
       "      <th>318280</th>\n",
       "      <td>The_Kevin_Bacon_of_Crime.txt</td>\n",
       "      <td>458</td>\n",
       "      <td>Rekha</td>\n",
       "      <td>What a terrible episode. I'm just screaming, ...</td>\n",
       "    </tr>\n",
       "    <tr>\n",
       "      <th>318281</th>\n",
       "      <td>The_Kevin_Bacon_of_Crime.txt</td>\n",
       "      <td>459</td>\n",
       "      <td>Brennan</td>\n",
       "      <td>No, it's... This was great.</td>\n",
       "    </tr>\n",
       "    <tr>\n",
       "      <th>318282</th>\n",
       "      <td>The_Kevin_Bacon_of_Crime.txt</td>\n",
       "      <td>460</td>\n",
       "      <td>Katie</td>\n",
       "      <td>We all were. Bye.</td>\n",
       "    </tr>\n",
       "    <tr>\n",
       "      <th>318283</th>\n",
       "      <td>The_Kevin_Bacon_of_Crime.txt</td>\n",
       "      <td>461</td>\n",
       "      <td>Brennan</td>\n",
       "      <td>Goodbye, see you next time, farewell.</td>\n",
       "    </tr>\n",
       "  </tbody>\n",
       "</table>\n",
       "</div>"
      ],
      "text/plain": [
       "                             episode  line     char  \\\n",
       "318279  The_Kevin_Bacon_of_Crime.txt   457  Brennan   \n",
       "318280  The_Kevin_Bacon_of_Crime.txt   458    Rekha   \n",
       "318281  The_Kevin_Bacon_of_Crime.txt   459  Brennan   \n",
       "318282  The_Kevin_Bacon_of_Crime.txt   460    Katie   \n",
       "318283  The_Kevin_Bacon_of_Crime.txt   461  Brennan   \n",
       "\n",
       "                                                     text  \n",
       "318279   Oh my God. Gang, this has been Adventuring Pa...  \n",
       "318280   What a terrible episode. I'm just screaming, ...  \n",
       "318281                       No, it's... This was great.   \n",
       "318282                                 We all were. Bye.   \n",
       "318283              Goodbye, see you next time, farewell.  "
      ]
     },
     "execution_count": 39,
     "metadata": {},
     "output_type": "execute_result"
    }
   ],
   "source": [
    "file_dir = 'data/dimension_20/files/'\n",
    "dest_dir = 'data/dimension_20/'\n",
    "data = []\n",
    "\n",
    "for filename in os.listdir(file_dir):\n",
    "    text = open(file_dir+filename, 'r').read()  \n",
    "    rows = re.split(':', text)\n",
    "    for i in range(len(rows)):\n",
    "        row = rows[i]\n",
    "        row = re.split('\\n',row)\n",
    "        data.append([filename, i,row[-1], ''.join(row[:-1])])\n",
    "\n",
    "df = pd.DataFrame(data, columns=['episode', 'line', 'char', 'text'])\n",
    "# df.info()\n",
    "df.char = df.char.shift(1)\n",
    "df.drop(0,axis=0, inplace=True)\n",
    "df.tail()"
   ]
  },
  {
   "cell_type": "code",
   "execution_count": 40,
   "metadata": {},
   "outputs": [],
   "source": [
    "df.to_csv(dest_dir+'dimension_20.csv')"
   ]
  },
  {
   "cell_type": "markdown",
   "metadata": {},
   "source": [
    "## Save Adventure Zone Data"
   ]
  },
  {
   "cell_type": "code",
   "execution_count": 41,
   "metadata": {},
   "outputs": [
    {
     "data": {
      "text/html": [
       "<div>\n",
       "<style scoped>\n",
       "    .dataframe tbody tr th:only-of-type {\n",
       "        vertical-align: middle;\n",
       "    }\n",
       "\n",
       "    .dataframe tbody tr th {\n",
       "        vertical-align: top;\n",
       "    }\n",
       "\n",
       "    .dataframe thead th {\n",
       "        text-align: right;\n",
       "    }\n",
       "</style>\n",
       "<table border=\"1\" class=\"dataframe\">\n",
       "  <thead>\n",
       "    <tr style=\"text-align: right;\">\n",
       "      <th></th>\n",
       "      <th>episode</th>\n",
       "      <th>line</th>\n",
       "      <th>char</th>\n",
       "      <th>text</th>\n",
       "    </tr>\n",
       "  </thead>\n",
       "  <tbody>\n",
       "    <tr>\n",
       "      <th>139426</th>\n",
       "      <td>TAZ227-Ethersea40-Episode-35.txt</td>\n",
       "      <td>759</td>\n",
       "      <td>Griffin</td>\n",
       "      <td>What usually happens with you when you cast ...</td>\n",
       "    </tr>\n",
       "    <tr>\n",
       "      <th>139427</th>\n",
       "      <td>TAZ227-Ethersea40-Episode-35.txt</td>\n",
       "      <td>760</td>\n",
       "      <td>Clint</td>\n",
       "      <td>Usually can se nd like an image into the bea...</td>\n",
       "    </tr>\n",
       "    <tr>\n",
       "      <th>139428</th>\n",
       "      <td>TAZ227-Ethersea40-Episode-35.txt</td>\n",
       "      <td>761</td>\n",
       "      <td>Griffin</td>\n",
       "      <td>Okay. Something different happens this time.</td>\n",
       "    </tr>\n",
       "    <tr>\n",
       "      <th>139429</th>\n",
       "      <td>TAZ227-Ethersea40-Episode-35.txt</td>\n",
       "      <td>762</td>\n",
       "      <td>Clint</td>\n",
       "      <td>Okay.</td>\n",
       "    </tr>\n",
       "    <tr>\n",
       "      <th>139430</th>\n",
       "      <td>TAZ227-Ethersea40-Episode-35.txt</td>\n",
       "      <td>763</td>\n",
       "      <td>Griffin</td>\n",
       "      <td>Your mind is flooded with… a language that d...</td>\n",
       "    </tr>\n",
       "  </tbody>\n",
       "</table>\n",
       "</div>"
      ],
      "text/plain": [
       "                                 episode  line     char  \\\n",
       "139426  TAZ227-Ethersea40-Episode-35.txt   759  Griffin   \n",
       "139427  TAZ227-Ethersea40-Episode-35.txt   760    Clint   \n",
       "139428  TAZ227-Ethersea40-Episode-35.txt   761  Griffin   \n",
       "139429  TAZ227-Ethersea40-Episode-35.txt   762    Clint   \n",
       "139430  TAZ227-Ethersea40-Episode-35.txt   763  Griffin   \n",
       "\n",
       "                                                     text  \n",
       "139426    What usually happens with you when you cast ...  \n",
       "139427    Usually can se nd like an image into the bea...  \n",
       "139428    Okay. Something different happens this time.     \n",
       "139429                                           Okay.     \n",
       "139430    Your mind is flooded with… a language that d...  "
      ]
     },
     "execution_count": 41,
     "metadata": {},
     "output_type": "execute_result"
    }
   ],
   "source": [
    "file_dir = 'data/adventure_zone/files/'\n",
    "dest_dir = 'data/adventure_zone/'\n",
    "data = []\n",
    "\n",
    "for filename in os.listdir(file_dir):\n",
    "    text = open(file_dir+filename, 'r').read()  \n",
    "    rows = re.split(':', text)\n",
    "    for i in range(len(rows)):\n",
    "        row = rows[i]\n",
    "        row = re.split('\\n',row)\n",
    "        data.append([filename, i,row[-1], ''.join(row[:-1])])\n",
    "\n",
    "df = pd.DataFrame(data, columns=['episode', 'line', 'char', 'text'])\n",
    "# df.info()\n",
    "df.char = df.char.shift(1)\n",
    "df.drop(0,axis=0, inplace=True)\n",
    "df.tail()"
   ]
  },
  {
   "cell_type": "code",
   "execution_count": 42,
   "metadata": {},
   "outputs": [],
   "source": [
    "df.to_csv(dest_dir+'adventure_zone.csv')"
   ]
  },
  {
   "cell_type": "markdown",
   "metadata": {},
   "source": [
    "## Save Critical Role Data"
   ]
  },
  {
   "cell_type": "code",
   "execution_count": 50,
   "metadata": {},
   "outputs": [
    {
     "data": {
      "text/html": [
       "<div>\n",
       "<style scoped>\n",
       "    .dataframe tbody tr th:only-of-type {\n",
       "        vertical-align: middle;\n",
       "    }\n",
       "\n",
       "    .dataframe tbody tr th {\n",
       "        vertical-align: top;\n",
       "    }\n",
       "\n",
       "    .dataframe thead th {\n",
       "        text-align: right;\n",
       "    }\n",
       "</style>\n",
       "<table border=\"1\" class=\"dataframe\">\n",
       "  <thead>\n",
       "    <tr style=\"text-align: right;\">\n",
       "      <th></th>\n",
       "      <th>episode</th>\n",
       "      <th>line</th>\n",
       "      <th>char</th>\n",
       "      <th>text</th>\n",
       "    </tr>\n",
       "  </thead>\n",
       "  <tbody>\n",
       "    <tr>\n",
       "      <th>1</th>\n",
       "      <td>The_Echo_Tree.txt</td>\n",
       "      <td>1</td>\n",
       "      <td>MATT</td>\n",
       "      <td>And welcome back to tonight's episode. So, pi...</td>\n",
       "    </tr>\n",
       "    <tr>\n",
       "      <th>2</th>\n",
       "      <td>The_Echo_Tree.txt</td>\n",
       "      <td>2</td>\n",
       "      <td>LAURA</td>\n",
       "      <td>Yeah.</td>\n",
       "    </tr>\n",
       "    <tr>\n",
       "      <th>3</th>\n",
       "      <td>The_Echo_Tree.txt</td>\n",
       "      <td>3</td>\n",
       "      <td>MATT</td>\n",
       "      <td>It's been a long week. However, you guys have...</td>\n",
       "    </tr>\n",
       "    <tr>\n",
       "      <th>4</th>\n",
       "      <td>The_Echo_Tree.txt</td>\n",
       "      <td>4</td>\n",
       "      <td>LAURA</td>\n",
       "      <td>Ahh, totally.</td>\n",
       "    </tr>\n",
       "    <tr>\n",
       "      <th>5</th>\n",
       "      <td>The_Echo_Tree.txt</td>\n",
       "      <td>5</td>\n",
       "      <td>MATT</td>\n",
       "      <td>Just like that. (laughs) We're all having Gen...</td>\n",
       "    </tr>\n",
       "  </tbody>\n",
       "</table>\n",
       "</div>"
      ],
      "text/plain": [
       "             episode  line   char  \\\n",
       "1  The_Echo_Tree.txt     1   MATT   \n",
       "2  The_Echo_Tree.txt     2  LAURA   \n",
       "3  The_Echo_Tree.txt     3   MATT   \n",
       "4  The_Echo_Tree.txt     4  LAURA   \n",
       "5  The_Echo_Tree.txt     5   MATT   \n",
       "\n",
       "                                                text  \n",
       "1   And welcome back to tonight's episode. So, pi...  \n",
       "2                                              Yeah.  \n",
       "3   It's been a long week. However, you guys have...  \n",
       "4                                      Ahh, totally.  \n",
       "5   Just like that. (laughs) We're all having Gen...  "
      ]
     },
     "execution_count": 50,
     "metadata": {},
     "output_type": "execute_result"
    }
   ],
   "source": [
    "file_dir = 'data/critical_role/files/'\n",
    "dest_dir = 'data/critical_role/'\n",
    "data = []\n",
    "\n",
    "for filename in os.listdir(file_dir):\n",
    "    text = open(file_dir+filename, 'r').read()  \n",
    "    if text.find('<Part I>'):\n",
    "        text = ''.join(text.split('<Part I>')[1:])\n",
    "    rows = re.split(':', text)\n",
    "    for i in range(len(rows)):\n",
    "        row = rows[i]\n",
    "        row = re.split('\\n',row)\n",
    "        data.append([filename, i,row[-1], ''.join(row[:-1])])\n",
    "\n",
    "df = pd.DataFrame(data, columns=['episode', 'line', 'char', 'text'])\n",
    "# df.info()\n",
    "df.char = df.char.shift(1)\n",
    "df.drop(0,axis=0, inplace=True)\n",
    "df.head()"
   ]
  },
  {
   "cell_type": "code",
   "execution_count": 51,
   "metadata": {},
   "outputs": [],
   "source": [
    "df.to_csv(dest_dir+'critical_role.csv')"
   ]
  }
 ],
 "metadata": {
  "kernelspec": {
   "display_name": "Python 3.10.4 ('nlp')",
   "language": "python",
   "name": "python3"
  },
  "language_info": {
   "codemirror_mode": {
    "name": "ipython",
    "version": 3
   },
   "file_extension": ".py",
   "mimetype": "text/x-python",
   "name": "python",
   "nbconvert_exporter": "python",
   "pygments_lexer": "ipython3",
   "version": "3.10.4"
  },
  "orig_nbformat": 4,
  "vscode": {
   "interpreter": {
    "hash": "a24391615d34d2370e8c71feacd6926470ad51e93ade7b45ebeb03fab8fdaada"
   }
  }
 },
 "nbformat": 4,
 "nbformat_minor": 2
}
