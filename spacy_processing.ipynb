{
 "cells": [
  {
   "cell_type": "code",
   "execution_count": 1,
   "metadata": {},
   "outputs": [
    {
     "name": "stderr",
     "output_type": "stream",
     "text": [
      "2022-08-28 16:17:09.500657: W tensorflow/stream_executor/platform/default/dso_loader.cc:64] Could not load dynamic library 'libcudart.so.11.0'; dlerror: libcudart.so.11.0: cannot open shared object file: No such file or directory\n",
      "2022-08-28 16:17:09.500782: I tensorflow/stream_executor/cuda/cudart_stub.cc:29] Ignore above cudart dlerror if you do not have a GPU set up on your machine.\n"
     ]
    },
    {
     "data": {
      "text/plain": [
       "<coreferee.manager.CorefereeBroker at 0x7f8ef3f30e50>"
      ]
     },
     "execution_count": 1,
     "metadata": {},
     "output_type": "execute_result"
    }
   ],
   "source": [
    "import json\n",
    "import os\n",
    "import random\n",
    "import pandas as pd\n",
    "import numpy as np\n",
    "import spacy\n",
    "import coreferee\n",
    "nlp = spacy.load('en_core_web_trf')\n",
    "nlp.add_pipe('coreferee')"
   ]
  },
  {
   "cell_type": "code",
   "execution_count": 2,
   "metadata": {},
   "outputs": [
    {
     "name": "stdout",
     "output_type": "stream",
     "text": [
      "C1E057_4_0.json\n",
      "C1E017_4_0.json\n",
      "(1835, 1)\n"
     ]
    },
    {
     "data": {
      "text/html": [
       "<div>\n",
       "<style scoped>\n",
       "    .dataframe tbody tr th:only-of-type {\n",
       "        vertical-align: middle;\n",
       "    }\n",
       "\n",
       "    .dataframe tbody tr th {\n",
       "        vertical-align: top;\n",
       "    }\n",
       "\n",
       "    .dataframe thead th {\n",
       "        text-align: right;\n",
       "    }\n",
       "</style>\n",
       "<table border=\"1\" class=\"dataframe\">\n",
       "  <thead>\n",
       "    <tr style=\"text-align: right;\">\n",
       "      <th></th>\n",
       "      <th>0</th>\n",
       "    </tr>\n",
       "  </thead>\n",
       "  <tbody>\n",
       "    <tr>\n",
       "      <th>0</th>\n",
       "      <td>Hello everyone! Welcome to Critical Role. Afte...</td>\n",
       "    </tr>\n",
       "    <tr>\n",
       "      <th>1</th>\n",
       "      <td>Welcome back. All right, this is Critical Role...</td>\n",
       "    </tr>\n",
       "    <tr>\n",
       "      <th>2</th>\n",
       "      <td>Maybe next time all of us could go? You guys s...</td>\n",
       "    </tr>\n",
       "    <tr>\n",
       "      <th>3</th>\n",
       "      <td>Oh man, a Down Under Kiwi trip for all Critica...</td>\n",
       "    </tr>\n",
       "    <tr>\n",
       "      <th>4</th>\n",
       "      <td>Your \"Con-gressman.\"</td>\n",
       "    </tr>\n",
       "  </tbody>\n",
       "</table>\n",
       "</div>"
      ],
      "text/plain": [
       "                                                   0\n",
       "0  Hello everyone! Welcome to Critical Role. Afte...\n",
       "1  Welcome back. All right, this is Critical Role...\n",
       "2  Maybe next time all of us could go? You guys s...\n",
       "3  Oh man, a Down Under Kiwi trip for all Critica...\n",
       "4                               Your \"Con-gressman.\""
      ]
     },
     "execution_count": 2,
     "metadata": {},
     "output_type": "execute_result"
    }
   ],
   "source": [
    "def create_df_multi(n):\n",
    "    list_of_text = []\n",
    "    dir = 'data/aligned data/c=4'\n",
    "\n",
    "    for i in range(n):\n",
    "        choice = random.choice(os.listdir(dir))\n",
    "        print(choice)\n",
    "        f = open(dir+'/'+choice)\n",
    "        data = json.load(f)\n",
    "        choice = random.choice(os.listdir(dir))\n",
    "        print(choice)\n",
    "        f = open(dir+'/'+choice)\n",
    "        data = json.load(f)\n",
    "\n",
    "        for x in data:\n",
    "            for y in x['TURNS']:\n",
    "                text = ' '.join(y['UTTERANCES'])\n",
    "                list_of_text.append(text)\n",
    "    df = pd.DataFrame(list_of_text)\n",
    "    return df\n",
    "df = create_df_multi(1)\n",
    "print(df.shape)\n",
    "df.head()"
   ]
  },
  {
   "cell_type": "code",
   "execution_count": 3,
   "metadata": {},
   "outputs": [
    {
     "name": "stdout",
     "output_type": "stream",
     "text": [
      "C1E013_4_3.json\n",
      "C1E029_4_2.json\n"
     ]
    },
    {
     "name": "stderr",
     "output_type": "stream",
     "text": [
      "/home/patrick/anaconda3/envs/metis/lib/python3.10/site-packages/torch/amp/autocast_mode.py:198: UserWarning: User provided device_type of 'cuda', but CUDA is not available. Disabling\n",
      "  warnings.warn('User provided device_type of \\'cuda\\', but CUDA is not available. Disabling')\n"
     ]
    }
   ],
   "source": [
    "# nlp = spacy.load(\"en_core_web_sm\")\n",
    "\n",
    "def create_doc_multi(n):\n",
    "    full_text = \"\"\n",
    "    dir = 'data/aligned data/c=4'\n",
    "\n",
    "    for i in range(n):\n",
    "        choice = random.choice(os.listdir(dir))\n",
    "        print(choice)\n",
    "        f = open(dir+'/'+choice)\n",
    "        data = json.load(f)\n",
    "        choice = random.choice(os.listdir(dir))\n",
    "        print(choice)\n",
    "        f = open(dir+'/'+choice)\n",
    "        data = json.load(f)\n",
    "\n",
    "        for x in data:\n",
    "            for y in x['TURNS']:\n",
    "                text = ' '.join(y['UTTERANCES'])\n",
    "                full_text += text + \" \"\n",
    "            full_text += \" <!> \"\n",
    "    doc = nlp(full_text)\n",
    "    return doc\n",
    "\n",
    "doc = create_doc_multi(1)"
   ]
  },
  {
   "cell_type": "code",
   "execution_count": 8,
   "metadata": {},
   "outputs": [
    {
     "name": "stdout",
     "output_type": "stream",
     "text": [
      "893\n"
     ]
    },
    {
     "data": {
      "text/plain": [
       "<function coreferee.data_model.ChainHolder.resolve(token: spacy.tokens.token.Token) -> Optional[List[spacy.tokens.token.Token]]>"
      ]
     },
     "execution_count": 8,
     "metadata": {},
     "output_type": "execute_result"
    }
   ],
   "source": [
    "print(len(doc._.coref_chains))\n",
    "doc._.coref_chains.resolve"
   ]
  },
  {
   "cell_type": "markdown",
   "metadata": {},
   "source": [
    "### Resolving coreferences"
   ]
  },
  {
   "cell_type": "code",
   "execution_count": 57,
   "metadata": {},
   "outputs": [],
   "source": [
    "new_text = \"\"\n",
    "for i  in range(len(doc)):\n",
    "    tokens = doc[i]\n",
    "    if doc._.coref_chains.resolve(tokens):\n",
    "        new_text += doc._.coref_chains.resolve(tokens)[0].text\n",
    "    else:\n",
    "        new_text += tokens.text\n",
    "    new_text+= \" \""
   ]
  },
  {
   "cell_type": "code",
   "execution_count": 58,
   "metadata": {},
   "outputs": [
    {
     "name": "stderr",
     "output_type": "stream",
     "text": [
      "/home/patrick/anaconda3/envs/metis/lib/python3.10/site-packages/torch/amp/autocast_mode.py:198: UserWarning: User provided device_type of 'cuda', but CUDA is not available. Disabling\n",
      "  warnings.warn('User provided device_type of \\'cuda\\', but CUDA is not available. Disabling')\n"
     ]
    }
   ],
   "source": [
    "new_doc = nlp(new_text)"
   ]
  },
  {
   "cell_type": "code",
   "execution_count": 31,
   "metadata": {},
   "outputs": [],
   "source": [
    "doc._.coref_chains.resolve(doc[38])"
   ]
  },
  {
   "cell_type": "code",
   "execution_count": 60,
   "metadata": {},
   "outputs": [
    {
     "name": "stdout",
     "output_type": "stream",
     "text": [
      "0: Hoomanism(253), Hoomanism(260)\n",
      "1: Joe(630), Joe(637)\n",
      "2: Joe(690), Joe(692), Joe(698)\n",
      "3: BattleChasers(712), BattleChasers(723), BattleChasers(733), BattleChasers(747)\n",
      "4: game(739), game(767)\n",
      "5: Blindspot(838), Blindspot(872)\n",
      "6: Blindspot(926), Blindspot(960)\n",
      "7: 826LA(1065), 826LA(1093)\n",
      "8: break(1079), break(1136)\n",
      "9: Zac(1344), Zac(1353), Zac(1360)\n",
      "10: Role(1421), Role(1428)\n",
      "11: gnome(1524), gnome(1534), gnome(1540)\n",
      "12: gnome(1546), gnome(1554)\n",
      "13: gnome(1563), gnome(1581), gnome(1590)\n",
      "14: week(2122), week(2153)\n",
      "15: Vax(2212), Vax(2217)\n",
      "16: week(2259), week(2290)\n",
      "17: Vax(2349), Vax(2354)\n",
      "18: door(2430), door(2445), door(2452)\n",
      "19: Asum(2578), Asum(2601), Asum(2618), Asum(2639)\n",
      "20: Asum(2675), Asum(2715), Asum(2736)\n",
      "21: Briarwoods(2811), Briarwoods(2842), Briarwoods(2853)\n",
      "22: Hasum(2949), Hasum(2952), Hasum(2957), Hasum(2960), Hasum(2966)\n",
      "23: Briarwood(3124), Briarwood(3131), Briarwood(3153), Briarwood(3165)\n",
      "24: Briarwood(3456), Briarwood(3470), Briarwood(3476), Briarwood(3479), Briarwood(3485)\n",
      "25: Vax(3563), Vax(3598), Vax(3608), Vax(3620)\n",
      "26: door(3779), door(3802), door(3819), door(3861), door(3908)\n",
      "27: Briarwood(3912), Briarwood(3926), Briarwood(3940), Briarwood(3960)\n",
      "28: Briarwood(3974), Briarwood(3988), Briarwood(4003)\n",
      "29: Briarwood(4204), Briarwood(4214)\n",
      "30: Uriel(4301), Uriel(4311)\n",
      "31: Uriel(4317), Uriel(4328), Uriel(4349)\n",
      "32: Luck(4463), Luck(4473)\n",
      "33: day(4466), day(4476)\n",
      "34: Uriel(4601), he(4631)\n",
      "35: Delilah(4758), Delilah(4788), Delilah(4791)\n",
      "36: iPhone(4830), iPhone(4834), iPhone(4841), iPhone(4851)\n",
      "37: Blight(4964), she(4977), Blight(4990)\n",
      "38: window(5368), window(5402)\n",
      "39: Jenga(5386), Jenga(5406), Jenga(5408)\n",
      "40: Briarwoods(5870), Briarwoods(5874)\n",
      "41: Briarwoods(5987), Briarwoods(6010)\n",
      "42: Fly(6097), Fly(6105)\n",
      "43: News(6193), News(6202), News(6205)\n",
      "44: Briarwoods(6431), Briarwoods(6438), Briarwoods(6465), Briarwoods(6481)\n",
      "45: Vax(6511), Vax(6516)\n",
      "46: Sylas(6518), Sylas(6523)\n",
      "47: Asum(6529), Asum(6537)\n",
      "48: Uriel(6638), Uriel(6649), Uriel(6652)\n",
      "49: door(6718), door(6722), door(6726)\n",
      "50: Delilah(6950), Delilah(6969)\n",
      "51: Delilah(6986), Delilah(6994), Delilah(7013), Delilah(7027)\n",
      "52: Briarwood(7067), Briarwood(7078), Briarwood(7087)\n",
      "53: he(7259), he(7278)\n",
      "54: he(7262), he(7294), he(7301)\n",
      "55: room(7282), room(7299), room(7318)\n",
      "56: Briarwood(7555), Briarwood(7563)\n",
      "57: Grog(7709), Grog(7768)\n",
      "58: Keyleth(7828), Keyleth(7834)\n",
      "59: room(8009), room(8026)\n",
      "60: Asum(8035), Asum(8046)\n",
      "61: Vax(8357), Vax(8370)\n",
      "62: him(8696), him(8701), him(8724), him(8754), him(8783)\n",
      "63: palace(8706), palace(8731)\n",
      "64: dinner(8710), dinner(8718)\n",
      "65: Tal'Dorei(8777), Tal'Dorei(8781)\n",
      "66: palace(8836), palace(8863), palace(8894)\n",
      "67: Briarwoods(8911), Briarwoods(8913)\n",
      "68: doors(9113), doors(9128)\n",
      "69: Asum(9177), Asum(9190)\n",
      "70: Asum(9305), Asum(9318), Asum(9336)\n",
      "71: Percy(9365), Percy(9376)\n",
      "72: Seeker(9527), Seeker(9529), Seeker(9532), Seeker(9537), Seeker(9542), Seeker(9550), Seeker(9555), Seeker(9561)\n",
      "73: Asum(9530), Asum(9535)\n",
      "74: Asum(9660), Asum(9662), Asum(9667), Asum(9675), Asum(9680), Asum(9686), Asum(9741)\n",
      "75: Sylas(9861), Sylas(9876), Sylas(9883), Sylas(9889)\n",
      "76: Seeker(9872), Seeker(9898), Seeker(9908)\n",
      "77: Asum(9915), Asum(9928), Asum(9934), Asum(9950), Asum(9965), Asum(9976), Asum(9988)\n",
      "78: Scanlan(10113), Scanlan(10153), Scanlan(10161)\n",
      "79: Vex(10416), Vex(10421)\n",
      "80: Trinket(10424), Trinket(10431), Trinket(10440), Trinket(10442)\n",
      "81: Briarwood(10569), Briarwood(10577)\n",
      "82: Briarwood(10763), Briarwood(10770), Briarwood(10772)\n",
      "83: her(10809), her(10813)\n",
      "84: Briarwood(10851), Briarwood(10859), Briarwood(10873)\n",
      "85: Hunter(11022), Hunter(11027), Hunter(11041), Hunter(11050), Hunter(11055)\n",
      "86: Asum(11104), Asum(11110), person(11130)\n",
      "87: Delilah(11161), Delilah(11163), Delilah(11180), Delilah(11183), Delilah(11208)\n",
      "88: Delilah(11243), Delilah(11252), Delilah(11260)\n",
      "89: her(11370), her(11457)\n",
      "90: Grog(11507), Grog(11512)\n",
      "91: Briarwood(11840), Briarwood(11846), Briarwood(11858)\n",
      "92: Vax(11979), Vax(11991)\n",
      "93: Tiberius(12044), Tiberius(12050)\n",
      "94: Warhammer(12095), Warhammer(12103), Warhammer(12107), Warhammer(12112), Warhammer(12124), Warhammer(12126), Warhammer(12133), Warhammer(12139), Warhammer(12149)\n",
      "95: Chain(12164), Chain(12176), Chain(12186), Chain(12192), Chain(12208), Chain(12216)\n",
      "96: him(12532), him(12562)\n",
      "97: that(12635), it(12644)\n",
      "98: Five(12726), it(12741)\n",
      "99: five(12751), it(12756)\n",
      "100: DC(12976), DC(12983)\n",
      "101: She(13028), She(13041)\n",
      "102: She(13048), She(13056), She(13061), She(13071), She(13100), She(13155)\n",
      "103: second(13076), She(13128), She(13149)\n",
      "104: glass(13092), glass(13112), glass(13125)\n",
      "105: Briarwoods(13194), Briarwoods(13200), Briarwoods(13208), Briarwoods(13245), Briarwoods(13265)\n",
      "106: Crown(13322), Crown(13334), Crown(13348)\n",
      "107: Briarwood(13398), Briarwood(13405)\n",
      "108: Briarwood(13421), Briarwood(13426), Briarwood(13465)\n",
      "109: shot(13866), shot(13875)\n",
      "110: Briarwood(13886), Briarwood(13909), Briarwood(13964), Briarwood(14001), Briarwood(14005)\n",
      "111: Briarwood(14046), Briarwood(14052)\n",
      "112: Briarwood(14117), Briarwood(14171)\n",
      "113: Seeker(14290), Seeker(14320)\n",
      "114: Briarwood(14436), Briarwood(14453)\n",
      "115: he(14491), he(14497)\n",
      "116: Sylas(14505), Sylas(14527)\n",
      "117: guy(14591), his(14614), his(14646), his(14684)\n",
      "118: guy(14596), his(14607)\n",
      "119: his(14724), his(14736)\n",
      "120: Briarwood(14783), Briarwood(14793), Briarwood(14824)\n",
      "121: Briarwood(14906), Briarwood(14916), Briarwood(14947)\n",
      "122: Briarwood(15029), Briarwood(15039), Briarwood(15070)\n",
      "123: Briarwood(15152), Briarwood(15162), Briarwood(15193)\n",
      "124: him(15274), him(15303)\n",
      "125: Scanlan(15286), Scanlan(15292)\n",
      "126: Word(15544), Word(15555), Word(15562)\n",
      "127: Vax(15582), Vax(15586)\n",
      "128: Trinket(16268), Trinket(16270), Trinket(16277)\n",
      "129: Delilah(16315), Delilah(16335), she(16344), she(16370)\n",
      "130: end(16752), she(16783), she(16788)\n",
      "131: Sylas(17057), Sylas(17062)\n",
      "132: him(17143), him(17166)\n",
      "133: Lightning(17297), She(17312), She(17330)\n",
      "134: She(17338), She(17368)\n",
      "135: bolt(17365), bolt(17373)\n",
      "136: counter(17369), She(17388), She(17393)\n",
      "137: Awesome(17463), Awesome(17467)\n",
      "138: Delilah(17519), Delilah(17523)\n",
      "139: her(17652), her(17659)\n",
      "140: bed(17801), bed(17834)\n",
      "141: his(17867), his(17871), his(17881), his(17887)\n",
      "142: dragon(17893), his(17900)\n",
      "143: Briarwood(17926), Briarwood(17965), Briarwood(17974), Briarwood(18002), Briarwood(18011)\n",
      "144: Briarwood(18062), Briarwood(18101), Briarwood(18110), Briarwood(18138), Briarwood(18147)\n",
      "145: Percy(18197), Percy(18199)\n",
      "146: News(18359), News(18363), News(18371)\n",
      "147: shot(18445), shot(18497)\n",
      "148: News(18465), News(18494)\n",
      "149: Sylas(18510), Sylas(18525), Sylas(18536), Sylas(18552)\n",
      "150: Sylas(18616), Sylas(18678)\n",
      "151: back(18651), back(18669)\n",
      "152: Uriel(18684), Uriel(18690)\n",
      "153: Briarwood(19011), Briarwood(19018)\n",
      "154: ground(19035), ground(19049)\n",
      "155: ground(19092), ground(19106)\n",
      "156: vicinity(19248), vicinity(19271)\n",
      "157: creature(19333), creature(19342)\n",
      "158: Briarwood(19532), he(19544)\n",
      "159: Hunter(19578), Hunter(19581)\n",
      "160: Bowstring(19599), Bowstring(19607)\n",
      "161: arrow(19701), arrow(19738)\n",
      "162: cloak(19726), cloak(19744)\n",
      "163: Bowstring(19830), Bowstring(19832)\n",
      "164: Briarwood(19955), Briarwood(19966), Briarwood(19975), Briarwood(19988)\n",
      "165: DC(20001), DC(20028)\n",
      "166: DC(20043), DC(20048), DC(20057)\n",
      "167: Hunter(20188), Hunter(20191)\n",
      "168: Storm(20449), Storm(20452), Storm(20464), Storm(20472), Storm(20478), Storm(20484), Storm(20498), Storm(20508), Storm(20516), Storm(20524)\n",
      "169: minute(20487), it(20493)\n",
      "170: carriage(20624), carriage(20699), carriage(20737)\n",
      "171: carriage(20761), carriage(20836), carriage(20874)\n",
      "172: Briarwood(20952), Briarwood(20960), Briarwood(20963), Briarwood(20969)\n",
      "173: Briarwood(20974), Briarwood(20980)\n",
      "174: Briarwood(21068), Briarwood(21075)\n",
      "175: Briarwood(21117), Briarwood(21140)\n",
      "176: Lady(21259), Lady(21277)\n",
      "177: Briarwood(21260), Briarwood(21272)\n",
      "178: him(21414), him(21432)\n",
      "179: he(21487), he(21495)\n",
      "180: Whitestone(21529), Whitestone(21542)\n",
      "181: Whitestone(21563), his(21565)\n",
      "182: Rolo(21620), Rolo(21628), Rolo(21631), Rolo(21635)\n",
      "183: Johanna(21648), Johanna(21651)\n",
      "184: winner(21944), winner(21952)\n",
      "185: Briarwoods(22405), Briarwoods(22412), Briarwoods(22426)\n",
      "186: her(22540), her(22585)\n",
      "187: Uriel(22563), Uriel(22571)\n",
      "188: Tiberius(22689), Tiberius(22695), Tiberius(22702)\n",
      "189: Scanlan(22776), Scanlan(22785), Scanlan(22802), Scanlan(22811)\n",
      "190: pet(23043), pet(23052), pet(23059), pet(23082), pet(23087), pet(23099), pet(23109)\n",
      "191: Allura(23112), Allura(23115)\n",
      "192: Allura(23127), Allura(23156)\n",
      "193: carriage(23450), carriage(23460)\n",
      "194: him(23483), him(23513), him(23556), him(23578)\n",
      "195: Lillith(23774), Lillith(23776)\n",
      "196: front(24018), front(24040)\n",
      "197: Broker(24188), Broker(24191)\n",
      "198: Broker(24193), Broker(24209)\n",
      "199: palace(24439), palace(24474)\n",
      "200: Tiberius(24504), Tiberius(24509), Tiberius(24519), it(24527), Tiberius(24531), Tiberius(24533), Tiberius(24545)\n",
      "201: Allura(24558), Allura(24563), Allura(24566)\n",
      "202: sun(24770), he(24811)\n",
      "203: darling(24893), her(24911), her(24931)\n",
      "204: Sarenrae(24991), Sarenrae(25019)\n",
      "205: Keyleth(25004), Keyleth(25006)\n",
      "206: Tiberius(25025), Tiberius(25063), Tiberius(25067)\n",
      "207: Allura(25073), Allura(25092)\n",
      "208: Asum(25096), Asum(25101)\n",
      "209: cleric(25888), cleric(25916)\n",
      "210: He(26291), He(26298)\n",
      "211: Glissfoil(26301), He(26313), He(26317)\n",
      "212: his(26480), his(26488)\n",
      "213: charge(26541), charge(26552)\n",
      "214: Vasselheim(26984), Vasselheim(27037)\n",
      "215: Vasselheim(27048), she(27084)\n",
      "216: she(27088), she(27096), she(27106), she(27109)\n",
      "217: Gilmore(27184), Gilmore(27190)\n",
      "218: Sarenrae(27387), Sarenrae(27410)\n",
      "219: all(27740), them(27755), them(27758)\n",
      "220: Stoneskin(28823), Stoneskin(28838)\n",
      "221: prisoner(28923), prisoner(28926)\n",
      "222: Grog(29218), Grog(29221), Grog(29241), Grog(29258)\n",
      "223: Nefertiri(29333), Nefertiri(29349)\n",
      "224: Invisibility(29567), Invisibility(29571)\n",
      "225: Broker(29713), Broker(29719)\n",
      "226: Kit(29800), Kit(29816), Kit(29838), Kit(29866), Kit(29881)\n",
      "227: spell(29809), spell(29841)\n",
      "228: Trinket(29947), Trinket(29961)\n",
      "229: way(29984), way(30004), way(30030)\n",
      "230: Trinket(30163), Trinket(30169)\n",
      "231: Trinket(30201), Trinket(30203)\n",
      "232: Trinket(30236), Trinket(30245), Trinket(30247), Trinket(30254), Trinket(30259), Trinket(30271), Trinket(30275), Trinket(30278), Trinket(30283), Trinket(30294)\n",
      "233: Broker(30394), Broker(30400)\n",
      "234: Fireball(30552), Fireball(30558)\n",
      "235: Trinket(30569), Trinket(30582)\n",
      "236: Fireball(30573), Fireball(30585)\n",
      "237: Broker(30896), Broker(30911)\n",
      "238: Keyleth(30925), Keyleth(30956)\n",
      "239: Step(30935), Step(30942), Step(30952)\n",
      "240: DC(31248), DC(31253)\n",
      "241: lady(31538), lady(31550)\n",
      "242: Grog(31557), Grog(31559)\n",
      "243: Penelope(31638), Penelope(31656), her(31663)\n",
      "244: Broker(31690), Broker(31694), Broker(31699), Broker(31705)\n",
      "245: Penelope(31726), Penelope(31730), Penelope(31741)\n",
      "246: he(31778), he(31803)\n",
      "247: DC(31785), DC(31813)\n",
      "248: target(31901), target(31908)\n",
      "249: bolt(31917), bolt(31934)\n",
      "250: Broker(31948), Broker(31951), Broker(31974), Broker(31984)\n",
      "251: Penelope(32026), Penelope(32038)\n",
      "252: Shell(32113), Shell(32119)\n",
      "253: Vax'ildan(32153), Vax'ildan(32171), Vax'ildan(32188)\n",
      "254: him(32155), him(32160)\n",
      "255: wall(32163), wall(32168)\n",
      "256: DC(32471), DC(32478)\n",
      "257: schmuck(32640), schmuck(32643)\n",
      "258: schmuck(32659), schmuck(32662), schmuck(32677), schmuck(32691), schmuck(32704)\n",
      "259: Broker(32824), Broker(32828), Broker(32837)\n",
      "260: dice(32846), dice(32854)\n",
      "261: His(33075), His(33084), His(33152)\n",
      "262: Broker(33339), his(33424), Broker(33462)\n",
      "263: ground(33365), ground(33390)\n",
      "264: center(33422), his(33444)\n",
      "265: ground(33488), ground(33513)\n",
      "266: Misty(33691), Misty(33693), Misty(33696), Misty(33707)\n",
      "267: Counterspell(33732), Counterspell(33741)\n",
      "268: Matt(33827), Matt(33833), Matt(33845)\n",
      "269: Percy(33860), Percy(33892)\n",
      "270: Broker(33951), Broker(33957), Broker(33960)\n",
      "271: Dead(34016), Dead(34045)\n",
      "272: Tiberius(34082), Tiberius(34101), Tiberius(34112)\n",
      "273: arrow(34240), arrow(34248), arrow(34267)\n",
      "274: Percy(34243), Percy(34255)\n",
      "275: front(34264), front(34299)\n",
      "276: impact(34278), impact(34304)\n",
      "277: Trinket(34513), Trinket(34520), Trinket(34548), Trinket(34563), Trinket(34567), Trinket(34571)\n",
      "278: Trinket(34605), Trinket(34619)\n",
      "279: mask(34685), mask(34693)\n",
      "280: bear(34698), bear(34712)\n",
      "281: Tiberius(34825), Tiberius(34829)\n",
      "282: Tiberius(34856), Tiberius(34864), Tiberius(34867), her(34891), her(34895)\n",
      "283: Tiberius(34949), Tiberius(34962)\n",
      "284: broad(35048), broad(35054)\n",
      "285: Blade(35208), Blade(35216), Blade(35224), Blade(35234), Blade(35236)\n",
      "286: air(35219), air(35241)\n",
      "287: woman(35445), it(35452)\n",
      "288: Grog(35554), Grog(35566)\n",
      "289: Keyleth(35699), Keyleth(35707), Keyleth(35710)\n",
      "290: face(35849), face(35886)\n",
      "291: Broker(35967), Broker(36000), she(36004), Broker(36007), Broker(36011), she(36036), Broker(36046), Broker(36054), Broker(36058)\n",
      "292: Lusterka(36107), Lusterka(36120)\n",
      "293: Shortsword(36226), Shortsword(36238)\n",
      "294: Wand(36348), Wand(36357)\n",
      "295: Mage(36352), Mage(36361)\n",
      "296: Broker(36421), Broker(36433)\n",
      "297: States(36769), States(36793)\n",
      "298: Lusterka(36947), Lusterka(36953), Lusterka(36957)\n",
      "299: promise(37337), promise(37347)\n",
      "300: Broker(37699), Broker(37710)\n",
      "301: Critters(37764), Critters(37767)\n"
     ]
    }
   ],
   "source": [
    "new_doc._.coref_chains.print()"
   ]
  },
  {
   "cell_type": "markdown",
   "metadata": {},
   "source": [
    "### Lemmatize"
   ]
  },
  {
   "cell_type": "code",
   "execution_count": 71,
   "metadata": {},
   "outputs": [
    {
     "data": {
      "text/plain": [
       "\"welcome to Critical Role ! tonight , we return from last week 's rather tense cliffhanger of a game . really excited to get that underway . but for those who this be your first time watch , this be a show where a bunch of we nerdy - ass voice actor play Dungeons and Dragons . we roll dice , and this be fun . so yeah , we be excited to have you . let us take this off with some announcement at the top of the show for everyone . first and foremost ,\""
      ]
     },
     "execution_count": 71,
     "metadata": {},
     "output_type": "execute_result"
    }
   ],
   "source": [
    "new_text = new_doc[:].lemma_\n",
    "new_text[:450]"
   ]
  },
  {
   "cell_type": "code",
   "execution_count": 72,
   "metadata": {},
   "outputs": [
    {
     "name": "stderr",
     "output_type": "stream",
     "text": [
      "/home/patrick/anaconda3/envs/metis/lib/python3.10/site-packages/torch/amp/autocast_mode.py:198: UserWarning: User provided device_type of 'cuda', but CUDA is not available. Disabling\n",
      "  warnings.warn('User provided device_type of \\'cuda\\', but CUDA is not available. Disabling')\n"
     ]
    }
   ],
   "source": [
    "new_doc = nlp(new_text)"
   ]
  },
  {
   "cell_type": "markdown",
   "metadata": {},
   "source": [
    "\"ADJ\",: adjective\n",
    "\"ADP\",: adposition\n",
    "\"ADV\",: adverb\n",
    "\"AUX\",: auxiliary\n",
    "\"CCONJ\",: coordinating conjunction\n",
    "\"DET\",: determiner\n",
    "\"INTJ\",: interjection\n",
    "\"NOUN\",: noun\n",
    "\"NUM\",: numeral\n",
    "\"PART\",: particle\n",
    "\"PRON\",: pronoun\n",
    "\"PROPN\",: proper noun\n",
    "\"PUNCT\",: punctuation\n",
    "\"SCONJ\",: subordinating conjunction\n",
    "\"SYM\",: symbol\n",
    "\"VERB\",: verb\n",
    "\"X\",: other\n",
    "\n",
    "\n",
    "\n",
    "\"ADJ\",\"ADP\",\"ADV\",\"AUX\",\"CCONJ\",\"DET\",\"INTJ\",\"NOUN\",\"NUM\",\"PART\",\"PRON\",\"PROPN\",\"PUNCT\",\"SCONJ\",\"SYM\",\"VERB\",\"X\","
   ]
  },
  {
   "cell_type": "code",
   "execution_count": null,
   "metadata": {},
   "outputs": [],
   "source": [
    "pos = [\"ADJ\",\"ADP\",\"ADV\",\"AUX\",\"CCONJ\",\"DET\",\"INTJ\",\"NOUN\",\"NUM\",\"PART\",\"PRON\",\"PROPN\",\"PUNCT\",\"SCONJ\",\"SYM\",\"VERB\",\"X\"]\n",
    "# pos = [\"ADJ\",\"ADP\",\"ADV\",\"AUX\",\"CCONJ\",\"DET\",\"INTJ\",\"NOUN\",\"NUM\",\"PART\",\"PRON\",\"PROPN\",\"PUNCT\",\"SCONJ\",\"SYM\",\"VERB\",\"X\"]\n",
    "def clean_text(text, coref = False, lemma = False, pos_exclusions = pos):\n",
    "    doc = nlp(text)\n",
    "\n",
    "    if coref:\n",
    "        new_text = \"\"\n",
    "        for i  in range(len(doc)):\n",
    "            tokens = doc[i]\n",
    "            if doc._.coref_chains.resolve(tokens):\n",
    "                new_text += doc._.coref_chains.resolve(tokens)[0].text\n",
    "            else:\n",
    "                new_text += tokens.text\n",
    "            new_text+= \" \"\n",
    "        doc = nlp(new_text)\n",
    "    text = \"\"\n",
    "    for token in doc:\n",
    "        if token.pos_ not in pos_exclusions:\n",
    "            text += token.lemma_ if lemma else token.text\n",
    "            text += \" \"\n",
    "\n",
    "    return text"
   ]
  }
 ],
 "metadata": {
  "kernelspec": {
   "display_name": "Python 3.10.4 ('metis')",
   "language": "python",
   "name": "python3"
  },
  "language_info": {
   "codemirror_mode": {
    "name": "ipython",
    "version": 3
   },
   "file_extension": ".py",
   "mimetype": "text/x-python",
   "name": "python",
   "nbconvert_exporter": "python",
   "pygments_lexer": "ipython3",
   "version": "3.10.4"
  },
  "orig_nbformat": 4,
  "vscode": {
   "interpreter": {
    "hash": "2279e2d64b6cb4063ab7cfccb2020b604cfa41abe39379e7173718ec353138e1"
   }
  }
 },
 "nbformat": 4,
 "nbformat_minor": 2
}
