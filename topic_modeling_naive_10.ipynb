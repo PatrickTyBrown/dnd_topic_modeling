{
 "cells": [
  {
   "cell_type": "markdown",
   "metadata": {},
   "source": [
    "# Topic Modeling\n",
    "### Without Preprocessing"
   ]
  },
  {
   "cell_type": "code",
   "execution_count": 1,
   "metadata": {},
   "outputs": [],
   "source": [
    "import json\n",
    "import os\n",
    "import random\n",
    "import pandas as pd\n",
    "import numpy as np\n",
    "from sklearn.feature_extraction.text import CountVectorizer, TfidfVectorizer\n",
    "from sklearn.decomposition import PCA\n",
    "from sklearn.decomposition import NMF\n",
    "from sklearn.decomposition import TruncatedSVD\n",
    "from sklearn.decomposition import LatentDirichletAllocation"
   ]
  },
  {
   "cell_type": "markdown",
   "metadata": {},
   "source": [
    "#### Define Parameters"
   ]
  },
  {
   "cell_type": "code",
   "execution_count": 2,
   "metadata": {},
   "outputs": [],
   "source": [
    "n_components = 10 #Topics To generate\n",
    "n = 20 #Transcripts to use\n",
    "max_df=0.01\n",
    "min_df=0.0001\n",
    "n_terms = 10"
   ]
  },
  {
   "cell_type": "markdown",
   "metadata": {},
   "source": [
    "## Load Data"
   ]
  },
  {
   "cell_type": "code",
   "execution_count": 3,
   "metadata": {},
   "outputs": [],
   "source": [
    "def create_df_multi(n=25):\n",
    "    list_of_text = []\n",
    "    dir = 'data/aligned data/c=4'\n",
    "\n",
    "    files = [filename for filename in os.listdir(dir)]\n",
    "    sampled_files = random.choices(files,k=n)\n",
    "\n",
    "    for filename in sampled_files:\n",
    "        # choice = random.choice(os.listdir(dir))\n",
    "        # print(choice)\n",
    "        f = open(dir+'/'+filename)\n",
    "        data = json.load(f)\n",
    "        choice = random.choice(os.listdir(dir))\n",
    "        # print(choice)\n",
    "        f = open(dir+'/'+choice)\n",
    "        data = json.load(f)\n",
    "\n",
    "        for x in data:\n",
    "            for y in x['TURNS']:\n",
    "                text = ' '.join(y['UTTERANCES'])\n",
    "                list_of_text.append(text)\n",
    "    df = pd.DataFrame(list_of_text)\n",
    "    return df"
   ]
  },
  {
   "cell_type": "code",
   "execution_count": 4,
   "metadata": {},
   "outputs": [
    {
     "name": "stdout",
     "output_type": "stream",
     "text": [
      "(51561, 1)\n"
     ]
    },
    {
     "data": {
      "text/html": [
       "<div>\n",
       "<style scoped>\n",
       "    .dataframe tbody tr th:only-of-type {\n",
       "        vertical-align: middle;\n",
       "    }\n",
       "\n",
       "    .dataframe tbody tr th {\n",
       "        vertical-align: top;\n",
       "    }\n",
       "\n",
       "    .dataframe thead th {\n",
       "        text-align: right;\n",
       "    }\n",
       "</style>\n",
       "<table border=\"1\" class=\"dataframe\">\n",
       "  <thead>\n",
       "    <tr style=\"text-align: right;\">\n",
       "      <th></th>\n",
       "      <th>0</th>\n",
       "    </tr>\n",
       "  </thead>\n",
       "  <tbody>\n",
       "    <tr>\n",
       "      <th>0</th>\n",
       "      <td>Hello everyone, and welcome to tonight's episo...</td>\n",
       "    </tr>\n",
       "    <tr>\n",
       "      <th>1</th>\n",
       "      <td>Put the stank down! Loot Crate!</td>\n",
       "    </tr>\n",
       "    <tr>\n",
       "      <th>2</th>\n",
       "      <td>Once again--</td>\n",
       "    </tr>\n",
       "    <tr>\n",
       "      <th>3</th>\n",
       "      <td>(airhorn sounds) (laughter)</td>\n",
       "    </tr>\n",
       "    <tr>\n",
       "      <th>4</th>\n",
       "      <td>That's wonderful. So yeah, so those of you guy...</td>\n",
       "    </tr>\n",
       "  </tbody>\n",
       "</table>\n",
       "</div>"
      ],
      "text/plain": [
       "                                                   0\n",
       "0  Hello everyone, and welcome to tonight's episo...\n",
       "1                    Put the stank down! Loot Crate!\n",
       "2                                       Once again--\n",
       "3                        (airhorn sounds) (laughter)\n",
       "4  That's wonderful. So yeah, so those of you guy..."
      ]
     },
     "execution_count": 4,
     "metadata": {},
     "output_type": "execute_result"
    }
   ],
   "source": [
    "df = create_df_multi(n)\n",
    "print(df.shape)\n",
    "df.head()"
   ]
  },
  {
   "cell_type": "markdown",
   "metadata": {},
   "source": [
    "## Vectorize Data\n"
   ]
  },
  {
   "cell_type": "markdown",
   "metadata": {},
   "source": [
    "\n",
    "- Count Vectorizer\n",
    "- Tfidf Vectorizer\n",
    "\n",
    "Use both with each model"
   ]
  },
  {
   "cell_type": "code",
   "execution_count": 5,
   "metadata": {},
   "outputs": [
    {
     "name": "stdout",
     "output_type": "stream",
     "text": [
      "(51561, 5404)\n"
     ]
    },
    {
     "data": {
      "text/html": [
       "<div>\n",
       "<style scoped>\n",
       "    .dataframe tbody tr th:only-of-type {\n",
       "        vertical-align: middle;\n",
       "    }\n",
       "\n",
       "    .dataframe tbody tr th {\n",
       "        vertical-align: top;\n",
       "    }\n",
       "\n",
       "    .dataframe thead th {\n",
       "        text-align: right;\n",
       "    }\n",
       "</style>\n",
       "<table border=\"1\" class=\"dataframe\">\n",
       "  <thead>\n",
       "    <tr style=\"text-align: right;\">\n",
       "      <th></th>\n",
       "      <th>0</th>\n",
       "      <th>1</th>\n",
       "      <th>2</th>\n",
       "      <th>3</th>\n",
       "      <th>4</th>\n",
       "      <th>5</th>\n",
       "      <th>6</th>\n",
       "      <th>7</th>\n",
       "      <th>8</th>\n",
       "      <th>9</th>\n",
       "      <th>...</th>\n",
       "      <th>51551</th>\n",
       "      <th>51552</th>\n",
       "      <th>51553</th>\n",
       "      <th>51554</th>\n",
       "      <th>51555</th>\n",
       "      <th>51556</th>\n",
       "      <th>51557</th>\n",
       "      <th>51558</th>\n",
       "      <th>51559</th>\n",
       "      <th>51560</th>\n",
       "    </tr>\n",
       "  </thead>\n",
       "  <tbody>\n",
       "    <tr>\n",
       "      <th>zephra</th>\n",
       "      <td>0.0</td>\n",
       "      <td>0.0</td>\n",
       "      <td>0.0</td>\n",
       "      <td>0.0</td>\n",
       "      <td>0.0</td>\n",
       "      <td>0.0</td>\n",
       "      <td>0.0</td>\n",
       "      <td>0.0</td>\n",
       "      <td>0.0</td>\n",
       "      <td>0.0</td>\n",
       "      <td>...</td>\n",
       "      <td>0.0</td>\n",
       "      <td>0.0</td>\n",
       "      <td>0.0</td>\n",
       "      <td>0.0</td>\n",
       "      <td>0.0</td>\n",
       "      <td>0.0</td>\n",
       "      <td>0.0</td>\n",
       "      <td>0.0</td>\n",
       "      <td>0.0</td>\n",
       "      <td>0.0</td>\n",
       "    </tr>\n",
       "    <tr>\n",
       "      <th>zero</th>\n",
       "      <td>0.0</td>\n",
       "      <td>0.0</td>\n",
       "      <td>0.0</td>\n",
       "      <td>0.0</td>\n",
       "      <td>0.0</td>\n",
       "      <td>0.0</td>\n",
       "      <td>0.0</td>\n",
       "      <td>0.0</td>\n",
       "      <td>0.0</td>\n",
       "      <td>0.0</td>\n",
       "      <td>...</td>\n",
       "      <td>0.0</td>\n",
       "      <td>0.0</td>\n",
       "      <td>0.0</td>\n",
       "      <td>0.0</td>\n",
       "      <td>0.0</td>\n",
       "      <td>0.0</td>\n",
       "      <td>0.0</td>\n",
       "      <td>0.0</td>\n",
       "      <td>0.0</td>\n",
       "      <td>0.0</td>\n",
       "    </tr>\n",
       "    <tr>\n",
       "      <th>ziggurat</th>\n",
       "      <td>0.0</td>\n",
       "      <td>0.0</td>\n",
       "      <td>0.0</td>\n",
       "      <td>0.0</td>\n",
       "      <td>0.0</td>\n",
       "      <td>0.0</td>\n",
       "      <td>0.0</td>\n",
       "      <td>0.0</td>\n",
       "      <td>0.0</td>\n",
       "      <td>0.0</td>\n",
       "      <td>...</td>\n",
       "      <td>0.0</td>\n",
       "      <td>0.0</td>\n",
       "      <td>0.0</td>\n",
       "      <td>0.0</td>\n",
       "      <td>0.0</td>\n",
       "      <td>0.0</td>\n",
       "      <td>0.0</td>\n",
       "      <td>0.0</td>\n",
       "      <td>0.0</td>\n",
       "      <td>0.0</td>\n",
       "    </tr>\n",
       "    <tr>\n",
       "      <th>zombie</th>\n",
       "      <td>0.0</td>\n",
       "      <td>0.0</td>\n",
       "      <td>0.0</td>\n",
       "      <td>0.0</td>\n",
       "      <td>0.0</td>\n",
       "      <td>0.0</td>\n",
       "      <td>0.0</td>\n",
       "      <td>0.0</td>\n",
       "      <td>0.0</td>\n",
       "      <td>0.0</td>\n",
       "      <td>...</td>\n",
       "      <td>0.0</td>\n",
       "      <td>0.0</td>\n",
       "      <td>0.0</td>\n",
       "      <td>0.0</td>\n",
       "      <td>0.0</td>\n",
       "      <td>0.0</td>\n",
       "      <td>0.0</td>\n",
       "      <td>0.0</td>\n",
       "      <td>0.0</td>\n",
       "      <td>0.0</td>\n",
       "    </tr>\n",
       "    <tr>\n",
       "      <th>zombies</th>\n",
       "      <td>0.0</td>\n",
       "      <td>0.0</td>\n",
       "      <td>0.0</td>\n",
       "      <td>0.0</td>\n",
       "      <td>0.0</td>\n",
       "      <td>0.0</td>\n",
       "      <td>0.0</td>\n",
       "      <td>0.0</td>\n",
       "      <td>0.0</td>\n",
       "      <td>0.0</td>\n",
       "      <td>...</td>\n",
       "      <td>0.0</td>\n",
       "      <td>0.0</td>\n",
       "      <td>0.0</td>\n",
       "      <td>0.0</td>\n",
       "      <td>0.0</td>\n",
       "      <td>0.0</td>\n",
       "      <td>0.0</td>\n",
       "      <td>0.0</td>\n",
       "      <td>0.0</td>\n",
       "      <td>0.0</td>\n",
       "    </tr>\n",
       "  </tbody>\n",
       "</table>\n",
       "<p>5 rows × 51561 columns</p>\n",
       "</div>"
      ],
      "text/plain": [
       "          0      1      2      3      4      5      6      7      8      \\\n",
       "zephra      0.0    0.0    0.0    0.0    0.0    0.0    0.0    0.0    0.0   \n",
       "zero        0.0    0.0    0.0    0.0    0.0    0.0    0.0    0.0    0.0   \n",
       "ziggurat    0.0    0.0    0.0    0.0    0.0    0.0    0.0    0.0    0.0   \n",
       "zombie      0.0    0.0    0.0    0.0    0.0    0.0    0.0    0.0    0.0   \n",
       "zombies     0.0    0.0    0.0    0.0    0.0    0.0    0.0    0.0    0.0   \n",
       "\n",
       "          9      ...  51551  51552  51553  51554  51555  51556  51557  51558  \\\n",
       "zephra      0.0  ...    0.0    0.0    0.0    0.0    0.0    0.0    0.0    0.0   \n",
       "zero        0.0  ...    0.0    0.0    0.0    0.0    0.0    0.0    0.0    0.0   \n",
       "ziggurat    0.0  ...    0.0    0.0    0.0    0.0    0.0    0.0    0.0    0.0   \n",
       "zombie      0.0  ...    0.0    0.0    0.0    0.0    0.0    0.0    0.0    0.0   \n",
       "zombies     0.0  ...    0.0    0.0    0.0    0.0    0.0    0.0    0.0    0.0   \n",
       "\n",
       "          51559  51560  \n",
       "zephra      0.0    0.0  \n",
       "zero        0.0    0.0  \n",
       "ziggurat    0.0    0.0  \n",
       "zombie      0.0    0.0  \n",
       "zombies     0.0    0.0  \n",
       "\n",
       "[5 rows x 51561 columns]"
      ]
     },
     "execution_count": 5,
     "metadata": {},
     "output_type": "execute_result"
    }
   ],
   "source": [
    "# tfidf=TfidfVectorizer(stop_words='english',max_df=.7,min_df=2,token_pattern=r'(?u)\\b[A-Za-z]+\\b')\n",
    "\n",
    "tfidf = TfidfVectorizer(stop_words='english', \n",
    "    max_df=max_df,\n",
    "    min_df=min_df,\n",
    "    token_pattern=r'(?u)\\b[A-Za-z]+\\b'\n",
    "    )\n",
    "tfidf_sparse = tfidf.fit_transform(df[0])\n",
    "print(tfidf_sparse.shape)\n",
    "tfidf_df = pd.DataFrame(tfidf_sparse.toarray().transpose(),\n",
    "                   index=tfidf.get_feature_names_out())\n",
    "tfidf_df.tail()"
   ]
  },
  {
   "cell_type": "code",
   "execution_count": 6,
   "metadata": {},
   "outputs": [
    {
     "name": "stdout",
     "output_type": "stream",
     "text": [
      "(51561, 5404)\n"
     ]
    },
    {
     "data": {
      "text/html": [
       "<div>\n",
       "<style scoped>\n",
       "    .dataframe tbody tr th:only-of-type {\n",
       "        vertical-align: middle;\n",
       "    }\n",
       "\n",
       "    .dataframe tbody tr th {\n",
       "        vertical-align: top;\n",
       "    }\n",
       "\n",
       "    .dataframe thead th {\n",
       "        text-align: right;\n",
       "    }\n",
       "</style>\n",
       "<table border=\"1\" class=\"dataframe\">\n",
       "  <thead>\n",
       "    <tr style=\"text-align: right;\">\n",
       "      <th></th>\n",
       "      <th>0</th>\n",
       "      <th>1</th>\n",
       "      <th>2</th>\n",
       "      <th>3</th>\n",
       "      <th>4</th>\n",
       "      <th>5</th>\n",
       "      <th>6</th>\n",
       "      <th>7</th>\n",
       "      <th>8</th>\n",
       "      <th>9</th>\n",
       "      <th>...</th>\n",
       "      <th>51551</th>\n",
       "      <th>51552</th>\n",
       "      <th>51553</th>\n",
       "      <th>51554</th>\n",
       "      <th>51555</th>\n",
       "      <th>51556</th>\n",
       "      <th>51557</th>\n",
       "      <th>51558</th>\n",
       "      <th>51559</th>\n",
       "      <th>51560</th>\n",
       "    </tr>\n",
       "  </thead>\n",
       "  <tbody>\n",
       "    <tr>\n",
       "      <th>zephra</th>\n",
       "      <td>0</td>\n",
       "      <td>0</td>\n",
       "      <td>0</td>\n",
       "      <td>0</td>\n",
       "      <td>0</td>\n",
       "      <td>0</td>\n",
       "      <td>0</td>\n",
       "      <td>0</td>\n",
       "      <td>0</td>\n",
       "      <td>0</td>\n",
       "      <td>...</td>\n",
       "      <td>0</td>\n",
       "      <td>0</td>\n",
       "      <td>0</td>\n",
       "      <td>0</td>\n",
       "      <td>0</td>\n",
       "      <td>0</td>\n",
       "      <td>0</td>\n",
       "      <td>0</td>\n",
       "      <td>0</td>\n",
       "      <td>0</td>\n",
       "    </tr>\n",
       "    <tr>\n",
       "      <th>zero</th>\n",
       "      <td>0</td>\n",
       "      <td>0</td>\n",
       "      <td>0</td>\n",
       "      <td>0</td>\n",
       "      <td>0</td>\n",
       "      <td>0</td>\n",
       "      <td>0</td>\n",
       "      <td>0</td>\n",
       "      <td>0</td>\n",
       "      <td>0</td>\n",
       "      <td>...</td>\n",
       "      <td>0</td>\n",
       "      <td>0</td>\n",
       "      <td>0</td>\n",
       "      <td>0</td>\n",
       "      <td>0</td>\n",
       "      <td>0</td>\n",
       "      <td>0</td>\n",
       "      <td>0</td>\n",
       "      <td>0</td>\n",
       "      <td>0</td>\n",
       "    </tr>\n",
       "    <tr>\n",
       "      <th>ziggurat</th>\n",
       "      <td>0</td>\n",
       "      <td>0</td>\n",
       "      <td>0</td>\n",
       "      <td>0</td>\n",
       "      <td>0</td>\n",
       "      <td>0</td>\n",
       "      <td>0</td>\n",
       "      <td>0</td>\n",
       "      <td>0</td>\n",
       "      <td>0</td>\n",
       "      <td>...</td>\n",
       "      <td>0</td>\n",
       "      <td>0</td>\n",
       "      <td>0</td>\n",
       "      <td>0</td>\n",
       "      <td>0</td>\n",
       "      <td>0</td>\n",
       "      <td>0</td>\n",
       "      <td>0</td>\n",
       "      <td>0</td>\n",
       "      <td>0</td>\n",
       "    </tr>\n",
       "    <tr>\n",
       "      <th>zombie</th>\n",
       "      <td>0</td>\n",
       "      <td>0</td>\n",
       "      <td>0</td>\n",
       "      <td>0</td>\n",
       "      <td>0</td>\n",
       "      <td>0</td>\n",
       "      <td>0</td>\n",
       "      <td>0</td>\n",
       "      <td>0</td>\n",
       "      <td>0</td>\n",
       "      <td>...</td>\n",
       "      <td>0</td>\n",
       "      <td>0</td>\n",
       "      <td>0</td>\n",
       "      <td>0</td>\n",
       "      <td>0</td>\n",
       "      <td>0</td>\n",
       "      <td>0</td>\n",
       "      <td>0</td>\n",
       "      <td>0</td>\n",
       "      <td>0</td>\n",
       "    </tr>\n",
       "    <tr>\n",
       "      <th>zombies</th>\n",
       "      <td>0</td>\n",
       "      <td>0</td>\n",
       "      <td>0</td>\n",
       "      <td>0</td>\n",
       "      <td>0</td>\n",
       "      <td>0</td>\n",
       "      <td>0</td>\n",
       "      <td>0</td>\n",
       "      <td>0</td>\n",
       "      <td>0</td>\n",
       "      <td>...</td>\n",
       "      <td>0</td>\n",
       "      <td>0</td>\n",
       "      <td>0</td>\n",
       "      <td>0</td>\n",
       "      <td>0</td>\n",
       "      <td>0</td>\n",
       "      <td>0</td>\n",
       "      <td>0</td>\n",
       "      <td>0</td>\n",
       "      <td>0</td>\n",
       "    </tr>\n",
       "  </tbody>\n",
       "</table>\n",
       "<p>5 rows × 51561 columns</p>\n",
       "</div>"
      ],
      "text/plain": [
       "          0      1      2      3      4      5      6      7      8      \\\n",
       "zephra        0      0      0      0      0      0      0      0      0   \n",
       "zero          0      0      0      0      0      0      0      0      0   \n",
       "ziggurat      0      0      0      0      0      0      0      0      0   \n",
       "zombie        0      0      0      0      0      0      0      0      0   \n",
       "zombies       0      0      0      0      0      0      0      0      0   \n",
       "\n",
       "          9      ...  51551  51552  51553  51554  51555  51556  51557  51558  \\\n",
       "zephra        0  ...      0      0      0      0      0      0      0      0   \n",
       "zero          0  ...      0      0      0      0      0      0      0      0   \n",
       "ziggurat      0  ...      0      0      0      0      0      0      0      0   \n",
       "zombie        0  ...      0      0      0      0      0      0      0      0   \n",
       "zombies       0  ...      0      0      0      0      0      0      0      0   \n",
       "\n",
       "          51559  51560  \n",
       "zephra        0      0  \n",
       "zero          0      0  \n",
       "ziggurat      0      0  \n",
       "zombie        0      0  \n",
       "zombies       0      0  \n",
       "\n",
       "[5 rows x 51561 columns]"
      ]
     },
     "execution_count": 6,
     "metadata": {},
     "output_type": "execute_result"
    }
   ],
   "source": [
    "cv = CountVectorizer(stop_words='english', \n",
    "    max_df=max_df,\n",
    "    min_df=min_df,\n",
    "    token_pattern=r'(?u)\\b[A-Za-z]+\\b'\n",
    "    )\n",
    "cv_sparse = cv.fit_transform(df[0])\n",
    "print(cv_sparse.shape)\n",
    "cv_df = pd.DataFrame(cv_sparse.toarray().transpose(),\n",
    "                   index=cv.get_feature_names_out())\n",
    "cv_df.tail()"
   ]
  },
  {
   "cell_type": "markdown",
   "metadata": {},
   "source": [
    "## Define Output Functions"
   ]
  },
  {
   "cell_type": "code",
   "execution_count": 7,
   "metadata": {},
   "outputs": [],
   "source": [
    "def print_top_terms(n_components, topics, terms, n_terms = 10):\n",
    "    for x in range(n_components):\n",
    "        topic = x\n",
    "        components = topics[:,topic]\n",
    "        top_term_indices = components.argsort()[-n_components:]\n",
    "        top_terms = np.array(terms)[top_term_indices]\n",
    "        \n",
    "        print(f'Topic {x}:\\t{top_terms.tolist()}')\n"
   ]
  },
  {
   "cell_type": "markdown",
   "metadata": {},
   "source": [
    "## PCA"
   ]
  },
  {
   "cell_type": "code",
   "execution_count": 8,
   "metadata": {},
   "outputs": [
    {
     "name": "stdout",
     "output_type": "stream",
     "text": [
      "Topic 0:\t['k', 'left', 'discovered', 'vax', 'elder', 'tunnels', 'brain', 'duergar', 'city', 'took']\n",
      "Topic 1:\t['various', 'mansion', 'vox', 'machina', 'vecna', 'plane', 'dragon', 'left', 'vax', 'city']\n",
      "Topic 2:\t['undying', 'dispelled', 'titan', 'dragon', 'vecna', 'risen', 'return', 'mansion', 'plane', 'vax']\n",
      "Topic 3:\t['amazing', 'story', 'tell', 'year', 'play', 'world', 'tabletop', 'game', 'games', 'love']\n",
      "Topic 4:\t['returns', 'resurrection', 'aware', 'bringing', 'ship', 'evening', 'leader', 'pike', 'vax', 'ashari']\n",
      "Topic 5:\t['went', 'allura', 'duergar', 'creature', 'getting', 'evil', 'mines', 'city', 'kraghammer', 'party']\n",
      "Topic 6:\t['battle', 'friend', 'form', 'members', 'held', 'lorenzo', 'fjord', 'jester', 'friends', 'final']\n",
      "Topic 7:\t['uriel', 'percy', 'whitestone', 'council', 'vox', 'machina', 'emon', 'town', 'wildemount', 'briarwoods']\n",
      "Topic 8:\t['dangerous', 'ground', 'westruun', 'black', 'vox', 'machina', 'town', 'herd', 'group', 'dragon']\n",
      "Topic 9:\t['wall', 'begin', 'day', 'small', 'left', 'stone', 'chamber', 'large', 'town', 'city']\n"
     ]
    }
   ],
   "source": [
    "pca = PCA(n_components=n_components)\n",
    "topics = pca.fit_transform(cv_df)\n",
    "print_top_terms(n_components=n_components, topics=topics, terms=cv.get_feature_names_out())"
   ]
  },
  {
   "cell_type": "code",
   "execution_count": 9,
   "metadata": {},
   "outputs": [
    {
     "name": "stdout",
     "output_type": "stream",
     "text": [
      "Topic 0:\t['barely', 'rolled', 'god', 'laugh', 'modifier', 'sorry', 'definitely', 'seven', 'plus', 'hits']\n",
      "Topic 1:\t['stealth', 'bonus', 'strength', 'rolled', 'laugh', 'modifier', 'god', 'seven', 'sorry', 'plus']\n",
      "Topic 2:\t['damn', 'pike', 'laughs', 'great', 'didn', 'fuck', 'fine', 'laugh', 'god', 'sorry']\n",
      "Topic 3:\t['magic', 'awesome', 'dead', 'yep', 'plus', 'amazing', 'kill', 'damn', 'laughs', 'god']\n",
      "Topic 4:\t['stealth', 'book', 'hey', 'fucking', 'yep', 'cool', 'plus', 'fine', 'great', 'laugh']\n",
      "Topic 5:\t['tell', 'totally', 'man', 'percy', 'fucking', 'hold', 'maybe', 'fuck', 'great', 'fine']\n",
      "Topic 6:\t['fucking', 'true', 'wow', 'away', 'hold', 'percy', 'didn', 'maybe', 'great', 'laughs']\n",
      "Topic 7:\t['idea', 'rolled', 'pike', 'nice', 'ooh', 'maybe', 'fuck', 'pretty', 'cool', 'great']\n",
      "Topic 8:\t['help', 'stealth', 'throw', 'bad', 'hold', 'laughs', 'man', 'maybe', 'didn', 'fuck']\n",
      "Topic 9:\t['advantage', 'man', 'stealth', 'saving', 'cheering', 'maybe', 'didn', 'throw', 'rolled', 'natural']\n"
     ]
    }
   ],
   "source": [
    "pca = PCA(n_components=n_components)\n",
    "topics = pca.fit_transform(tfidf_df)\n",
    "print_top_terms(n_components=n_components, topics=topics, terms=tfidf.get_feature_names_out())"
   ]
  },
  {
   "cell_type": "markdown",
   "metadata": {},
   "source": [
    "## LDA"
   ]
  },
  {
   "cell_type": "code",
   "execution_count": 10,
   "metadata": {},
   "outputs": [
    {
     "name": "stdout",
     "output_type": "stream",
     "text": [
      "Topic 0:\t['elemental', 'lightning', 'sleep', 'uriel', 'bear', 'actual', 'stop', 'believe', 'arrow', 'sorry']\n",
      "Topic 1:\t['won', 'playing', 'wow', 'critical', 'true', 'high', 'pick', 'advantage', 'kill', 'week']\n",
      "Topic 2:\t['lava', 'cold', 'understand', 'fjord', 'turns', 'yasha', 'leave', 'outside', 'god', 'big']\n",
      "Topic 3:\t['wanna', 'shot', 'fun', 'everybody', 'amazing', 'course', 'ask', 'thought', 'cool', 'throw']\n",
      "Topic 4:\t['holy', 'kitchen', 'care', 'waiting', 'double', 'hour', 'yep', 'hard', 'bad', 'spell']\n",
      "Topic 5:\t['wrong', 'spells', 'dc', 'straight', 'deal', 'matt', 'pieces', 'magic', 'natural', 'gold']\n",
      "Topic 6:\t['damn', 'fly', 'guess', 'save', 'able', 'bag', 'remember', 'stealth', 'better', 'plus']\n",
      "Topic 7:\t['camp', 'wants', 'correct', 'using', 'ah', 'add', 'ooh', 'jester', 'rolled', 'talk']\n",
      "Topic 8:\t['mark', 'fair', 'traps', 'happened', 'happy', 'read', 'caleb', 'hey', 'awesome', 'book']\n",
      "Topic 9:\t['strike', 'minutes', 'running', 'sounds', 'number', 'slowly', 'dead', 'close', 'action', 'hits']\n"
     ]
    }
   ],
   "source": [
    "lda = LatentDirichletAllocation(n_components=n_components)\n",
    "topics = lda.fit_transform(cv_df)\n",
    "print_top_terms(n_components=n_components, topics=topics, terms=cv.get_feature_names_out())"
   ]
  },
  {
   "cell_type": "code",
   "execution_count": 11,
   "metadata": {},
   "outputs": [
    {
     "name": "stdout",
     "output_type": "stream",
     "text": [
      "Topic 0:\t['stop', 'follow', 'total', 'fjord', 'aw', 'somebody', 'heal', 'wanna', 'die', 'guess']\n",
      "Topic 1:\t['vasselheim', 'yasha', 'plan', 'walking', 'went', 'gone', 'dice', 'disadvantage', 'dead', 'ooh']\n",
      "Topic 2:\t['happen', 'killed', 'happened', 'cause', 'save', 'caleb', 'perception', 'idea', 'game', 'magic']\n",
      "Topic 3:\t['home', 'attacks', 'wanted', 'sneak', 'weird', 'investigation', 'read', 'night', 'work', 'sorry']\n",
      "Topic 4:\t['matt', 'times', 'town', 'fly', 'group', 'break', 'strength', 'saw', 'question', 'leave']\n",
      "Topic 5:\t['taking', 'dc', 'sounds', 'jester', 'insight', 'wow', 'thought', 'fucking', 'laughs', 'god']\n",
      "Topic 6:\t['sort', 'shot', 'talking', 'high', 'ah', 'getting', 'money', 'amazing', 'percy', 'tell']\n",
      "Topic 7:\t['creature', 'giant', 'believe', 'ends', 'makes', 'pick', 'hands', 'sword', 'tiberius', 'mind']\n",
      "Topic 8:\t['righty', 'hair', 'fun', 'damn', 'everybody', 'hey', 'yep', 'guy', 'rolled', 'bad']\n",
      "Topic 9:\t['beau', 'gasps', 'old', 'happy', 'real', 'correct', 'bring', 'course', 'love', 'run']\n"
     ]
    }
   ],
   "source": [
    "lda = LatentDirichletAllocation(n_components=n_components)\n",
    "topics = lda.fit_transform(tfidf_df)\n",
    "print_top_terms(n_components=n_components, topics=topics, terms=tfidf.get_feature_names_out())"
   ]
  },
  {
   "cell_type": "markdown",
   "metadata": {},
   "source": [
    "## SVD"
   ]
  },
  {
   "cell_type": "code",
   "execution_count": 12,
   "metadata": {},
   "outputs": [
    {
     "name": "stdout",
     "output_type": "stream",
     "text": [
      "Topic 0:\t['tunnels', 'discovered', 'dragon', 'brain', 'party', 'duergar', 'left', 'vax', 'took', 'city']\n",
      "Topic 1:\t['clarota', 'great', 'discovered', 'varn', 'k', 'duergar', 'elder', 'tunnels', 'brain', 'took']\n",
      "Topic 2:\t['titan', 'left', 'risen', 'mansion', 'vecna', 'dragon', 'city', 'return', 'plane', 'vax']\n",
      "Topic 3:\t['amazing', 'story', 'tell', 'year', 'play', 'world', 'tabletop', 'game', 'games', 'love']\n",
      "Topic 4:\t['returns', 'resurrection', 'aware', 'bringing', 'ship', 'evening', 'leader', 'pike', 'ashari', 'vax']\n",
      "Topic 5:\t['went', 'allura', 'duergar', 'getting', 'creature', 'evil', 'mines', 'kraghammer', 'city', 'party']\n",
      "Topic 6:\t['chamber', 'friend', 'members', 'form', 'held', 'lorenzo', 'fjord', 'jester', 'final', 'friends']\n",
      "Topic 7:\t['uriel', 'percy', 'whitestone', 'council', 'vox', 'emon', 'machina', 'town', 'wildemount', 'briarwoods']\n",
      "Topic 8:\t['dangerous', 'tribe', 'westruun', 'black', 'vox', 'machina', 'town', 'herd', 'group', 'dragon']\n",
      "Topic 9:\t['throw', 'moment', 'begins', 'ground', 'away', 'dragon', 'forward', 'takes', 'blade', 'goes']\n"
     ]
    }
   ],
   "source": [
    "svd = TruncatedSVD(n_components=n_components)\n",
    "topics = svd.fit_transform(cv_df)\n",
    "print_top_terms(n_components=n_components, topics=topics, terms=cv.get_feature_names_out())"
   ]
  },
  {
   "cell_type": "code",
   "execution_count": 13,
   "metadata": {},
   "outputs": [
    {
     "name": "stdout",
     "output_type": "stream",
     "text": [
      "Topic 0:\t['modifier', 'rolled', 'god', 'nice', 'sorry', 'laugh', 'definitely', 'seven', 'plus', 'hits']\n",
      "Topic 1:\t['bonus', 'didn', 'stealth', 'rolled', 'modifier', 'laugh', 'seven', 'god', 'sorry', 'plus']\n",
      "Topic 2:\t['pretty', 'pike', 'great', 'cool', 'fuck', 'didn', 'fine', 'laugh', 'god', 'sorry']\n",
      "Topic 3:\t['yep', 'awesome', 'dead', 'hits', 'amazing', 'fine', 'pretty', 'laughs', 'damn', 'god']\n",
      "Topic 4:\t['natural', 'bad', 'god', 'book', 'stealth', 'fuck', 'cool', 'great', 'fine', 'laugh']\n",
      "Topic 5:\t['kill', 'pretty', 'ooh', 'lot', 'man', 'help', 'nice', 'maybe', 'great', 'fine']\n",
      "Topic 6:\t['pike', 'tell', 'maybe', 'pretty', 'natural', 'didn', 'cool', 'fuck', 'laughs', 'great']\n",
      "Topic 7:\t['ooh', 'kill', 'yep', 'pretty', 'advantage', 'maybe', 'tell', 'fuck', 'fine', 'laughs']\n",
      "Topic 8:\t['kill', 'fucking', 'true', 'pike', 'stealth', 'nice', 'maybe', 'man', 'didn', 'fuck']\n",
      "Topic 9:\t['bad', 'throw', 'pike', 'rolled', 'man', 'tell', 'cool', 'maybe', 'didn', 'natural']\n"
     ]
    }
   ],
   "source": [
    "svd = TruncatedSVD(n_components=n_components)\n",
    "topics = svd.fit_transform(tfidf_df)\n",
    "print_top_terms(n_components=n_components, topics=topics, terms=tfidf.get_feature_names_out())"
   ]
  },
  {
   "cell_type": "markdown",
   "metadata": {},
   "source": [
    "## NMF"
   ]
  },
  {
   "cell_type": "code",
   "execution_count": 14,
   "metadata": {},
   "outputs": [
    {
     "name": "stderr",
     "output_type": "stream",
     "text": [
      "/home/patrick/anaconda3/envs/metis/lib/python3.10/site-packages/sklearn/decomposition/_nmf.py:289: FutureWarning: The 'init' value, when 'init=None' and n_components is less than n_samples and n_features, will be changed from 'nndsvd' to 'nndsvda' in 1.1 (renaming of 0.26).\n",
      "  warnings.warn(\n"
     ]
    },
    {
     "name": "stdout",
     "output_type": "stream",
     "text": [
      "Topic 0:\t['currently', 'open', 'inside', 'dark', 'wall', 'chamber', 'stone', 'small', 'begin', 'large']\n",
      "Topic 1:\t['clarota', 'great', 'varn', 'discovered', 'k', 'duergar', 'elder', 'tunnels', 'brain', 'took']\n",
      "Topic 2:\t['various', 'dragon', 'risen', 'mansion', 'vecna', 'return', 'left', 'plane', 'vax', 'city']\n",
      "Topic 3:\t['wheaton', 'amazing', 'year', 'tell', 'play', 'world', 'game', 'tabletop', 'games', 'love']\n",
      "Topic 4:\t['massive', 'aware', 'final', 'ship', 'leader', 'bringing', 'evening', 'pike', 'ashari', 'vax']\n",
      "Topic 5:\t['allura', 'went', 'evil', 'mines', 'creature', 'duergar', 'getting', 'kraghammer', 'party', 'city']\n",
      "Topic 6:\t['new', 'lorenzo', 'held', 'final', 'members', 'fjord', 'jester', 'chamber', 'form', 'friends']\n",
      "Topic 7:\t['uriel', 'lot', 'came', 'council', 'town', 'percy', 'whitestone', 'emon', 'wildemount', 'briarwoods']\n",
      "Topic 8:\t['powerful', 'city', 'black', 'westruun', 'vax', 'group', 'herd', 'vox', 'machina', 'dragon']\n",
      "Topic 9:\t['face', 'hear', 'eyes', 'forward', 'ground', 'hands', 'blade', 'begins', 'takes', 'goes']\n"
     ]
    }
   ],
   "source": [
    "nmf = NMF(n_components=n_components, max_iter=500)\n",
    "topics = nmf.fit_transform(cv_df)\n",
    "print_top_terms(n_components=n_components, topics=topics, terms=cv.get_feature_names_out())"
   ]
  },
  {
   "cell_type": "code",
   "execution_count": 15,
   "metadata": {},
   "outputs": [
    {
     "name": "stderr",
     "output_type": "stream",
     "text": [
      "/home/patrick/anaconda3/envs/metis/lib/python3.10/site-packages/sklearn/decomposition/_nmf.py:289: FutureWarning: The 'init' value, when 'init=None' and n_components is less than n_samples and n_features, will be changed from 'nndsvd' to 'nndsvda' in 1.1 (renaming of 0.26).\n",
      "  warnings.warn(\n"
     ]
    },
    {
     "name": "stdout",
     "output_type": "stream",
     "text": [
      "Topic 0:\t['nice', 'dagger', 'cheering', 'wall', 'attacks', 'ground', 'sneak', 'barely', 'definitely', 'hits']\n",
      "Topic 1:\t['dex', 'proficiency', 'times', 'stealth', 'bonus', 'rolled', 'strength', 'modifier', 'seven', 'plus']\n",
      "Topic 2:\t['mind', 'question', 'better', 'hold', 'whispers', 'saying', 'bad', 'pike', 'thought', 'sorry']\n",
      "Topic 3:\t['new', 'bad', 'rolled', 'awesome', 'fucking', 'dead', 'amazing', 'kill', 'damn', 'god']\n",
      "Topic 4:\t['mouth', 'matt', 'guy', 'stealth', 'cast', 'book', 'fucking', 'hey', 'yep', 'laugh']\n",
      "Topic 5:\t['plan', 'bonus', 'walk', 'hair', 'water', 'fucking', 'takes', 'kaylie', 'totally', 'fine']\n",
      "Topic 6:\t['job', 'awesome', 'ooh', 'game', 'stealth', 'idea', 'sounds', 'fucking', 'pretty', 'great']\n",
      "Topic 7:\t['acrobatics', 'walk', 'disadvantage', 'seven', 'jesus', 'nervously', 'vex', 'true', 'wow', 'laughs']\n",
      "Topic 8:\t['work', 'stay', 'end', 'idea', 'gil', 'advantage', 'guy', 'ah', 'man', 'fuck']\n",
      "Topic 9:\t['away', 'said', 'pretty', 'door', 'pike', 'tell', 'natural', 'cool', 'maybe', 'didn']\n"
     ]
    }
   ],
   "source": [
    "nmf = NMF(n_components=n_components, max_iter=200)\n",
    "topics = nmf.fit_transform(tfidf_df)\n",
    "print_top_terms(n_components=n_components, topics=topics, terms=tfidf.get_feature_names_out())"
   ]
  },
  {
   "cell_type": "code",
   "execution_count": null,
   "metadata": {},
   "outputs": [],
   "source": []
  },
  {
   "cell_type": "code",
   "execution_count": null,
   "metadata": {},
   "outputs": [],
   "source": []
  }
 ],
 "metadata": {
  "kernelspec": {
   "display_name": "Python 3.10.4 ('metis')",
   "language": "python",
   "name": "python3"
  },
  "language_info": {
   "codemirror_mode": {
    "name": "ipython",
    "version": 3
   },
   "file_extension": ".py",
   "mimetype": "text/x-python",
   "name": "python",
   "nbconvert_exporter": "python",
   "pygments_lexer": "ipython3",
   "version": "3.10.4"
  },
  "orig_nbformat": 4,
  "vscode": {
   "interpreter": {
    "hash": "2279e2d64b6cb4063ab7cfccb2020b604cfa41abe39379e7173718ec353138e1"
   }
  }
 },
 "nbformat": 4,
 "nbformat_minor": 2
}
