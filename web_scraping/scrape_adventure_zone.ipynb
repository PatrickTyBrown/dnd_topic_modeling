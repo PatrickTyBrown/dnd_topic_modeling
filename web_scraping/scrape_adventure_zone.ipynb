{
 "cells": [
  {
   "cell_type": "code",
   "execution_count": 16,
   "metadata": {},
   "outputs": [],
   "source": [
    "from bs4 import BeautifulSoup\n",
    "import requests\n",
    "import json\n",
    "import pandas as pd\n",
    "import PyPDF2\n",
    "import re\n",
    "import io\n",
    "import time\n",
    "\n",
    "# https://maximumfun.org/podcasts/adventure-zone/?_post-type=transcript&_paged=1&_sort=date_asc"
   ]
  },
  {
   "cell_type": "code",
   "execution_count": 22,
   "metadata": {},
   "outputs": [],
   "source": [
    "def save_text(url, dir='data/adventure_zone/files/'):\n",
    "    filename = url.split('/')[-1][:-4]\n",
    "    try:\n",
    "        remote_file = requests.get(url).content\n",
    "        # with open('test.pdf', 'wb') as file:\n",
    "        #     file.write(remote_file)\n",
    "        memory_file = io.BytesIO(remote_file)\n",
    "        reader = PyPDF2.PdfFileReader(memory_file)\n",
    "        with open(dir + filename +'.txt', 'w') as file:\n",
    "            for page in reader.pages:\n",
    "                file.writelines(page.extractText())\n",
    "        return filename\n",
    "    except:\n",
    "        return f'Skipped {filename}'\n",
    "\n",
    "def get_pdf_link(url):\n",
    "    html = requests.get(url).text\n",
    "    soup = BeautifulSoup(html)\n",
    "    for link in soup.findAll('a'):\n",
    "        if link and bool(re.search('Download', link.text)):\n",
    "    \n",
    "            return link['href']\n",
    "\n",
    "def get_episodes(url):\n",
    "    links = []\n",
    "    html = requests.get(url).text\n",
    "    soup = BeautifulSoup(html)\n",
    "    for header in soup.findAll('h4'):\n",
    "        link = header.find('a')\n",
    "        if link and bool(re.search('TRANSCRIPT', link.text)):\n",
    "    \n",
    "            links.append(link['href'])\n",
    "    return links"
   ]
  },
  {
   "cell_type": "markdown",
   "metadata": {},
   "source": [
    "# Main Loop"
   ]
  },
  {
   "cell_type": "code",
   "execution_count": 24,
   "metadata": {},
   "outputs": [],
   "source": [
    "def main():\n",
    "    for i in range(1,16):\n",
    "        url = f'https://maximumfun.org/podcasts/adventure-zone/?_post-type=transcript&_paged={i}&_sort=date_asc'\n",
    "        # print(url)\n",
    "        episodes = get_episodes(url)\n",
    "        # print(episodes)\n",
    "\n",
    "        for url in episodes:\n",
    "            url = get_pdf_link(url)\n",
    "            filename = save_text(url)\n",
    "            print(f'{i}/{15}:\\t{filename}',end='\\r',flush=True)\n",
    "            time.sleep(0.1)"
   ]
  },
  {
   "cell_type": "code",
   "execution_count": 25,
   "metadata": {},
   "outputs": [
    {
     "name": "stdout",
     "output_type": "stream",
     "text": [
      "15/15:\tTAZ237-Ethersea49-Episode-44022merald-City-Comic-Conr1ementss-Bigfoot\r"
     ]
    }
   ],
   "source": [
    "main()"
   ]
  },
  {
   "cell_type": "code",
   "execution_count": null,
   "metadata": {},
   "outputs": [],
   "source": []
  }
 ],
 "metadata": {
  "kernelspec": {
   "display_name": "Python 3.10.4 ('regression')",
   "language": "python",
   "name": "python3"
  },
  "language_info": {
   "codemirror_mode": {
    "name": "ipython",
    "version": 3
   },
   "file_extension": ".py",
   "mimetype": "text/x-python",
   "name": "python",
   "nbconvert_exporter": "python",
   "pygments_lexer": "ipython3",
   "version": "3.10.4"
  },
  "orig_nbformat": 4,
  "vscode": {
   "interpreter": {
    "hash": "b834e98849dd830995cef45fef40061e933db58847d4cb56560919edabbced90"
   }
  }
 },
 "nbformat": 4,
 "nbformat_minor": 2
}
