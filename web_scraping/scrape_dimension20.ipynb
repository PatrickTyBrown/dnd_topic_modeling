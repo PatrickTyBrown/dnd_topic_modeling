{
 "cells": [
  {
   "cell_type": "code",
   "execution_count": 1,
   "metadata": {},
   "outputs": [],
   "source": [
    "from bs4 import BeautifulSoup\n",
    "import requests\n",
    "import json\n",
    "import pandas as pd\n",
    "import re\n",
    "import io\n",
    "import time\n",
    "\n",
    "# https://dimension20.fandom.com/wiki/Category:Episodes\n",
    "# https://dimension20.fandom.com/wiki/Category:Episodes?from=No+Middle+Sliders"
   ]
  },
  {
   "cell_type": "code",
   "execution_count": 13,
   "metadata": {},
   "outputs": [],
   "source": [
    "def save_text(url, filename, dir='data/dimension_20/files/'):\n",
    "    try:\n",
    "        html = requests.get(url).text\n",
    "        soup = BeautifulSoup(html)\n",
    "\n",
    "        with open(dir + filename +'.txt', 'w') as file:\n",
    "            tags = soup.find('div', {'id':'contents'}).findAll('p')\n",
    "            for tag in tags:\n",
    "                file.writelines(tag.text)\n",
    "                # file.writelines('\\n')\n",
    "        return filename\n",
    "    except:\n",
    "        return f'Skipped {filename}'\n",
    "\n",
    "def get_transcript_link(url):\n",
    "    html = requests.get(url).text\n",
    "    soup = BeautifulSoup(html)\n",
    "    tags =  soup.findAll('a', {'class':\"external text\"})\n",
    "    for tag in tags:\n",
    "        if tag.text and tag['href'] and bool(re.search('TRANSCRIPT', tag.text)):\n",
    "            return tag['href']\n",
    "    return False\n",
    "\n",
    "def get_episodes(url):\n",
    "    links = []\n",
    "    html = requests.get(url).text\n",
    "    soup = BeautifulSoup(html)\n",
    "    tags = soup.findAll('a', {'class':\"category-page__member-link\"})\n",
    "    for tag in tags:\n",
    "        links.append('https://dimension20.fandom.com/'+ tag['href'])\n",
    "    return links"
   ]
  },
  {
   "cell_type": "markdown",
   "metadata": {},
   "source": [
    "# Main Loop"
   ]
  },
  {
   "cell_type": "code",
   "execution_count": 20,
   "metadata": {},
   "outputs": [],
   "source": [
    "def main():\n",
    "    urls = ['https://dimension20.fandom.com/wiki/Category:Episodes',\n",
    "            'https://dimension20.fandom.com/wiki/Category:Episodes?from=No+Middle+Sliders']\n",
    "    for url in urls:\n",
    "        # print(url)\n",
    "        episodes = get_episodes(url)\n",
    "        # print(episodes)\n",
    "        # for i in range(3):\n",
    "        for i in range(len(episodes)):\n",
    "            url = episodes[-i]\n",
    "            filename = url.split('/')[-1]\n",
    "            url = get_transcript_link(url)\n",
    "            save_text(url, filename=filename)\n",
    "            print(f'{i}/{len(episodes)}:\\t{filename}',end='\\r',flush=True)\n",
    "            time.sleep(0.5)\n",
    "        print(f'Site Episodes Done.', flush=True)\n",
    "        print('\\n ')"
   ]
  },
  {
   "cell_type": "code",
   "execution_count": 21,
   "metadata": {},
   "outputs": [
    {
     "name": "stdout",
     "output_type": "stream",
     "text": [
      "Site Episodes Done._Fey_%26_Flowers_Episodesa_Diamondg)ew_Mercer)arie)\n",
      "\n",
      " \n",
      "Site Episodes Done.d_For_a_Kid_Who_Used_to_Lick_Walls)dkeep_Pt._2Game\n",
      "\n",
      " \n"
     ]
    }
   ],
   "source": [
    "main()"
   ]
  },
  {
   "cell_type": "code",
   "execution_count": null,
   "metadata": {},
   "outputs": [],
   "source": []
  }
 ],
 "metadata": {
  "kernelspec": {
   "display_name": "Python 3.10.4 ('regression')",
   "language": "python",
   "name": "python3"
  },
  "language_info": {
   "codemirror_mode": {
    "name": "ipython",
    "version": 3
   },
   "file_extension": ".py",
   "mimetype": "text/x-python",
   "name": "python",
   "nbconvert_exporter": "python",
   "pygments_lexer": "ipython3",
   "version": "3.10.4"
  },
  "orig_nbformat": 4,
  "vscode": {
   "interpreter": {
    "hash": "b834e98849dd830995cef45fef40061e933db58847d4cb56560919edabbced90"
   }
  }
 },
 "nbformat": 4,
 "nbformat_minor": 2
}
