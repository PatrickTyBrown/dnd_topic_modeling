{
 "cells": [
  {
   "cell_type": "markdown",
   "metadata": {},
   "source": [
    "# Topic Modeling\n",
    "### Without Preprocessing"
   ]
  },
  {
   "cell_type": "code",
   "execution_count": 16,
   "metadata": {},
   "outputs": [],
   "source": [
    "import json\n",
    "import os\n",
    "import random\n",
    "import pandas as pd\n",
    "import numpy as np\n",
    "from sklearn.feature_extraction.text import CountVectorizer, TfidfVectorizer\n",
    "from sklearn.decomposition import PCA\n",
    "from sklearn.decomposition import NMF\n",
    "from sklearn.decomposition import TruncatedSVD\n",
    "from sklearn.decomposition import LatentDirichletAllocation"
   ]
  },
  {
   "cell_type": "markdown",
   "metadata": {},
   "source": [
    "#### Define Parameters"
   ]
  },
  {
   "cell_type": "code",
   "execution_count": 17,
   "metadata": {},
   "outputs": [],
   "source": [
    "n_components = 25 #Topics To generate\n",
    "n = 20 #Transcripts to use\n",
    "max_df=0.5\n",
    "min_df=0.0002\n",
    "n_terms = 10"
   ]
  },
  {
   "cell_type": "markdown",
   "metadata": {},
   "source": [
    "## Load Data"
   ]
  },
  {
   "cell_type": "code",
   "execution_count": 18,
   "metadata": {},
   "outputs": [],
   "source": [
    "def create_df_multi(n=25):\n",
    "    list_of_text = []\n",
    "    dir = '../data/aligned data/c=4'\n",
    "\n",
    "    files = [filename for filename in os.listdir(dir)]\n",
    "    sampled_files = random.choices(files,k=n)\n",
    "\n",
    "    for filename in sampled_files:\n",
    "        # choice = random.choice(os.listdir(dir))\n",
    "        # print(choice)\n",
    "        f = open(dir+'/'+filename)\n",
    "        data = json.load(f)\n",
    "        choice = random.choice(os.listdir(dir))\n",
    "        # print(choice)\n",
    "        f = open(dir+'/'+choice)\n",
    "        data = json.load(f)\n",
    "\n",
    "        for x in data:\n",
    "            for y in x['TURNS']:\n",
    "                text = ' '.join(y['UTTERANCES'])\n",
    "                list_of_text.append(text)\n",
    "    df = pd.DataFrame(list_of_text)\n",
    "    return df"
   ]
  },
  {
   "cell_type": "code",
   "execution_count": 19,
   "metadata": {},
   "outputs": [
    {
     "name": "stdout",
     "output_type": "stream",
     "text": [
      "(53756, 1)\n"
     ]
    },
    {
     "data": {
      "text/html": [
       "<div>\n",
       "<style scoped>\n",
       "    .dataframe tbody tr th:only-of-type {\n",
       "        vertical-align: middle;\n",
       "    }\n",
       "\n",
       "    .dataframe tbody tr th {\n",
       "        vertical-align: top;\n",
       "    }\n",
       "\n",
       "    .dataframe thead th {\n",
       "        text-align: right;\n",
       "    }\n",
       "</style>\n",
       "<table border=\"1\" class=\"dataframe\">\n",
       "  <thead>\n",
       "    <tr style=\"text-align: right;\">\n",
       "      <th></th>\n",
       "      <th>0</th>\n",
       "    </tr>\n",
       "  </thead>\n",
       "  <tbody>\n",
       "    <tr>\n",
       "      <th>0</th>\n",
       "      <td>Hello everybody, and welcome to tonight's epis...</td>\n",
       "    </tr>\n",
       "    <tr>\n",
       "      <th>1</th>\n",
       "      <td>Now from our own studio!</td>\n",
       "    </tr>\n",
       "    <tr>\n",
       "      <th>2</th>\n",
       "      <td>It's so weird!</td>\n",
       "    </tr>\n",
       "    <tr>\n",
       "      <th>3</th>\n",
       "      <td>I know, not a whole lot has changed at the mom...</td>\n",
       "    </tr>\n",
       "    <tr>\n",
       "      <th>4</th>\n",
       "      <td>This is a crazy thing above us.</td>\n",
       "    </tr>\n",
       "  </tbody>\n",
       "</table>\n",
       "</div>"
      ],
      "text/plain": [
       "                                                   0\n",
       "0  Hello everybody, and welcome to tonight's epis...\n",
       "1                           Now from our own studio!\n",
       "2                                     It's so weird!\n",
       "3  I know, not a whole lot has changed at the mom...\n",
       "4                    This is a crazy thing above us."
      ]
     },
     "execution_count": 19,
     "metadata": {},
     "output_type": "execute_result"
    }
   ],
   "source": [
    "df = create_df_multi(n)\n",
    "print(df.shape)\n",
    "df.head()"
   ]
  },
  {
   "cell_type": "markdown",
   "metadata": {},
   "source": [
    "## Vectorize Data\n"
   ]
  },
  {
   "cell_type": "markdown",
   "metadata": {},
   "source": [
    "\n",
    "- Count Vectorizer\n",
    "- Tfidf Vectorizer\n",
    "\n",
    "Use both with each model"
   ]
  },
  {
   "cell_type": "code",
   "execution_count": 20,
   "metadata": {},
   "outputs": [
    {
     "name": "stdout",
     "output_type": "stream",
     "text": [
      "(53756, 1678)\n"
     ]
    },
    {
     "data": {
      "text/html": [
       "<div>\n",
       "<style scoped>\n",
       "    .dataframe tbody tr th:only-of-type {\n",
       "        vertical-align: middle;\n",
       "    }\n",
       "\n",
       "    .dataframe tbody tr th {\n",
       "        vertical-align: top;\n",
       "    }\n",
       "\n",
       "    .dataframe thead th {\n",
       "        text-align: right;\n",
       "    }\n",
       "</style>\n",
       "<table border=\"1\" class=\"dataframe\">\n",
       "  <thead>\n",
       "    <tr style=\"text-align: right;\">\n",
       "      <th></th>\n",
       "      <th>0</th>\n",
       "      <th>1</th>\n",
       "      <th>2</th>\n",
       "      <th>3</th>\n",
       "      <th>4</th>\n",
       "      <th>5</th>\n",
       "      <th>6</th>\n",
       "      <th>7</th>\n",
       "      <th>8</th>\n",
       "      <th>9</th>\n",
       "      <th>...</th>\n",
       "      <th>53746</th>\n",
       "      <th>53747</th>\n",
       "      <th>53748</th>\n",
       "      <th>53749</th>\n",
       "      <th>53750</th>\n",
       "      <th>53751</th>\n",
       "      <th>53752</th>\n",
       "      <th>53753</th>\n",
       "      <th>53754</th>\n",
       "      <th>53755</th>\n",
       "    </tr>\n",
       "  </thead>\n",
       "  <tbody>\n",
       "    <tr>\n",
       "      <th>yes s</th>\n",
       "      <td>0.0</td>\n",
       "      <td>0.0</td>\n",
       "      <td>0.0</td>\n",
       "      <td>0.0</td>\n",
       "      <td>0.0</td>\n",
       "      <td>0.0</td>\n",
       "      <td>0.0</td>\n",
       "      <td>0.0</td>\n",
       "      <td>0.0</td>\n",
       "      <td>0.0</td>\n",
       "      <td>...</td>\n",
       "      <td>0.0</td>\n",
       "      <td>0.0</td>\n",
       "      <td>0.0</td>\n",
       "      <td>0.0</td>\n",
       "      <td>0.0</td>\n",
       "      <td>0.0</td>\n",
       "      <td>0.0</td>\n",
       "      <td>0.0</td>\n",
       "      <td>0.0</td>\n",
       "      <td>0.0</td>\n",
       "    </tr>\n",
       "    <tr>\n",
       "      <th>yes yes</th>\n",
       "      <td>0.0</td>\n",
       "      <td>0.0</td>\n",
       "      <td>0.0</td>\n",
       "      <td>0.0</td>\n",
       "      <td>0.0</td>\n",
       "      <td>0.0</td>\n",
       "      <td>0.0</td>\n",
       "      <td>0.0</td>\n",
       "      <td>0.0</td>\n",
       "      <td>0.0</td>\n",
       "      <td>...</td>\n",
       "      <td>0.0</td>\n",
       "      <td>0.0</td>\n",
       "      <td>0.0</td>\n",
       "      <td>0.0</td>\n",
       "      <td>0.0</td>\n",
       "      <td>0.0</td>\n",
       "      <td>0.0</td>\n",
       "      <td>0.0</td>\n",
       "      <td>0.0</td>\n",
       "      <td>0.0</td>\n",
       "    </tr>\n",
       "    <tr>\n",
       "      <th>young age</th>\n",
       "      <td>0.0</td>\n",
       "      <td>0.0</td>\n",
       "      <td>0.0</td>\n",
       "      <td>0.0</td>\n",
       "      <td>0.0</td>\n",
       "      <td>0.0</td>\n",
       "      <td>0.0</td>\n",
       "      <td>0.0</td>\n",
       "      <td>0.0</td>\n",
       "      <td>0.0</td>\n",
       "      <td>...</td>\n",
       "      <td>0.0</td>\n",
       "      <td>0.0</td>\n",
       "      <td>0.0</td>\n",
       "      <td>0.0</td>\n",
       "      <td>0.0</td>\n",
       "      <td>0.0</td>\n",
       "      <td>0.0</td>\n",
       "      <td>0.0</td>\n",
       "      <td>0.0</td>\n",
       "      <td>0.0</td>\n",
       "    </tr>\n",
       "    <tr>\n",
       "      <th>zadash decided</th>\n",
       "      <td>0.0</td>\n",
       "      <td>0.0</td>\n",
       "      <td>0.0</td>\n",
       "      <td>0.0</td>\n",
       "      <td>0.0</td>\n",
       "      <td>0.0</td>\n",
       "      <td>0.0</td>\n",
       "      <td>0.0</td>\n",
       "      <td>0.0</td>\n",
       "      <td>0.0</td>\n",
       "      <td>...</td>\n",
       "      <td>0.0</td>\n",
       "      <td>0.0</td>\n",
       "      <td>0.0</td>\n",
       "      <td>0.0</td>\n",
       "      <td>0.0</td>\n",
       "      <td>0.0</td>\n",
       "      <td>0.0</td>\n",
       "      <td>0.0</td>\n",
       "      <td>0.0</td>\n",
       "      <td>0.0</td>\n",
       "    </tr>\n",
       "    <tr>\n",
       "      <th>zauber spire</th>\n",
       "      <td>0.0</td>\n",
       "      <td>0.0</td>\n",
       "      <td>0.0</td>\n",
       "      <td>0.0</td>\n",
       "      <td>0.0</td>\n",
       "      <td>0.0</td>\n",
       "      <td>0.0</td>\n",
       "      <td>0.0</td>\n",
       "      <td>0.0</td>\n",
       "      <td>0.0</td>\n",
       "      <td>...</td>\n",
       "      <td>0.0</td>\n",
       "      <td>0.0</td>\n",
       "      <td>0.0</td>\n",
       "      <td>0.0</td>\n",
       "      <td>0.0</td>\n",
       "      <td>0.0</td>\n",
       "      <td>0.0</td>\n",
       "      <td>0.0</td>\n",
       "      <td>0.0</td>\n",
       "      <td>0.0</td>\n",
       "    </tr>\n",
       "  </tbody>\n",
       "</table>\n",
       "<p>5 rows × 53756 columns</p>\n",
       "</div>"
      ],
      "text/plain": [
       "                0      1      2      3      4      5      6      7      8      \\\n",
       "yes s             0.0    0.0    0.0    0.0    0.0    0.0    0.0    0.0    0.0   \n",
       "yes yes           0.0    0.0    0.0    0.0    0.0    0.0    0.0    0.0    0.0   \n",
       "young age         0.0    0.0    0.0    0.0    0.0    0.0    0.0    0.0    0.0   \n",
       "zadash decided    0.0    0.0    0.0    0.0    0.0    0.0    0.0    0.0    0.0   \n",
       "zauber spire      0.0    0.0    0.0    0.0    0.0    0.0    0.0    0.0    0.0   \n",
       "\n",
       "                9      ...  53746  53747  53748  53749  53750  53751  53752  \\\n",
       "yes s             0.0  ...    0.0    0.0    0.0    0.0    0.0    0.0    0.0   \n",
       "yes yes           0.0  ...    0.0    0.0    0.0    0.0    0.0    0.0    0.0   \n",
       "young age         0.0  ...    0.0    0.0    0.0    0.0    0.0    0.0    0.0   \n",
       "zadash decided    0.0  ...    0.0    0.0    0.0    0.0    0.0    0.0    0.0   \n",
       "zauber spire      0.0  ...    0.0    0.0    0.0    0.0    0.0    0.0    0.0   \n",
       "\n",
       "                53753  53754  53755  \n",
       "yes s             0.0    0.0    0.0  \n",
       "yes yes           0.0    0.0    0.0  \n",
       "young age         0.0    0.0    0.0  \n",
       "zadash decided    0.0    0.0    0.0  \n",
       "zauber spire      0.0    0.0    0.0  \n",
       "\n",
       "[5 rows x 53756 columns]"
      ]
     },
     "execution_count": 20,
     "metadata": {},
     "output_type": "execute_result"
    }
   ],
   "source": [
    "# tfidf=TfidfVectorizer(stop_words='english',max_df=.7,min_df=2,token_pattern=r'(?u)\\b[A-Za-z]+\\b')\n",
    "\n",
    "tfidf = TfidfVectorizer(stop_words='english', \n",
    "    max_df=max_df,\n",
    "    min_df=min_df,\n",
    "    token_pattern=r'(?u)\\b[A-Za-z]+\\b',\n",
    "    ngram_range=(2,2)\n",
    "    )\n",
    "tfidf_sparse = tfidf.fit_transform(df[0])\n",
    "print(tfidf_sparse.shape)\n",
    "tfidf_df = pd.DataFrame(tfidf_sparse.toarray().transpose(),\n",
    "                   index=tfidf.get_feature_names_out())\n",
    "tfidf_df.tail()"
   ]
  },
  {
   "cell_type": "code",
   "execution_count": 21,
   "metadata": {},
   "outputs": [
    {
     "name": "stdout",
     "output_type": "stream",
     "text": [
      "(53756, 1678)\n"
     ]
    },
    {
     "data": {
      "text/html": [
       "<div>\n",
       "<style scoped>\n",
       "    .dataframe tbody tr th:only-of-type {\n",
       "        vertical-align: middle;\n",
       "    }\n",
       "\n",
       "    .dataframe tbody tr th {\n",
       "        vertical-align: top;\n",
       "    }\n",
       "\n",
       "    .dataframe thead th {\n",
       "        text-align: right;\n",
       "    }\n",
       "</style>\n",
       "<table border=\"1\" class=\"dataframe\">\n",
       "  <thead>\n",
       "    <tr style=\"text-align: right;\">\n",
       "      <th></th>\n",
       "      <th>0</th>\n",
       "      <th>1</th>\n",
       "      <th>2</th>\n",
       "      <th>3</th>\n",
       "      <th>4</th>\n",
       "      <th>5</th>\n",
       "      <th>6</th>\n",
       "      <th>7</th>\n",
       "      <th>8</th>\n",
       "      <th>9</th>\n",
       "      <th>...</th>\n",
       "      <th>53746</th>\n",
       "      <th>53747</th>\n",
       "      <th>53748</th>\n",
       "      <th>53749</th>\n",
       "      <th>53750</th>\n",
       "      <th>53751</th>\n",
       "      <th>53752</th>\n",
       "      <th>53753</th>\n",
       "      <th>53754</th>\n",
       "      <th>53755</th>\n",
       "    </tr>\n",
       "  </thead>\n",
       "  <tbody>\n",
       "    <tr>\n",
       "      <th>yes s</th>\n",
       "      <td>0</td>\n",
       "      <td>0</td>\n",
       "      <td>0</td>\n",
       "      <td>0</td>\n",
       "      <td>0</td>\n",
       "      <td>0</td>\n",
       "      <td>0</td>\n",
       "      <td>0</td>\n",
       "      <td>0</td>\n",
       "      <td>0</td>\n",
       "      <td>...</td>\n",
       "      <td>0</td>\n",
       "      <td>0</td>\n",
       "      <td>0</td>\n",
       "      <td>0</td>\n",
       "      <td>0</td>\n",
       "      <td>0</td>\n",
       "      <td>0</td>\n",
       "      <td>0</td>\n",
       "      <td>0</td>\n",
       "      <td>0</td>\n",
       "    </tr>\n",
       "    <tr>\n",
       "      <th>yes yes</th>\n",
       "      <td>0</td>\n",
       "      <td>0</td>\n",
       "      <td>0</td>\n",
       "      <td>0</td>\n",
       "      <td>0</td>\n",
       "      <td>0</td>\n",
       "      <td>0</td>\n",
       "      <td>0</td>\n",
       "      <td>0</td>\n",
       "      <td>0</td>\n",
       "      <td>...</td>\n",
       "      <td>0</td>\n",
       "      <td>0</td>\n",
       "      <td>0</td>\n",
       "      <td>0</td>\n",
       "      <td>0</td>\n",
       "      <td>0</td>\n",
       "      <td>0</td>\n",
       "      <td>0</td>\n",
       "      <td>0</td>\n",
       "      <td>0</td>\n",
       "    </tr>\n",
       "    <tr>\n",
       "      <th>young age</th>\n",
       "      <td>0</td>\n",
       "      <td>0</td>\n",
       "      <td>0</td>\n",
       "      <td>0</td>\n",
       "      <td>0</td>\n",
       "      <td>0</td>\n",
       "      <td>0</td>\n",
       "      <td>0</td>\n",
       "      <td>0</td>\n",
       "      <td>0</td>\n",
       "      <td>...</td>\n",
       "      <td>0</td>\n",
       "      <td>0</td>\n",
       "      <td>0</td>\n",
       "      <td>0</td>\n",
       "      <td>0</td>\n",
       "      <td>0</td>\n",
       "      <td>0</td>\n",
       "      <td>0</td>\n",
       "      <td>0</td>\n",
       "      <td>0</td>\n",
       "    </tr>\n",
       "    <tr>\n",
       "      <th>zadash decided</th>\n",
       "      <td>0</td>\n",
       "      <td>0</td>\n",
       "      <td>0</td>\n",
       "      <td>0</td>\n",
       "      <td>0</td>\n",
       "      <td>0</td>\n",
       "      <td>0</td>\n",
       "      <td>0</td>\n",
       "      <td>0</td>\n",
       "      <td>0</td>\n",
       "      <td>...</td>\n",
       "      <td>0</td>\n",
       "      <td>0</td>\n",
       "      <td>0</td>\n",
       "      <td>0</td>\n",
       "      <td>0</td>\n",
       "      <td>0</td>\n",
       "      <td>0</td>\n",
       "      <td>0</td>\n",
       "      <td>0</td>\n",
       "      <td>0</td>\n",
       "    </tr>\n",
       "    <tr>\n",
       "      <th>zauber spire</th>\n",
       "      <td>0</td>\n",
       "      <td>0</td>\n",
       "      <td>0</td>\n",
       "      <td>0</td>\n",
       "      <td>0</td>\n",
       "      <td>0</td>\n",
       "      <td>0</td>\n",
       "      <td>0</td>\n",
       "      <td>0</td>\n",
       "      <td>0</td>\n",
       "      <td>...</td>\n",
       "      <td>0</td>\n",
       "      <td>0</td>\n",
       "      <td>0</td>\n",
       "      <td>0</td>\n",
       "      <td>0</td>\n",
       "      <td>0</td>\n",
       "      <td>0</td>\n",
       "      <td>0</td>\n",
       "      <td>0</td>\n",
       "      <td>0</td>\n",
       "    </tr>\n",
       "  </tbody>\n",
       "</table>\n",
       "<p>5 rows × 53756 columns</p>\n",
       "</div>"
      ],
      "text/plain": [
       "                0      1      2      3      4      5      6      7      8      \\\n",
       "yes s               0      0      0      0      0      0      0      0      0   \n",
       "yes yes             0      0      0      0      0      0      0      0      0   \n",
       "young age           0      0      0      0      0      0      0      0      0   \n",
       "zadash decided      0      0      0      0      0      0      0      0      0   \n",
       "zauber spire        0      0      0      0      0      0      0      0      0   \n",
       "\n",
       "                9      ...  53746  53747  53748  53749  53750  53751  53752  \\\n",
       "yes s               0  ...      0      0      0      0      0      0      0   \n",
       "yes yes             0  ...      0      0      0      0      0      0      0   \n",
       "young age           0  ...      0      0      0      0      0      0      0   \n",
       "zadash decided      0  ...      0      0      0      0      0      0      0   \n",
       "zauber spire        0  ...      0      0      0      0      0      0      0   \n",
       "\n",
       "                53753  53754  53755  \n",
       "yes s               0      0      0  \n",
       "yes yes             0      0      0  \n",
       "young age           0      0      0  \n",
       "zadash decided      0      0      0  \n",
       "zauber spire        0      0      0  \n",
       "\n",
       "[5 rows x 53756 columns]"
      ]
     },
     "execution_count": 21,
     "metadata": {},
     "output_type": "execute_result"
    }
   ],
   "source": [
    "cv = CountVectorizer(stop_words='english', \n",
    "    max_df=max_df,\n",
    "    min_df=min_df,\n",
    "    token_pattern=r'(?u)\\b[A-Za-z]+\\b',\n",
    "    ngram_range=(2,2)\n",
    "    )\n",
    "cv_sparse = cv.fit_transform(df[0])\n",
    "print(cv_sparse.shape)\n",
    "cv_df = pd.DataFrame(cv_sparse.toarray().transpose(),\n",
    "                   index=cv.get_feature_names_out())\n",
    "cv_df.tail()"
   ]
  },
  {
   "cell_type": "markdown",
   "metadata": {},
   "source": [
    "## Define Output Functions"
   ]
  },
  {
   "cell_type": "code",
   "execution_count": 22,
   "metadata": {},
   "outputs": [],
   "source": [
    "def print_top_terms(n_components, topics, terms, n_terms = 10):\n",
    "    for x in range(n_components):\n",
    "        topic = x\n",
    "        components = topics[:,topic]\n",
    "        top_term_indices = components.argsort()[-n_terms:]\n",
    "        top_terms = np.array(terms)[top_term_indices]\n",
    "        \n",
    "        print(f'Topic {x}:\\t{top_terms.tolist()}')\n"
   ]
  },
  {
   "cell_type": "markdown",
   "metadata": {},
   "source": [
    "## PCA"
   ]
  },
  {
   "cell_type": "code",
   "execution_count": 23,
   "metadata": {},
   "outputs": [
    {
     "name": "stdout",
     "output_type": "stream",
     "text": [
      "Topic 0:\t['mighty nein', 'richter s', 'sutan s', 'make way', 's house', 'd like', 'look like', 'lord sutan', 'knights requital', 'high richter']\n",
      "Topic 1:\t['s just', 'didn t', 'high richter', 's going', 'm going', 'know s', 't think', 't want', 't know', 'don t']\n",
      "Topic 2:\t['bunch nerdy', 'nerdy ass', 'ass voice', 'voice actors', 'role bunch', 'critical role', 'dungeons dragons', 'oh m', 'look like', 'd d']\n",
      "Topic 3:\t['going start', 's going', 'going m', 'right m', 'going cast', 'going use', 'going try', 'd d', 'okay m', 'm going']\n",
      "Topic 4:\t['guy s', 'critical role', 'little bit', 'going end', 'going ahead', 's just', 'know s', 's turn', 'let s', 's going']\n",
      "Topic 5:\t['s good', 'tonight s', 'didn t', 's let', 's ahead', 'right let', 'yeah let', 'critical role', 's just', 'let s']\n",
      "Topic 6:\t['know don', 'looks like', 'just didn', 's just', 'wasn t', 't say', 'doesn t', 'know s', 'didn t', 't know']\n",
      "Topic 7:\t['wasn t', 'vex ahlia', 'looks like', 'make way', 't say', 'little bit', 't think', 'don t', 't want', 'didn t']\n",
      "Topic 8:\t['like s', 't know', 's good', 's like', 's little', 'make way', 'doesn t', 'looks like', 's just', 'little bit']\n",
      "Topic 9:\t['ve got', 's like', 'know s', 'make way', 'yeah s', 'like s', 'points damage', 'looks like', 'doesn t', 's just']\n",
      "Topic 10:\t['s episode', 't want', 't mean', 'tonight s', 't work', 've got', 'critical role', 'let s', 't matter', 'doesn t']\n",
      "Topic 11:\t['ahead roll', 'plus points', 'damage points', 's plus', 'damage right', 'saving throw', 'seven points', 's turn', 's points', 'points damage']\n",
      "Topic 12:\t['s points', 't shirt', 'okay ve', 'oh ve', 'yeah ve', 's turn', 'right s', 's right', 'points damage', 've got']\n",
      "Topic 13:\t['s like', 'haven t', 's right', 'episode critical', 'oh s', 's episode', 'tonight s', 'critical role', 'yeah s', 's good']\n",
      "Topic 14:\t['voice actors', 'role bunch', 'haven t', 'points damage', 'like s', 'episode critical', 's episode', 'tonight s', 'critical role', 'looks like']\n",
      "Topic 15:\t['s turn', 'yeah s', 's right', 'oh s', 'let s', 'make way', 's like', 's good', 'like s', 'looks like']\n",
      "Topic 16:\t['gonna ahead', 'right m', 'gonna cast', 'looks like', 'gonna try', 'critical role', 's fine', 'okay m', 'okay s', 'm gonna']\n",
      "Topic 17:\t['make constitution', 'oh s', 'wisdom saving', 'm gonna', 'ahead make', 'right s', 'constitution saving', 's turn', 's right', 'saving throw']\n",
      "Topic 18:\t['bonus action', 'let s', 'little bit', 'oh yeah', 's pretty', 's turn', 'right s', 's right', 's like', 'yeah s']\n",
      "Topic 19:\t['s episode', 'tonight s', 'okay s', 'critical role', 'vox machina', 'oh god', 's turn', 'right s', 'oh s', 's right']\n",
      "Topic 20:\t['going oh', 'com criticalrole', 'oh yeah', 'm gonna', 'make way', 'going try', 'yeah s', 't want', 'god s', 'oh god']\n",
      "Topic 21:\t['s s', 'like s', 's okay', 'know s', 'okay s', 'saving throw', 'oh god', 'oh s', 's good', 's like']\n",
      "Topic 22:\t['mighty nein', 'tri spire', 'isn t', 'haven t', 'guys make', 'leaky tap', 'making way', 's like', 's turn', 'make way']\n",
      "Topic 23:\t['s like', 'haven t', 'roll attack', 'okay ahead', 'hits ahead', 'oh s', 's right', 'roll damage', 'make way', 'ahead roll']\n",
      "Topic 24:\t['s like', 's good', 'beau s', 'roll attack', 'okay ahead', 'hits ahead', 'turn s', 'roll damage', 'ahead roll', 's turn']\n"
     ]
    }
   ],
   "source": [
    "pca = PCA(n_components=n_components)\n",
    "topics = pca.fit_transform(cv_df)\n",
    "print_top_terms(n_components=n_components, topics=topics, terms=cv.get_feature_names_out())"
   ]
  },
  {
   "cell_type": "code",
   "execution_count": 24,
   "metadata": {},
   "outputs": [
    {
     "name": "stdout",
     "output_type": "stream",
     "text": [
      "Topic 0:\t['yeah don', 't like', 't worry', 't need', 'didn t', 'know s', 't think', 't want', 't know', 'don t']\n",
      "Topic 1:\t['going m', 'going run', 'yeah m', 'right m', 'going start', 'going cast', 'going use', 'going try', 'okay m', 'm going']\n",
      "Topic 2:\t['s s', 's say', 's ahead', 've got', 'okay let', 's going', 'right let', 'yeah let', 's just', 'let s']\n",
      "Topic 3:\t['going end', 've got', 's turn', 'doesn t', 'okay s', 'yeah s', 'didn t', 'know s', 't know', 's going']\n",
      "Topic 4:\t['wasn t', 't work', 'oh didn', 'know s', 't say', 'doesn t', 'oh god', 've got', 't know', 'didn t']\n",
      "Topic 5:\t['s right', 'got s', 'got right', 'right ve', 'okay ve', 's ve', 'oh ve', 'don t', 'yeah ve', 've got']\n",
      "Topic 6:\t['going try', 've got', 'points damage', 'haven t', 'oh yeah', 't think', 't want', 'don t', 'god s', 'oh god']\n",
      "Topic 7:\t['know ll', 'know ve', 'know don', 's just', 'know m', 've got', 'know s', 'oh god', 'doesn t', 't know']\n",
      "Topic 8:\t['okay s', 'points damage', 'little bit', 's just', 's like', 'doesn t', 's right', 'yeah s', 'oh s', 's good']\n",
      "Topic 9:\t['t look', 't hit', 'looks like', 't mean', 't work', 't want', 't matter', 'points damage', 'little bit', 'doesn t']\n",
      "Topic 10:\t['bit light', 's points', 's right', 's little', 't know', 'just little', 's just', 's like', 'points damage', 'little bit']\n",
      "Topic 11:\t['damage points', 'takes points', 's like', 's right', 'damage right', 's just', 'seven points', 'yeah s', 's points', 'points damage']\n",
      "Topic 12:\t['s bad', 'saving throw', 's better', 'isn t', 's turn', 's okay', 'doesn t', 'right s', 's right', 'oh s']\n",
      "Topic 13:\t['good thing', 's points', 't know', 'okay s', 's going', 'good idea', 'good s', 'little bit', 'points damage', 's good']\n",
      "Topic 14:\t['know s', 'okay s', 's holding', 'like s', 'like oh', 'guy s', 'let s', 's good', 'oh s', 's like']\n",
      "Topic 15:\t['just like', 'isn t', 'like s', 'oh s', 'okay s', 's good', 'know s', 'looks like', 's like', 's just']\n",
      "Topic 16:\t['like s', 's s', 'looks like', 'know s', 'okay s', 'right s', 's just', 's good', 's like', 's right']\n",
      "Topic 17:\t['gonna ahead', 'yeah m', 'perception check', 'right m', 'gonna cast', 'gonna try', 'okay s', 's fine', 'okay m', 'm gonna']\n",
      "Topic 18:\t['t really', 't heard', 've seen', 'm sorry', 'm gonna', 'isn t', 's pretty', 'looks like', 't seen', 'haven t']\n",
      "Topic 19:\t['yeah yeah', 'yeah ve', 's like', 'isn t', 'haven t', 'yeah right', 's just', 'm just', 'yeah m', 'oh yeah']\n",
      "Topic 20:\t['like small', 's got', 'perception check', 'wasn t', 'look like', 'make way', 's true', 'oh yeah', 'like s', 'looks like']\n",
      "Topic 21:\t['make saving', 'wisdom saving', 'constitution saving', 'looks like', 'roll damage', 'ahead make', 'ahead roll', 'make perception', 'perception check', 'saving throw']\n",
      "Topic 22:\t['s turn', 'oh yeah', 'm sorry', 'oh shit', 'ahead make', 'saving throw', 'wasn t', 'make perception', 'perception check', 's true']\n",
      "Topic 23:\t['s fine', 'roll attack', 'know s', 's got', 'okay s', 'm sorry', 'wasn t', 'roll damage', 'ahead roll', 'oh shit']\n",
      "Topic 24:\t['make constitution', 'make saving', 'oh yeah', 'wisdom saving', 'constitution saving', 'isn t', 'roll damage', 'ahead roll', 's true', 'saving throw']\n"
     ]
    }
   ],
   "source": [
    "pca = PCA(n_components=n_components)\n",
    "topics = pca.fit_transform(tfidf_df)\n",
    "print_top_terms(n_components=n_components, topics=topics, terms=tfidf.get_feature_names_out())"
   ]
  },
  {
   "cell_type": "markdown",
   "metadata": {},
   "source": [
    "## LDA"
   ]
  },
  {
   "cell_type": "code",
   "execution_count": 25,
   "metadata": {},
   "outputs": [
    {
     "name": "stdout",
     "output_type": "stream",
     "text": [
      "Topic 0:\t['did roll', 'sutan s', 'scroll case', 's thing', 'yeah know', 't just', 's house', 'knights requital', 'going say', 'high richter']\n",
      "Topic 1:\t['ll try', 'second attack', 's beautiful', 'lead box', 'yasha s', 'just want', 'oh man', 'going use', 'wouldn t', 's really']\n",
      "Topic 2:\t['s doing', 'wait wait', 'oh right', 'm trying', 'points slashing', 's looking', 'yeah ll', 'slashing damage', 'aren t', 'oh s']\n",
      "Topic 3:\t['investigation check', 'just like', 'going cast', 't really', 's hard', 'yeah m', 'isn t', 'like s', 'know s', 'looks like']\n",
      "Topic 4:\t['oh don', 'persuasion check', 'sounds like', 'flying carpet', 'make persuasion', 'm good', 'oh m', 's coming', 'okay right', 's s']\n",
      "Topic 5:\t['okay just', 'm saying', 's amazing', 's head', 'episode critical', 's episode', 'going ahead', 's little', 'critical role', 't think']\n",
      "Topic 6:\t['okay yeah', 't mind', 'going run', 's natural', 's better', 'm doing', 'roll attack', 'oh wait', 's true', 'oh god']\n",
      "Topic 7:\t['know right', 't quite', 's kind', 's bad', 'scanlan s', 'grog s', 'oh shit', 'roll damage', 't want', 's just']\n",
      "Topic 8:\t['feet away', 's cool', 'okay guys', 'sir kerrion', 'tal dorei', 'points damage', 'pretty good', 'oh okay', 'does hit', 'm sorry']\n",
      "Topic 9:\t['s yeah', 's wearing', 'think ve', 'sorry m', 'ain t', 's ll', 'going look', 'right ahead', 'good s', 'saving throws']\n",
      "Topic 10:\t['constitution saving', 's feet', 'll just', 's plus', 'group laughs', 'won t', 's got', 'm just', 'bonus action', 's like']\n",
      "Topic 11:\t['right make', 'yeah did', 'make deception', 'think m', 's fair', 'shouldn t', 'short rest', 't need', 'okay m', 's pretty']\n",
      "Topic 12:\t['s happening', 'does look', 'weren t', 'know m', 'right ll', 'hit points', 'make sure', 'd d', 'ahead make', 'haven t']\n",
      "Topic 13:\t['half damage', 'caleb s', 'beau s', 'athletics check', 'jester s', 'just little', 'wait s', 'going make', 's way', 'right m']\n",
      "Topic 14:\t['t look', 'plank king', 'elder brain', 'trinket s', 't tell', 'okay okay', 'd say', 'guys make', 'okay s', 's turn']\n",
      "Topic 15:\t['dr dranzel', 'sun tree', 'pretty sure', 'll right', 'say s', 'm looking', 'sure s', 's great', 'gold pieces', 'think s']\n",
      "Topic 16:\t['oh boy', 'look s', 's awesome', 't s', 's far', 'real fast', 'lady briarwood', 'right right', 'okay ll', 's probably']\n",
      "Topic 17:\t['s currently', 'dwendalian empire', 'make stealth', 'point s', 'yeah don', 'just case', 'really good', 'yes yes', 'm gonna', 's good']\n",
      "Topic 18:\t['t going', 'guys just', 'going step', 'just make', 'know know', 'healing potion', 's getting', 'going hit', 'sneak attack', 'going try']\n",
      "Topic 19:\t['oh good', 'oh fuck', 't mean', 'armor class', 's time', 's gonna', 'plus s', 'right guys', 'ahead roll', 'saving throw']\n",
      "Topic 20:\t['damage right', 's weird', 'good idea', 's dead', 'points piercing', 'piercing damage', 'll say', 's okay', 'right s', 's going']\n",
      "Topic 21:\t['t like', 'far away', 'right let', 'insight check', 'going start', 'long time', 'bag holding', 'feel like', 's fine', 've got']\n",
      "Topic 22:\t['wisdom saving', 'cure wounds', 'damage s', 's nice', 's m', 's actually', 'm sure', 'vox machina', 'yeah s', 'perception check']\n",
      "Topic 23:\t['time s', 's hit', 'yeah just', 't worry', 'okay good', 's points', 've heard', 'umber hulk', 'hunter s', 've seen']\n",
      "Topic 24:\t['good night', 'yeah okay', 'right ends', 'end turn', 'yeah yeah', 'good know', 'yeah let', 'ends turn', 'oh yeah', 'wasn t']\n"
     ]
    }
   ],
   "source": [
    "lda = LatentDirichletAllocation(n_components=n_components)\n",
    "topics = lda.fit_transform(cv_df)\n",
    "print_top_terms(n_components=n_components, topics=topics, terms=cv.get_feature_names_out())"
   ]
  },
  {
   "cell_type": "code",
   "execution_count": 26,
   "metadata": {},
   "outputs": [
    {
     "name": "stdout",
     "output_type": "stream",
     "text": [
      "Topic 0:\t['think need', 'people s', 'like m', 't help', 's different', 'half damage', 'right ends', 'insight check', 'oh shit', 'haven t']\n",
      "Topic 1:\t['okay roll', 'attack opportunity', 'plus s', 'maybe s', 'm looking', 'weren t', 'roll attack', 'vox machina', 'aren t', 'hit points']\n",
      "Topic 2:\t['just got', 'll fine', 's kind', 'yeah just', 'good s', 'really good', 'd d', 'going try', 's turn', 'looks like']\n",
      "Topic 3:\t['s awesome', 'shouldn t', 't like', 'wait s', 's actually', 'long time', 'scanlan s', 'sneak attack', 've heard', 'right ll']\n",
      "Topic 4:\t['just case', 's points', 'okay good', 's coming', 'saving throws', 'oh right', 's okay', 's s', 's good', 's right']\n",
      "Topic 5:\t['right ahead', 'guy s', 'just little', 'd say', 's way', 'okay ll', 's little', 'oh okay', 'll just', 'wasn t']\n",
      "Topic 6:\t['level spell', 'bad news', 'feet away', 'just saying', 'trinket s', 's thing', 't say', 'leaky tap', 's great', 's really']\n",
      "Topic 7:\t['s mark', 's hit', 's fair', 'going ahead', 'm good', 'right let', 's nice', 'hunter s', 's plus', 'm just']\n",
      "Topic 8:\t['right brings', 't tell', 'oh fuck', 'end turn', 'going cast', 's hard', 'oh wait', 'oh god', 's true', 'okay s']\n",
      "Topic 9:\t['just say', 't mean', 't s', 'm fine', 'beau s', 's gone', 'oh just', 'okay right', 'm sure', 't think']\n",
      "Topic 10:\t['say s', 'good night', 'flying carpet', 'percy s', 'does look', 'real fast', 'pretty good', 'yeah ll', 'roll damage', 'bonus action']\n",
      "Topic 11:\t['open door', 'way s', 't trust', 'yasha s', 's getting', 'yeah did', 'oh good', 't really', 'm gonna', 'right guys']\n",
      "Topic 12:\t['points slashing', 'just want', 'slashing damage', 's looking', 'hasn t', 't just', 'yeah know', 'ahead make', 't want', 'little bit']\n",
      "Topic 13:\t['good idea', 'yes yes', 'make investigation', 'yeah yeah', 'just like', 's bad', 'right m', 's probably', 'does hit', 'make sure']\n",
      "Topic 14:\t['feels like', 'god s', 'look s', 'walk away', 'oh m', 'cure wounds', 'guys make', 's dead', 'making way', 've seen']\n",
      "Topic 15:\t['yeah ve', 'yeah don', 'athletics check', 'okay yeah', 'lady briarwood', 's m', 'armor class', 's cool', 'short rest', 's fine']\n",
      "Topic 16:\t['make persuasion', 'sir kerrion', 't make', 'oh boy', 't need', 'going say', 'bag holding', 'gold pieces', 'like s', 's got']\n",
      "Topic 17:\t['t hit', 'thank god', 'know going', 'm glad', 'yeah okay', 'far away', 'know m', 's lot', 'll say', 'oh s']\n",
      "Topic 18:\t['persuasion check', 'points piercing', 'stealth check', 's weird', 'm doing', 'oh man', 'did say', 'just going', 'wouldn t', 'right s']\n",
      "Topic 19:\t['s definitely', 'elder brain', 'second attack', 'plank king', 'lead box', 'healing potions', 'going start', 'yeah m', 'group laughs', 's like']\n",
      "Topic 20:\t['oh sorry', 'dragon s', 's amazing', 's important', 'going hit', 's doing', 'going run', 's natural', 'right right', 'feel like']\n",
      "Topic 21:\t['guys going', 'acrobatics check', 's gonna', 'sure s', 's happening', 'okay ahead', 'sounds like', 'did roll', 'look like', 'think s']\n",
      "Topic 22:\t['s hand', 'holy shit', 'll make', 'm right', 's big', 'okay okay', 'good know', 's feet', 'going use', 'make perception']\n",
      "Topic 23:\t['m saying', 'just don', 'think going', 'unseen servant', 'averting gaze', 'okay cool', 't worry', 'd like', 'umber hulk', 's pretty']\n",
      "Topic 24:\t['just let', 'going pull', 's long', 'far know', 'oh gosh', 'investigation check', 's better', 'm trying', 'yeah let', 'grog s']\n"
     ]
    }
   ],
   "source": [
    "lda = LatentDirichletAllocation(n_components=n_components)\n",
    "topics = lda.fit_transform(tfidf_df)\n",
    "print_top_terms(n_components=n_components, topics=topics, terms=tfidf.get_feature_names_out())"
   ]
  },
  {
   "cell_type": "markdown",
   "metadata": {},
   "source": [
    "## SVD"
   ]
  },
  {
   "cell_type": "code",
   "execution_count": 27,
   "metadata": {},
   "outputs": [
    {
     "name": "stdout",
     "output_type": "stream",
     "text": [
      "Topic 0:\t['couldn t', 's house', 'left mighty', 'mighty nein', 'lord sutan', 'd like', 'look like', 'make way', 'knights requital', 'high richter']\n",
      "Topic 1:\t['s just', 'd d', 'didn t', 's going', 'know s', 'm going', 't think', 't want', 't know', 'don t']\n",
      "Topic 2:\t['nerdy ass', 'ass voice', 'voice actors', 'role bunch', 'dungeons dragons', 'critical role', 'oh m', 'look like', 'm going', 'd d']\n",
      "Topic 3:\t['going say', 'going start', 's going', 'going m', 'right m', 'going cast', 'going use', 'going try', 'okay m', 'm going']\n",
      "Topic 4:\t['right let', 'saving throw', 'critical role', 'going ahead', 'little bit', 'know s', 's just', 's turn', 'let s', 's going']\n",
      "Topic 5:\t['s good', 'tonight s', 's let', 'didn t', 's ahead', 'right let', 'yeah let', 'critical role', 's just', 'let s']\n",
      "Topic 6:\t['know don', 'just didn', 'looks like', 's just', 'wasn t', 't say', 'doesn t', 'know s', 'didn t', 't know']\n",
      "Topic 7:\t['s good', 't say', 's just', 'looks like', 'make way', 't think', 'don t', 't want', 'little bit', 'didn t']\n",
      "Topic 8:\t['s good', 's like', 's little', 'points damage', 't know', 'make way', 'looks like', 'doesn t', 's just', 'little bit']\n",
      "Topic 9:\t['know s', 's like', 'make way', 've got', 'like s', 'yeah s', 'points damage', 'looks like', 'doesn t', 's just']\n",
      "Topic 10:\t['s episode', 'look like', 't mean', 'tonight s', 't work', 'critical role', 've got', 'let s', 't matter', 'doesn t']\n",
      "Topic 11:\t['ahead roll', 'plus points', 'damage points', 's plus', 'damage right', 'seven points', 'saving throw', 's turn', 's points', 'points damage']\n",
      "Topic 12:\t['s good', 'oh ve', 'critical role', 'oh s', 'yeah ve', 'right s', 's turn', 'points damage', 's right', 've got']\n",
      "Topic 13:\t['looks like', 's right', 'haven t', 'oh s', 'episode critical', 's episode', 'tonight s', 'critical role', 'yeah s', 's good']\n",
      "Topic 14:\t['voice actors', 'role bunch', 'haven t', 'points damage', 'episode critical', 'like s', 's episode', 'tonight s', 'critical role', 'looks like']\n",
      "Topic 15:\t['leaky tap', 'oh s', 's turn', 's right', 'let s', 'make way', 's like', 's good', 'like s', 'looks like']\n",
      "Topic 16:\t['m just', 'yeah m', 'gonna ahead', 'right m', 'gonna cast', 'gonna try', 'okay m', 's fine', 'okay s', 'm gonna']\n",
      "Topic 17:\t['make wisdom', 'make constitution', 'wisdom saving', 'oh s', 'ahead make', 'constitution saving', 'right s', 's turn', 's right', 'saving throw']\n",
      "Topic 18:\t['let s', 'bonus action', 'oh yeah', 'little bit', 's turn', 's pretty', 'right s', 's right', 's like', 'yeah s']\n",
      "Topic 19:\t['episode critical', 'vox machina', 's episode', 'tonight s', 'critical role', 'oh god', 's turn', 'right s', 'oh s', 's right']\n",
      "Topic 20:\t['make perception', 'feel like', 'perception check', 'm just', 'make way', 'bonus action', 't want', 'god s', 'yeah s', 'oh god']\n",
      "Topic 21:\t['second shot', 's s', 'like s', 's just', 'bonus action', 'okay s', 'saving throw', 's good', 'oh god', 's like']\n",
      "Topic 22:\t['bonus action', 'make perception', 'perception check', 'guys make', 'making way', 'leaky tap', 'haven t', 's turn', 's like', 'make way']\n",
      "Topic 23:\t['ends turn', 'nott s', 'going step', 'little bit', 'beau s', 's just', 'turn s', 's good', 'looks like', 's turn']\n",
      "Topic 24:\t['roll attack', 'oh god', 'okay ahead', 'bonus action', 'hits ahead', 's good', 'turn s', 'roll damage', 'ahead roll', 's turn']\n"
     ]
    }
   ],
   "source": [
    "svd = TruncatedSVD(n_components=n_components)\n",
    "topics = svd.fit_transform(cv_df)\n",
    "print_top_terms(n_components=n_components, topics=topics, terms=cv.get_feature_names_out())"
   ]
  },
  {
   "cell_type": "code",
   "execution_count": 28,
   "metadata": {},
   "outputs": [
    {
     "name": "stdout",
     "output_type": "stream",
     "text": [
      "Topic 0:\t['t like', 't worry', 't need', 'm going', 'didn t', 'know s', 't think', 't want', 't know', 'don t']\n",
      "Topic 1:\t['let s', 's going', 'yeah m', 'right m', 'going start', 'going cast', 'going use', 'going try', 'okay m', 'm going']\n",
      "Topic 2:\t['s say', 's s', 's ahead', 've got', 'okay let', 's going', 'right let', 'yeah let', 's just', 'let s']\n",
      "Topic 3:\t['oh s', 's turn', 'okay s', 'doesn t', 'yeah s', 'know s', 've got', 't know', 'didn t', 's going']\n",
      "Topic 4:\t['wasn t', 't work', 'oh didn', 'know s', 't say', 'doesn t', 'oh god', 've got', 't know', 'didn t']\n",
      "Topic 5:\t['got s', 's right', 'got right', 'right ve', 'okay ve', 's ve', 'oh ve', 'don t', 'yeah ve', 've got']\n",
      "Topic 6:\t['s different', 'going try', 'haven t', 'oh yeah', 'points damage', 't think', 't want', 'god s', 'don t', 'oh god']\n",
      "Topic 7:\t['know ll', 'know ve', 'know don', 's just', 'know m', 've got', 'know s', 'oh god', 'doesn t', 't know']\n",
      "Topic 8:\t['okay s', 'points damage', 's just', 's like', 'little bit', 'doesn t', 's right', 'yeah s', 'oh s', 's good']\n",
      "Topic 9:\t['t look', 'look like', 't mean', 'looks like', 't work', 't want', 't matter', 'points damage', 'little bit', 'doesn t']\n",
      "Topic 10:\t['bit light', 's right', 's points', 's little', 'just little', 's just', 't know', 's like', 'points damage', 'little bit']\n",
      "Topic 11:\t['takes points', 's like', 'right s', 's right', 'damage right', 's just', 'seven points', 'yeah s', 's points', 'points damage']\n",
      "Topic 12:\t['s cool', 'saving throw', 's better', 's turn', 's okay', 'isn t', 'doesn t', 'right s', 's right', 'oh s']\n",
      "Topic 13:\t['good thing', 't know', 's points', 'okay s', 's going', 'good idea', 'good s', 'little bit', 'points damage', 's good']\n",
      "Topic 14:\t['know s', 'guy s', 'like oh', 'let s', 'looks like', 'like s', 'okay s', 's good', 'oh s', 's like']\n",
      "Topic 15:\t['just going', 'like s', 'just like', 'okay s', 'isn t', 'looks like', 's good', 's like', 'know s', 's just']\n",
      "Topic 16:\t['s fine', 'd like', 'looks like', 'know s', 'okay s', 'right s', 's just', 's good', 's like', 's right']\n",
      "Topic 17:\t['looks like', 'right m', 'gonna cast', 'gonna try', 'oh yeah', 'haven t', 'okay m', 'okay s', 's fine', 'm gonna']\n",
      "Topic 18:\t['ve heard', 'make perception', 'looks like', 'perception check', 'okay s', 't think', 's s', 's true', 't seen', 'haven t']\n",
      "Topic 19:\t['won t', 'wasn t', 's turn', 'like s', 'make perception', 'perception check', 'oh shit', 's true', 'looks like', 'oh yeah']\n",
      "Topic 20:\t['isn t', 's turn', 'think s', 'perception check', 't think', 'know s', 'saving throw', 'like s', 's true', 'looks like']\n",
      "Topic 21:\t['make saving', 'wisdom saving', 'constitution saving', 'ahead make', 's true', 'roll damage', 'make perception', 'ahead roll', 'perception check', 'saving throw']\n",
      "Topic 22:\t['group laughs', 'feel like', 't think', 'constitution saving', 'like s', 's s', 'know s', 'looks like', 'saving throw', 'oh shit']\n",
      "Topic 23:\t['constitution saving', 's fine', 'okay s', 'oh yeah', 'right s', 's pretty', 's turn', 'saving throw', 'wasn t', 's true']\n",
      "Topic 24:\t['think s', 'okay ahead', 'hits roll', 't think', 'hits ahead', 'roll attack', 's true', 'oh shit', 'roll damage', 'ahead roll']\n"
     ]
    }
   ],
   "source": [
    "svd = TruncatedSVD(n_components=n_components)\n",
    "topics = svd.fit_transform(tfidf_df)\n",
    "print_top_terms(n_components=n_components, topics=topics, terms=tfidf.get_feature_names_out())"
   ]
  },
  {
   "cell_type": "markdown",
   "metadata": {},
   "source": [
    "## NMF"
   ]
  },
  {
   "cell_type": "code",
   "execution_count": 29,
   "metadata": {},
   "outputs": [
    {
     "name": "stderr",
     "output_type": "stream",
     "text": [
      "/home/patrick/anaconda3/envs/metis/lib/python3.10/site-packages/sklearn/decomposition/_nmf.py:289: FutureWarning: The 'init' value, when 'init=None' and n_components is less than n_samples and n_features, will be changed from 'nndsvd' to 'nndsvda' in 1.1 (renaming of 0.26).\n",
      "  warnings.warn(\n"
     ]
    },
    {
     "name": "stdout",
     "output_type": "stream",
     "text": [
      "Topic 0:\t['sutan s', 'left mighty', 'mighty nein', 'couldn t', 's house', 'lord sutan', 'd like', 'look like', 'knights requital', 'high richter']\n",
      "Topic 1:\t['t trust', 't don', 'just don', 't need', 'think s', 't like', 't worry', 't think', 't want', 'don t']\n",
      "Topic 2:\t['m doing', 'nerdy ass', 'ass voice', 'okay right', 'bunch nerdy', 'guys know', 'dungeons dragons', 'oh m', 'look like', 'd d']\n",
      "Topic 3:\t['yeah m', 'going say', 'going start', 'right m', 'going m', 'going use', 'going cast', 'going try', 'okay m', 'm going']\n",
      "Topic 4:\t['going make', 'going attempt', 'going hit', 'guy s', 'going use', 'going s', 'going end', 'going ahead', 'know s', 's going']\n",
      "Topic 5:\t['war camp', 's sleep', 's say', 's s', 'okay let', 's let', 's ahead', 'right let', 'yeah let', 'let s']\n",
      "Topic 6:\t['know means', 've heard', 'know ll', 'know going', 'know ve', 'know m', 'know don', 'know s', 'don t', 't know']\n",
      "Topic 7:\t['m sorry', 'feel like', 'vax ildan', 't just', 'just didn', 't think', 'wasn t', 't want', 't say', 'didn t']\n",
      "Topic 8:\t['head s', 'couple weeks', 'weren t', 'tri spire', 'leaky tap', 'vex ahlia', 'bit light', 'just little', 's little', 'little bit']\n",
      "Topic 9:\t['just like', 'm sorry', 'just going', 'just s', 't like', 'haven t', 'isn t', 'okay s', 'know s', 's just']\n",
      "Topic 10:\t['t appear', 't make', 't hit', 't look', 't really', 'look like', 't mean', 't work', 't matter', 'doesn t']\n",
      "Topic 11:\t['plus s', 'damage s', 'total points', 'plus points', 's plus', 'damage points', 'damage right', 'seven points', 's points', 'points damage']\n",
      "Topic 12:\t['look like', 'got s', 'm just', 'know s', 's okay', 't shirt', 'okay ve', 'oh ve', 'yeah ve', 've got']\n",
      "Topic 13:\t['tri spire', 'think s', 't think', 's s', 'leaky tap', 'oh s', 'okay s', 'good idea', 'good s', 's good']\n",
      "Topic 14:\t['nerdy ass', 'ass voice', 'voice actors', 'dungeons dragons', 'role bunch', 'haven t', 'episode critical', 's episode', 'tonight s', 'critical role']\n",
      "Topic 15:\t['isn t', 'right guys', 's hard', 'does appear', 'wasn t', 's little', 's got', 'look like', 'like s', 'looks like']\n",
      "Topic 16:\t['m just', 'yeah m', 'gonna ahead', 'right m', 'gonna cast', 'gonna try', 'okay m', 's fine', 'okay s', 'm gonna']\n",
      "Topic 17:\t['piercing damage', 'dexterity saving', 'make wisdom', 'make saving', 'need make', 'wisdom saving', 'make constitution', 'ahead make', 'constitution saving', 'saving throw']\n",
      "Topic 18:\t['s way', 'pretty good', 's plus', 's really', 'okay yeah', 's got', 's fine', 'oh yeah', 's pretty', 'yeah s']\n",
      "Topic 19:\t['right m', 's got', 'hand s', 'wasn t', 'okay s', 's okay', 'vox machina', 'right s', 'oh s', 's right']\n",
      "Topic 20:\t['s hand', 's coming', 'going oh', 'm just', 'com criticalrole', 'feel like', 'going try', 't want', 'god s', 'oh god']\n",
      "Topic 21:\t['away s', 'guy s', 'like oh', 'second shot', 'like s', 'isn t', 's okay', 's s', 'okay s', 's like']\n",
      "Topic 22:\t['mountain range', 'left mighty', 'haven t', 'mighty nein', 'tri spire', 'isn t', 'guys make', 'leaky tap', 'making way', 'make way']\n",
      "Topic 23:\t['perception check', 'hit points', 'roll add', 'hits roll', 'right ahead', 'roll attack', 'okay ahead', 'hits ahead', 'roll damage', 'ahead roll']\n",
      "Topic 24:\t['fjord s', 'right finishes', 'right ends', 'nott s', 'going step', 'right s', 'ends turn', 'beau s', 'turn s', 's turn']\n"
     ]
    }
   ],
   "source": [
    "nmf = NMF(n_components=n_components, max_iter=500)\n",
    "topics = nmf.fit_transform(cv_df)\n",
    "print_top_terms(n_components=n_components, topics=topics, terms=cv.get_feature_names_out())"
   ]
  },
  {
   "cell_type": "code",
   "execution_count": 30,
   "metadata": {},
   "outputs": [
    {
     "name": "stderr",
     "output_type": "stream",
     "text": [
      "/home/patrick/anaconda3/envs/metis/lib/python3.10/site-packages/sklearn/decomposition/_nmf.py:289: FutureWarning: The 'init' value, when 'init=None' and n_components is less than n_samples and n_features, will be changed from 'nndsvd' to 'nndsvda' in 1.1 (renaming of 0.26).\n",
      "  warnings.warn(\n"
     ]
    },
    {
     "name": "stdout",
     "output_type": "stream",
     "text": [
      "Topic 0:\t['oh don', 'think s', 'yeah don', 't mind', 't like', 't worry', 't need', 't want', 't think', 'don t']\n",
      "Topic 1:\t['going m', 'going run', 'yeah m', 'right m', 'going start', 'going cast', 'going use', 'going try', 'okay m', 'm going']\n",
      "Topic 2:\t['s try', 's s', 's let', 's sleep', 's say', 's ahead', 'okay let', 'right let', 'yeah let', 'let s']\n",
      "Topic 3:\t['going hit', 'going ahead', 'going use', 'going attempt', 'going try', 'going end', 'okay s', 's turn', 'know s', 's going']\n",
      "Topic 4:\t['just didn', 'wasn t', 't really', 't roll', 't work', 'oh didn', 't think', 't say', 't want', 'didn t']\n",
      "Topic 5:\t['wouldn t', 's people', 'got s', 'right ve', 'got right', 'okay ve', 's ve', 'oh ve', 'yeah ve', 've got']\n",
      "Topic 6:\t['going cast', 'going die', 'city s', 's coming', 'grog grog', 'say s', 's different', 'going try', 'god s', 'oh god']\n",
      "Topic 7:\t['know say', 'know just', 'know going', 'know ll', 'know ve', 'know don', 'know m', 'know s', 'don t', 't know']\n",
      "Topic 8:\t['okay yeah', 's true', 's feet', 's lot', 's way', 's really', 's got', 's fine', 's pretty', 'yeah s']\n",
      "Topic 9:\t['t say', 't look', 'look like', 't appear', 't hit', 't want', 't mean', 't work', 't matter', 'doesn t']\n",
      "Topic 10:\t['weren t', 'just need', 'make way', 'bit s', 'd like', 'going little', 'bit light', 's little', 'just little', 'little bit']\n",
      "Topic 11:\t['s turn', 'right points', 'hit points', 'plus points', 'damage points', 'takes points', 'damage right', 'seven points', 's points', 'points damage']\n",
      "Topic 12:\t['s turn', 's fine', 's cool', 's better', 's great', 's fair', 'isn t', 's got', 's okay', 'oh s']\n",
      "Topic 13:\t['t think', 'think s', 'ooh s', 's fine', 'good thing', 's s', 'good idea', 'good s', 'okay s', 's good']\n",
      "Topic 14:\t['s holding', 'like s', 'm just', 'like oh', 'guy s', 'right s', 's s', 'know s', 'okay s', 's like']\n",
      "Topic 15:\t['just little', 's s', 'just s', 'just going', 'right s', 'just like', 'isn t', 'okay s', 'know s', 's just']\n",
      "Topic 16:\t['s okay', 'm just', 'scanlan s', 'oh good', 'think s', 'right yeah', 's turn', 'okay s', 'right s', 's right']\n",
      "Topic 17:\t['lightning bolt', 'yeah m', 'gonna ahead', 'right m', 'gonna cast', 'gonna try', 'okay s', 's fine', 'okay m', 'm gonna']\n",
      "Topic 18:\t['ve seen', 've heard', 'long time', 't really', 't heard', 'm sorry', 'isn t', 's pretty', 't seen', 'haven t']\n",
      "Topic 19:\t['guys make', 'like small', 's fine', 'feel like', 'look like', 's got', 'make way', 'wasn t', 'like s', 'looks like']\n",
      "Topic 20:\t['scroll case', 'm just', 'm sorry', 'yeah look', 'yeah okay', 'yeah ve', 'yeah yeah', 'yeah right', 'yeah m', 'oh yeah']\n",
      "Topic 21:\t['make wisdom', 's turn', 'dexterity saving', 'make constitution', 'make saving', 'ahead make', 'wisdom saving', 'constitution saving', 's true', 'saving throw']\n",
      "Topic 22:\t['just say', 't hear', 'like oh', 'did say', 'shit s', 'look m', 'thank god', 'okay s', 'm sorry', 'oh shit']\n",
      "Topic 23:\t['make way', 'okay ahead', 'right make', 'bonus action', 'okay make', 'check disadvantage', 'roll perception', 'ahead make', 'make perception', 'perception check']\n",
      "Topic 24:\t['roll add', 'okay s', 'does hit', 'right ahead', 'okay ahead', 'hits roll', 'hits ahead', 'roll attack', 'roll damage', 'ahead roll']\n"
     ]
    }
   ],
   "source": [
    "nmf = NMF(n_components=n_components, max_iter=200)\n",
    "topics = nmf.fit_transform(tfidf_df)\n",
    "print_top_terms(n_components=n_components, topics=topics, terms=tfidf.get_feature_names_out())"
   ]
  },
  {
   "cell_type": "code",
   "execution_count": null,
   "metadata": {},
   "outputs": [],
   "source": []
  },
  {
   "cell_type": "code",
   "execution_count": null,
   "metadata": {},
   "outputs": [],
   "source": []
  }
 ],
 "metadata": {
  "kernelspec": {
   "display_name": "Python 3.10.4 ('metis')",
   "language": "python",
   "name": "python3"
  },
  "language_info": {
   "codemirror_mode": {
    "name": "ipython",
    "version": 3
   },
   "file_extension": ".py",
   "mimetype": "text/x-python",
   "name": "python",
   "nbconvert_exporter": "python",
   "pygments_lexer": "ipython3",
   "version": "3.10.4"
  },
  "orig_nbformat": 4,
  "vscode": {
   "interpreter": {
    "hash": "2279e2d64b6cb4063ab7cfccb2020b604cfa41abe39379e7173718ec353138e1"
   }
  }
 },
 "nbformat": 4,
 "nbformat_minor": 2
}
