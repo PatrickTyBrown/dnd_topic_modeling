{
 "cells": [
  {
   "cell_type": "markdown",
   "metadata": {},
   "source": [
    "# Topic Modeling\n",
    "### Without Preprocessing"
   ]
  },
  {
   "cell_type": "code",
   "execution_count": 1,
   "metadata": {},
   "outputs": [],
   "source": [
    "import json\n",
    "import os\n",
    "import random\n",
    "import pandas as pd\n",
    "import numpy as np\n",
    "from sklearn.feature_extraction.text import CountVectorizer, TfidfVectorizer\n",
    "from sklearn.decomposition import PCA\n",
    "from sklearn.decomposition import NMF\n",
    "from sklearn.decomposition import TruncatedSVD\n",
    "from sklearn.decomposition import LatentDirichletAllocation"
   ]
  },
  {
   "cell_type": "markdown",
   "metadata": {},
   "source": [
    "#### Define Parameters"
   ]
  },
  {
   "cell_type": "code",
   "execution_count": 61,
   "metadata": {},
   "outputs": [],
   "source": [
    "n_components = 10 #Topics To generate\n",
    "n = 20 #Transcripts to use\n",
    "max_df=0.5\n",
    "min_df=0.0002\n",
    "n_terms = 10"
   ]
  },
  {
   "cell_type": "markdown",
   "metadata": {},
   "source": [
    "## Load Data"
   ]
  },
  {
   "cell_type": "code",
   "execution_count": 18,
   "metadata": {},
   "outputs": [],
   "source": [
    "def create_df_multi(n=25):\n",
    "    list_of_text = []\n",
    "    dir = '../data/aligned data/c=4'\n",
    "\n",
    "    files = [filename for filename in os.listdir(dir)]\n",
    "    sampled_files = random.choices(files,k=n)\n",
    "\n",
    "    for filename in sampled_files:\n",
    "        # choice = random.choice(os.listdir(dir))\n",
    "        # print(choice)\n",
    "        f = open(dir+'/'+filename)\n",
    "        data = json.load(f)\n",
    "        choice = random.choice(os.listdir(dir))\n",
    "        # print(choice)\n",
    "        f = open(dir+'/'+choice)\n",
    "        data = json.load(f)\n",
    "\n",
    "        for x in data:\n",
    "            for y in x['TURNS']:\n",
    "                text = ' '.join(y['UTTERANCES'])\n",
    "                list_of_text.append(text)\n",
    "    df = pd.DataFrame(list_of_text)\n",
    "    return df"
   ]
  },
  {
   "cell_type": "code",
   "execution_count": 19,
   "metadata": {},
   "outputs": [
    {
     "name": "stdout",
     "output_type": "stream",
     "text": [
      "(45474, 1)\n"
     ]
    },
    {
     "data": {
      "text/html": [
       "<div>\n",
       "<style scoped>\n",
       "    .dataframe tbody tr th:only-of-type {\n",
       "        vertical-align: middle;\n",
       "    }\n",
       "\n",
       "    .dataframe tbody tr th {\n",
       "        vertical-align: top;\n",
       "    }\n",
       "\n",
       "    .dataframe thead th {\n",
       "        text-align: right;\n",
       "    }\n",
       "</style>\n",
       "<table border=\"1\" class=\"dataframe\">\n",
       "  <thead>\n",
       "    <tr style=\"text-align: right;\">\n",
       "      <th></th>\n",
       "      <th>0</th>\n",
       "    </tr>\n",
       "  </thead>\n",
       "  <tbody>\n",
       "    <tr>\n",
       "      <th>0</th>\n",
       "      <td>[cheering]</td>\n",
       "    </tr>\n",
       "    <tr>\n",
       "      <th>1</th>\n",
       "      <td>Hello, New York! [cheering] Wow! I would ask h...</td>\n",
       "    </tr>\n",
       "    <tr>\n",
       "      <th>2</th>\n",
       "      <td>Well, if that isn't a rush, I don't know what is.</td>\n",
       "    </tr>\n",
       "    <tr>\n",
       "      <th>3</th>\n",
       "      <td>Oh yeah. Mainline that shit.</td>\n",
       "    </tr>\n",
       "    <tr>\n",
       "      <th>4</th>\n",
       "      <td>Oh man. Hello everyone, and welcome-- [cheering]</td>\n",
       "    </tr>\n",
       "  </tbody>\n",
       "</table>\n",
       "</div>"
      ],
      "text/plain": [
       "                                                   0\n",
       "0                                         [cheering]\n",
       "1  Hello, New York! [cheering] Wow! I would ask h...\n",
       "2  Well, if that isn't a rush, I don't know what is.\n",
       "3                       Oh yeah. Mainline that shit.\n",
       "4   Oh man. Hello everyone, and welcome-- [cheering]"
      ]
     },
     "execution_count": 19,
     "metadata": {},
     "output_type": "execute_result"
    }
   ],
   "source": [
    "df = create_df_multi(n)\n",
    "print(df.shape)\n",
    "df.head()"
   ]
  },
  {
   "cell_type": "markdown",
   "metadata": {},
   "source": [
    "## Vectorize Data\n"
   ]
  },
  {
   "cell_type": "markdown",
   "metadata": {},
   "source": [
    "\n",
    "- Count Vectorizer\n",
    "- Tfidf Vectorizer\n",
    "\n",
    "Use both with each model"
   ]
  },
  {
   "cell_type": "code",
   "execution_count": 62,
   "metadata": {},
   "outputs": [
    {
     "name": "stdout",
     "output_type": "stream",
     "text": [
      "(45474, 1505)\n"
     ]
    },
    {
     "data": {
      "text/html": [
       "<div>\n",
       "<style scoped>\n",
       "    .dataframe tbody tr th:only-of-type {\n",
       "        vertical-align: middle;\n",
       "    }\n",
       "\n",
       "    .dataframe tbody tr th {\n",
       "        vertical-align: top;\n",
       "    }\n",
       "\n",
       "    .dataframe thead th {\n",
       "        text-align: right;\n",
       "    }\n",
       "</style>\n",
       "<table border=\"1\" class=\"dataframe\">\n",
       "  <thead>\n",
       "    <tr style=\"text-align: right;\">\n",
       "      <th></th>\n",
       "      <th>0</th>\n",
       "      <th>1</th>\n",
       "      <th>2</th>\n",
       "      <th>3</th>\n",
       "      <th>4</th>\n",
       "      <th>5</th>\n",
       "      <th>6</th>\n",
       "      <th>7</th>\n",
       "      <th>8</th>\n",
       "      <th>9</th>\n",
       "      <th>...</th>\n",
       "      <th>45464</th>\n",
       "      <th>45465</th>\n",
       "      <th>45466</th>\n",
       "      <th>45467</th>\n",
       "      <th>45468</th>\n",
       "      <th>45469</th>\n",
       "      <th>45470</th>\n",
       "      <th>45471</th>\n",
       "      <th>45472</th>\n",
       "      <th>45473</th>\n",
       "    </tr>\n",
       "  </thead>\n",
       "  <tbody>\n",
       "    <tr>\n",
       "      <th>yes s</th>\n",
       "      <td>0.0</td>\n",
       "      <td>0.0</td>\n",
       "      <td>0.0</td>\n",
       "      <td>0.0</td>\n",
       "      <td>0.0</td>\n",
       "      <td>0.0</td>\n",
       "      <td>0.0</td>\n",
       "      <td>0.0</td>\n",
       "      <td>0.0</td>\n",
       "      <td>0.0</td>\n",
       "      <td>...</td>\n",
       "      <td>0.0</td>\n",
       "      <td>0.0</td>\n",
       "      <td>0.0</td>\n",
       "      <td>0.0</td>\n",
       "      <td>0.0</td>\n",
       "      <td>0.0</td>\n",
       "      <td>0.0</td>\n",
       "      <td>0.0</td>\n",
       "      <td>0.0</td>\n",
       "      <td>0.0</td>\n",
       "    </tr>\n",
       "    <tr>\n",
       "      <th>yes thank</th>\n",
       "      <td>0.0</td>\n",
       "      <td>0.0</td>\n",
       "      <td>0.0</td>\n",
       "      <td>0.0</td>\n",
       "      <td>0.0</td>\n",
       "      <td>0.0</td>\n",
       "      <td>0.0</td>\n",
       "      <td>0.0</td>\n",
       "      <td>0.0</td>\n",
       "      <td>0.0</td>\n",
       "      <td>...</td>\n",
       "      <td>0.0</td>\n",
       "      <td>0.0</td>\n",
       "      <td>0.0</td>\n",
       "      <td>0.0</td>\n",
       "      <td>0.0</td>\n",
       "      <td>0.0</td>\n",
       "      <td>0.0</td>\n",
       "      <td>0.0</td>\n",
       "      <td>0.0</td>\n",
       "      <td>0.0</td>\n",
       "    </tr>\n",
       "    <tr>\n",
       "      <th>yes ve</th>\n",
       "      <td>0.0</td>\n",
       "      <td>0.0</td>\n",
       "      <td>0.0</td>\n",
       "      <td>0.0</td>\n",
       "      <td>0.0</td>\n",
       "      <td>0.0</td>\n",
       "      <td>0.0</td>\n",
       "      <td>0.0</td>\n",
       "      <td>0.0</td>\n",
       "      <td>0.0</td>\n",
       "      <td>...</td>\n",
       "      <td>0.0</td>\n",
       "      <td>0.0</td>\n",
       "      <td>0.0</td>\n",
       "      <td>0.0</td>\n",
       "      <td>0.0</td>\n",
       "      <td>0.0</td>\n",
       "      <td>0.0</td>\n",
       "      <td>0.0</td>\n",
       "      <td>0.0</td>\n",
       "      <td>0.0</td>\n",
       "    </tr>\n",
       "    <tr>\n",
       "      <th>yes yes</th>\n",
       "      <td>0.0</td>\n",
       "      <td>0.0</td>\n",
       "      <td>0.0</td>\n",
       "      <td>0.0</td>\n",
       "      <td>0.0</td>\n",
       "      <td>0.0</td>\n",
       "      <td>0.0</td>\n",
       "      <td>0.0</td>\n",
       "      <td>0.0</td>\n",
       "      <td>0.0</td>\n",
       "      <td>...</td>\n",
       "      <td>0.0</td>\n",
       "      <td>0.0</td>\n",
       "      <td>0.0</td>\n",
       "      <td>0.0</td>\n",
       "      <td>0.0</td>\n",
       "      <td>0.0</td>\n",
       "      <td>0.0</td>\n",
       "      <td>0.0</td>\n",
       "      <td>0.0</td>\n",
       "      <td>0.0</td>\n",
       "    </tr>\n",
       "    <tr>\n",
       "      <th>young age</th>\n",
       "      <td>0.0</td>\n",
       "      <td>0.0</td>\n",
       "      <td>0.0</td>\n",
       "      <td>0.0</td>\n",
       "      <td>0.0</td>\n",
       "      <td>0.0</td>\n",
       "      <td>0.0</td>\n",
       "      <td>0.0</td>\n",
       "      <td>0.0</td>\n",
       "      <td>0.0</td>\n",
       "      <td>...</td>\n",
       "      <td>0.0</td>\n",
       "      <td>0.0</td>\n",
       "      <td>0.0</td>\n",
       "      <td>0.0</td>\n",
       "      <td>0.0</td>\n",
       "      <td>0.0</td>\n",
       "      <td>0.0</td>\n",
       "      <td>0.0</td>\n",
       "      <td>0.0</td>\n",
       "      <td>0.0</td>\n",
       "    </tr>\n",
       "  </tbody>\n",
       "</table>\n",
       "<p>5 rows × 45474 columns</p>\n",
       "</div>"
      ],
      "text/plain": [
       "           0      1      2      3      4      5      6      7      8      \\\n",
       "yes s        0.0    0.0    0.0    0.0    0.0    0.0    0.0    0.0    0.0   \n",
       "yes thank    0.0    0.0    0.0    0.0    0.0    0.0    0.0    0.0    0.0   \n",
       "yes ve       0.0    0.0    0.0    0.0    0.0    0.0    0.0    0.0    0.0   \n",
       "yes yes      0.0    0.0    0.0    0.0    0.0    0.0    0.0    0.0    0.0   \n",
       "young age    0.0    0.0    0.0    0.0    0.0    0.0    0.0    0.0    0.0   \n",
       "\n",
       "           9      ...  45464  45465  45466  45467  45468  45469  45470  45471  \\\n",
       "yes s        0.0  ...    0.0    0.0    0.0    0.0    0.0    0.0    0.0    0.0   \n",
       "yes thank    0.0  ...    0.0    0.0    0.0    0.0    0.0    0.0    0.0    0.0   \n",
       "yes ve       0.0  ...    0.0    0.0    0.0    0.0    0.0    0.0    0.0    0.0   \n",
       "yes yes      0.0  ...    0.0    0.0    0.0    0.0    0.0    0.0    0.0    0.0   \n",
       "young age    0.0  ...    0.0    0.0    0.0    0.0    0.0    0.0    0.0    0.0   \n",
       "\n",
       "           45472  45473  \n",
       "yes s        0.0    0.0  \n",
       "yes thank    0.0    0.0  \n",
       "yes ve       0.0    0.0  \n",
       "yes yes      0.0    0.0  \n",
       "young age    0.0    0.0  \n",
       "\n",
       "[5 rows x 45474 columns]"
      ]
     },
     "execution_count": 62,
     "metadata": {},
     "output_type": "execute_result"
    }
   ],
   "source": [
    "# tfidf=TfidfVectorizer(stop_words='english',max_df=.7,min_df=2,token_pattern=r'(?u)\\b[A-Za-z]+\\b')\n",
    "\n",
    "tfidf = TfidfVectorizer(stop_words='english', \n",
    "    max_df=max_df,\n",
    "    min_df=min_df,\n",
    "    token_pattern=r'(?u)\\b[A-Za-z]+\\b',\n",
    "    ngram_range=(2,2)\n",
    "    )\n",
    "tfidf_sparse = tfidf.fit_transform(df[0])\n",
    "print(tfidf_sparse.shape)\n",
    "tfidf_df = pd.DataFrame(tfidf_sparse.toarray().transpose(),\n",
    "                   index=tfidf.get_feature_names_out())\n",
    "tfidf_df.tail()"
   ]
  },
  {
   "cell_type": "code",
   "execution_count": 63,
   "metadata": {},
   "outputs": [
    {
     "name": "stdout",
     "output_type": "stream",
     "text": [
      "(45474, 1505)\n"
     ]
    },
    {
     "data": {
      "text/html": [
       "<div>\n",
       "<style scoped>\n",
       "    .dataframe tbody tr th:only-of-type {\n",
       "        vertical-align: middle;\n",
       "    }\n",
       "\n",
       "    .dataframe tbody tr th {\n",
       "        vertical-align: top;\n",
       "    }\n",
       "\n",
       "    .dataframe thead th {\n",
       "        text-align: right;\n",
       "    }\n",
       "</style>\n",
       "<table border=\"1\" class=\"dataframe\">\n",
       "  <thead>\n",
       "    <tr style=\"text-align: right;\">\n",
       "      <th></th>\n",
       "      <th>0</th>\n",
       "      <th>1</th>\n",
       "      <th>2</th>\n",
       "      <th>3</th>\n",
       "      <th>4</th>\n",
       "      <th>5</th>\n",
       "      <th>6</th>\n",
       "      <th>7</th>\n",
       "      <th>8</th>\n",
       "      <th>9</th>\n",
       "      <th>...</th>\n",
       "      <th>45464</th>\n",
       "      <th>45465</th>\n",
       "      <th>45466</th>\n",
       "      <th>45467</th>\n",
       "      <th>45468</th>\n",
       "      <th>45469</th>\n",
       "      <th>45470</th>\n",
       "      <th>45471</th>\n",
       "      <th>45472</th>\n",
       "      <th>45473</th>\n",
       "    </tr>\n",
       "  </thead>\n",
       "  <tbody>\n",
       "    <tr>\n",
       "      <th>yes s</th>\n",
       "      <td>0</td>\n",
       "      <td>0</td>\n",
       "      <td>0</td>\n",
       "      <td>0</td>\n",
       "      <td>0</td>\n",
       "      <td>0</td>\n",
       "      <td>0</td>\n",
       "      <td>0</td>\n",
       "      <td>0</td>\n",
       "      <td>0</td>\n",
       "      <td>...</td>\n",
       "      <td>0</td>\n",
       "      <td>0</td>\n",
       "      <td>0</td>\n",
       "      <td>0</td>\n",
       "      <td>0</td>\n",
       "      <td>0</td>\n",
       "      <td>0</td>\n",
       "      <td>0</td>\n",
       "      <td>0</td>\n",
       "      <td>0</td>\n",
       "    </tr>\n",
       "    <tr>\n",
       "      <th>yes thank</th>\n",
       "      <td>0</td>\n",
       "      <td>0</td>\n",
       "      <td>0</td>\n",
       "      <td>0</td>\n",
       "      <td>0</td>\n",
       "      <td>0</td>\n",
       "      <td>0</td>\n",
       "      <td>0</td>\n",
       "      <td>0</td>\n",
       "      <td>0</td>\n",
       "      <td>...</td>\n",
       "      <td>0</td>\n",
       "      <td>0</td>\n",
       "      <td>0</td>\n",
       "      <td>0</td>\n",
       "      <td>0</td>\n",
       "      <td>0</td>\n",
       "      <td>0</td>\n",
       "      <td>0</td>\n",
       "      <td>0</td>\n",
       "      <td>0</td>\n",
       "    </tr>\n",
       "    <tr>\n",
       "      <th>yes ve</th>\n",
       "      <td>0</td>\n",
       "      <td>0</td>\n",
       "      <td>0</td>\n",
       "      <td>0</td>\n",
       "      <td>0</td>\n",
       "      <td>0</td>\n",
       "      <td>0</td>\n",
       "      <td>0</td>\n",
       "      <td>0</td>\n",
       "      <td>0</td>\n",
       "      <td>...</td>\n",
       "      <td>0</td>\n",
       "      <td>0</td>\n",
       "      <td>0</td>\n",
       "      <td>0</td>\n",
       "      <td>0</td>\n",
       "      <td>0</td>\n",
       "      <td>0</td>\n",
       "      <td>0</td>\n",
       "      <td>0</td>\n",
       "      <td>0</td>\n",
       "    </tr>\n",
       "    <tr>\n",
       "      <th>yes yes</th>\n",
       "      <td>0</td>\n",
       "      <td>0</td>\n",
       "      <td>0</td>\n",
       "      <td>0</td>\n",
       "      <td>0</td>\n",
       "      <td>0</td>\n",
       "      <td>0</td>\n",
       "      <td>0</td>\n",
       "      <td>0</td>\n",
       "      <td>0</td>\n",
       "      <td>...</td>\n",
       "      <td>0</td>\n",
       "      <td>0</td>\n",
       "      <td>0</td>\n",
       "      <td>0</td>\n",
       "      <td>0</td>\n",
       "      <td>0</td>\n",
       "      <td>0</td>\n",
       "      <td>0</td>\n",
       "      <td>0</td>\n",
       "      <td>0</td>\n",
       "    </tr>\n",
       "    <tr>\n",
       "      <th>young age</th>\n",
       "      <td>0</td>\n",
       "      <td>0</td>\n",
       "      <td>0</td>\n",
       "      <td>0</td>\n",
       "      <td>0</td>\n",
       "      <td>0</td>\n",
       "      <td>0</td>\n",
       "      <td>0</td>\n",
       "      <td>0</td>\n",
       "      <td>0</td>\n",
       "      <td>...</td>\n",
       "      <td>0</td>\n",
       "      <td>0</td>\n",
       "      <td>0</td>\n",
       "      <td>0</td>\n",
       "      <td>0</td>\n",
       "      <td>0</td>\n",
       "      <td>0</td>\n",
       "      <td>0</td>\n",
       "      <td>0</td>\n",
       "      <td>0</td>\n",
       "    </tr>\n",
       "  </tbody>\n",
       "</table>\n",
       "<p>5 rows × 45474 columns</p>\n",
       "</div>"
      ],
      "text/plain": [
       "           0      1      2      3      4      5      6      7      8      \\\n",
       "yes s          0      0      0      0      0      0      0      0      0   \n",
       "yes thank      0      0      0      0      0      0      0      0      0   \n",
       "yes ve         0      0      0      0      0      0      0      0      0   \n",
       "yes yes        0      0      0      0      0      0      0      0      0   \n",
       "young age      0      0      0      0      0      0      0      0      0   \n",
       "\n",
       "           9      ...  45464  45465  45466  45467  45468  45469  45470  45471  \\\n",
       "yes s          0  ...      0      0      0      0      0      0      0      0   \n",
       "yes thank      0  ...      0      0      0      0      0      0      0      0   \n",
       "yes ve         0  ...      0      0      0      0      0      0      0      0   \n",
       "yes yes        0  ...      0      0      0      0      0      0      0      0   \n",
       "young age      0  ...      0      0      0      0      0      0      0      0   \n",
       "\n",
       "           45472  45473  \n",
       "yes s          0      0  \n",
       "yes thank      0      0  \n",
       "yes ve         0      0  \n",
       "yes yes        0      0  \n",
       "young age      0      0  \n",
       "\n",
       "[5 rows x 45474 columns]"
      ]
     },
     "execution_count": 63,
     "metadata": {},
     "output_type": "execute_result"
    }
   ],
   "source": [
    "cv = CountVectorizer(stop_words='english', \n",
    "    max_df=max_df,\n",
    "    min_df=min_df,\n",
    "    token_pattern=r'(?u)\\b[A-Za-z]+\\b',\n",
    "    ngram_range=(2,2)\n",
    "    )\n",
    "cv_sparse = cv.fit_transform(df[0])\n",
    "print(cv_sparse.shape)\n",
    "cv_df = pd.DataFrame(cv_sparse.toarray().transpose(),\n",
    "                   index=cv.get_feature_names_out())\n",
    "cv_df.tail()"
   ]
  },
  {
   "cell_type": "markdown",
   "metadata": {},
   "source": [
    "## Define Output Functions"
   ]
  },
  {
   "cell_type": "code",
   "execution_count": 73,
   "metadata": {},
   "outputs": [],
   "source": [
    "def print_top_terms(n_components, topics, terms, n_terms = 10):\n",
    "    for x in range(n_components):\n",
    "        topic = x\n",
    "        components = topics[:,topic]\n",
    "        top_term_indices = components.argsort()[-n_terms:]\n",
    "        top_terms = np.array(terms)[top_term_indices]\n",
    "        \n",
    "        print(f'Topic {x}:\\t{top_terms.tolist()}')\n"
   ]
  },
  {
   "cell_type": "markdown",
   "metadata": {},
   "source": [
    "## PCA"
   ]
  },
  {
   "cell_type": "code",
   "execution_count": 74,
   "metadata": {},
   "outputs": [
    {
     "name": "stdout",
     "output_type": "stream",
     "text": [
      "Topic 0:\t['know don', 'didn t', 't worry', 'know s', 's going', 't think', 'm going', 't want', 't know', 'don t']\n",
      "Topic 1:\t['s going', 'yeah m', 'going m', 'little bit', 'going try', 'right m', 'going use', 'going cast', 'okay m', 'm going']\n",
      "Topic 2:\t['vox machina', 'going ahead', 'know s', 'going make', 'critical role', 's turn', 'going hit', 'yeah s', 'let s', 's going']\n",
      "Topic 3:\t['episode critical', 'tonight s', 'right let', 's episode', 's ahead', 'd d', 'yeah let', 'critical role', 's just', 'let s']\n",
      "Topic 4:\t['d amazing', 's fun', 'people s', 'thank d', 'd game', 't know', 'like oh', 'critical role', 've got', 'd d']\n",
      "Topic 5:\t['comes clutching', 'swats hand', 'hand away', 'hole hear', 'eventually comes', 'goes m', 'going need', 'dark brown', 'looks like', 'little bit']\n",
      "Topic 6:\t['know don', 's just', 'wasn t', 'know ve', 'let s', 'know m', 'doesn t', 'know s', 'didn t', 't know']\n",
      "Topic 7:\t['look like', 'make way', 's just', 's like', 't want', 'haven t', 'like s', 'looks like', 'didn t', 'doesn t']\n",
      "Topic 8:\t['s going', 'm just', 'vax ildan', 'oh didn', 't say', 's good', 'm sorry', 't think', 't want', 'didn t']\n",
      "Topic 9:\t['little bit', 's crest', 'winter s', 'tal dorei', 's just', 'vox machina', 'make way', 'like s', 's like', 'looks like']\n"
     ]
    }
   ],
   "source": [
    "pca = PCA(n_components=n_components)\n",
    "topics = pca.fit_transform(cv_df)\n",
    "print_top_terms(n_components=n_components, topics=topics, terms=cv.get_feature_names_out())"
   ]
  },
  {
   "cell_type": "code",
   "execution_count": 75,
   "metadata": {},
   "outputs": [
    {
     "name": "stdout",
     "output_type": "stream",
     "text": [
      "Topic 0:\t['oh don', 'didn t', 'm going', 't like', 'know s', 't worry', 't think', 't want', 't know', 'don t']\n",
      "Topic 1:\t['going make', 'going run', 'let s', 'right m', 'yeah m', 'going try', 'going use', 'going cast', 'okay m', 'm going']\n",
      "Topic 2:\t['didn t', 's try', 'okay let', 's ahead', 's look', 's let', 'right let', 'yeah let', 's just', 'let s']\n",
      "Topic 3:\t['going try', 'doesn t', 'know s', 'going hit', 'oh s', 'yeah s', 'didn t', 'oh god', 't know', 's going']\n",
      "Topic 4:\t['wouldn t', 'little bit', 't work', 'oh didn', 't say', 'know s', 'doesn t', 'oh god', 't know', 'didn t']\n",
      "Topic 5:\t['individual currently', 'oh plus', 'come grog', 'everybody s', 'm sorry', 't think', 't want', 'don t', 'god s', 'oh god']\n",
      "Topic 6:\t['know ve', 's just', 'oh god', 'got little', 's like', 'yeah ve', 'doesn t', 't know', 'little bit', 've got']\n",
      "Topic 7:\t['know don', 'haven t', 'know just', 's fine', 'know m', 'wouldn t', 'oh god', 'doesn t', 'know s', 't know']\n",
      "Topic 8:\t['points damage', 's little', 'oh s', 'looks like', 's good', 'doesn t', 's just', 's like', 't know', 'little bit']\n",
      "Topic 9:\t['good idea', 's got', 'good s', 'doesn t', 's right', 's just', 'yeah s', 's like', 'oh s', 's good']\n"
     ]
    }
   ],
   "source": [
    "pca = PCA(n_components=n_components)\n",
    "topics = pca.fit_transform(tfidf_df)\n",
    "print_top_terms(n_components=n_components, topics=topics, terms=tfidf.get_feature_names_out())"
   ]
  },
  {
   "cell_type": "markdown",
   "metadata": {},
   "source": [
    "## LDA"
   ]
  },
  {
   "cell_type": "code",
   "execution_count": 76,
   "metadata": {},
   "outputs": [
    {
     "name": "stdout",
     "output_type": "stream",
     "text": [
      "Topic 0:\t['far away', 'just like', 'going make', 'yeah m', 'don t', 'wouldn t', 'know s', 't want', 's just', 't know']\n",
      "Topic 1:\t['look s', 'didn t', 'oh wait', 'going hit', 'going ahead', 'right ll', 'percy s', 'trinket s', 'look like', 's like']\n",
      "Topic 2:\t['s big', 'okay right', 'long time', 'going try', 'just going', 'make sure', 'think s', 'm sorry', 'make way', 'oh s']\n",
      "Topic 3:\t['s glorious', 'investigation check', 'does hit', 't say', 's probably', 'll say', 'going use', 'ends turn', 'gilmore s', 's true']\n",
      "Topic 4:\t['ll just', 'aren t', 't really', 'won t', 'perception check', 'okay m', 'ahead make', 'm gonna', 'vox machina', 's turn']\n",
      "Topic 5:\t['hunter s', 've heard', 'right m', 'right guys', 'okay s', 'like s', 'right s', 's okay', 'oh god', 'yeah s']\n",
      "Topic 6:\t['stealth check', 's happening', 'hasn t', 'guys make', 'yeah ll', 'grog s', 'lady kima', 't think', 's really', 's got']\n",
      "Topic 7:\t['m glad', 'sneak attack', 'roll damage', 'gold pieces', 's s', 'd like', 'm just', 's fine', 'haven t', 've got']\n",
      "Topic 8:\t['know m', 'winter s', 's crest', 'making way', 's great', 'bag holding', 's pretty', 'oh yeah', 'wasn t', 'saving throw']\n",
      "Topic 9:\t['s hard', 'yeah yeah', 'm sure', 's little', 's looking', 's lot', 'oh shit', 'ahead roll', 'd d', 's good']\n"
     ]
    }
   ],
   "source": [
    "lda = LatentDirichletAllocation(n_components=n_components)\n",
    "topics = lda.fit_transform(cv_df)\n",
    "print_top_terms(n_components=n_components, topics=topics, terms=cv.get_feature_names_out())"
   ]
  },
  {
   "cell_type": "code",
   "execution_count": 77,
   "metadata": {},
   "outputs": [
    {
     "name": "stdout",
     "output_type": "stream",
     "text": [
      "Topic 0:\t['t say', 'yeah yeah', 'going try', 'going cast', 'll say', 's pretty', 'bonus action', 'oh yeah', 'make way', 's okay']\n",
      "Topic 1:\t['s looking', 's probably', 'make perception', 's great', 'right guys', 'ends turn', 's s', 'okay m', 'd like', 's right']\n",
      "Topic 2:\t['s kind', 'sounds like', 's plus', 'm glad', 'trinket s', 's way', 'doesn t', 've seen', 'look like', 'oh god']\n",
      "Topic 3:\t['yes s', 'did say', 's hard', 'oh okay', 'm sure', 'won t', 'wasn t', 'm gonna', 'know s', 's just']\n",
      "Topic 4:\t['making way', 'll just', 'hunter s', 'bag holding', 'ahead make', 'make sure', 'okay s', 'oh shit', 't know', 's got']\n",
      "Topic 5:\t['good know', 'thank guys', 's better', 'end turn', 't like', 's amazing', 'pretty good', 'sneak attack', 'just like', 'yeah m']\n",
      "Topic 6:\t['does hit', 's lot', 'ahead roll', 'gold pieces', 'yeah s', 's fine', 'saving throw', 't want', 'points damage', 's like']\n",
      "Topic 7:\t['right ll', 's feet', 've heard', 'aren t', 'yeah ll', 't really', 'like s', 'wouldn t', 'right s', 't think']\n",
      "Topic 8:\t['s awesome', 'dragon s', 't worry', 'right m', 's little', 'going use', 'far away', 'gilmore s', 's true', 'think s']\n",
      "Topic 9:\t['just know', 's thing', 's bad', 'd say', 'know m', 'going make', 'okay right', 'just going', 'vox machina', 'm just']\n"
     ]
    }
   ],
   "source": [
    "lda = LatentDirichletAllocation(n_components=n_components)\n",
    "topics = lda.fit_transform(tfidf_df)\n",
    "print_top_terms(n_components=n_components, topics=topics, terms=tfidf.get_feature_names_out())"
   ]
  },
  {
   "cell_type": "markdown",
   "metadata": {},
   "source": [
    "## SVD"
   ]
  },
  {
   "cell_type": "code",
   "execution_count": 78,
   "metadata": {},
   "outputs": [
    {
     "name": "stdout",
     "output_type": "stream",
     "text": [
      "Topic 0:\t['know don', 'didn t', 't worry', 'know s', 's going', 't think', 'm going', 't want', 't know', 'don t']\n",
      "Topic 1:\t['yeah m', 'going m', 's going', 'little bit', 'going try', 'right m', 'going use', 'going cast', 'okay m', 'm going']\n",
      "Topic 2:\t['going make', 'know s', 'doesn t', 'vox machina', 'going hit', 's turn', 'critical role', 'yeah s', 'let s', 's going']\n",
      "Topic 3:\t['right let', 'tonight s', 'little bit', 's episode', 's ahead', 'yeah let', 'd d', 'critical role', 's just', 'let s']\n",
      "Topic 4:\t['doesn t', 'thank d', 'd game', 'make way', 'like oh', 'critical role', 'looks like', 've got', 'little bit', 'd d']\n",
      "Topic 5:\t['grumbling eventually', 'hole hear', 'hand away', 'eventually comes', 'goes m', 'going need', 'dark brown', 'make way', 'looks like', 'little bit']\n",
      "Topic 6:\t['know don', 'wasn t', 's just', 'know ve', 'let s', 'know m', 'doesn t', 'know s', 'didn t', 't know']\n",
      "Topic 7:\t['s just', 'make way', 't want', 's good', 's like', 'like s', 'haven t', 'looks like', 'didn t', 'doesn t']\n",
      "Topic 8:\t['s like', 'vax ildan', 's just', 't say', 'oh didn', 'yeah s', 's good', 't think', 't want', 'didn t']\n",
      "Topic 9:\t['swats hand', 'shatters incoherent', 'away goes', 'hole hear', 'hand away', 'goes m', 'going need', 't want', 'didn t', 'doesn t']\n"
     ]
    }
   ],
   "source": [
    "svd = TruncatedSVD(n_components=n_components)\n",
    "topics = svd.fit_transform(cv_df)\n",
    "print_top_terms(n_components=n_components, topics=topics, terms=cv.get_feature_names_out())"
   ]
  },
  {
   "cell_type": "code",
   "execution_count": 79,
   "metadata": {},
   "outputs": [
    {
     "name": "stdout",
     "output_type": "stream",
     "text": [
      "Topic 0:\t['oh don', 'didn t', 't like', 'm going', 'know s', 't worry', 't think', 't want', 't know', 'don t']\n",
      "Topic 1:\t['going make', 'going run', 'right m', 'yeah m', 'going try', 'let s', 'going use', 'going cast', 'okay m', 'm going']\n",
      "Topic 2:\t['didn t', 's try', 'okay let', 's ahead', 's look', 's let', 'right let', 'yeah let', 's just', 'let s']\n",
      "Topic 3:\t['going hit', 'know s', 'little bit', 'doesn t', 'oh s', 'yeah s', 'oh god', 't know', 'didn t', 's going']\n",
      "Topic 4:\t['s like', 've got', 'little bit', 'oh didn', 't say', 'know s', 'doesn t', 'oh god', 't know', 'didn t']\n",
      "Topic 5:\t['oh plus', 'individual currently', 'everybody s', 'come grog', 'pretty good', 't think', 't want', 'god s', 'don t', 'oh god']\n",
      "Topic 6:\t['got little', 'points damage', 'yeah ve', 's just', 'looks like', 'doesn t', 's good', 's like', 'little bit', 've got']\n",
      "Topic 7:\t['know just', 'know ve', 'let s', 'know m', 'wouldn t', 'oh god', 'doesn t', 'know s', 've got', 't know']\n",
      "Topic 8:\t['yeah s', 's little', 'looks like', 'oh s', 's just', 'doesn t', 's like', 's good', 't know', 'little bit']\n",
      "Topic 9:\t['s fine', 's got', 'good s', 'doesn t', 's right', 's just', 'yeah s', 's like', 'oh s', 's good']\n"
     ]
    }
   ],
   "source": [
    "svd = TruncatedSVD(n_components=n_components)\n",
    "topics = svd.fit_transform(tfidf_df)\n",
    "print_top_terms(n_components=n_components, topics=topics, terms=tfidf.get_feature_names_out())"
   ]
  },
  {
   "cell_type": "markdown",
   "metadata": {},
   "source": [
    "## NMF"
   ]
  },
  {
   "cell_type": "code",
   "execution_count": 80,
   "metadata": {},
   "outputs": [
    {
     "name": "stderr",
     "output_type": "stream",
     "text": [
      "/home/patrick/anaconda3/envs/metis/lib/python3.10/site-packages/sklearn/decomposition/_nmf.py:289: FutureWarning: The 'init' value, when 'init=None' and n_components is less than n_samples and n_features, will be changed from 'nndsvd' to 'nndsvda' in 1.1 (renaming of 0.26).\n",
      "  warnings.warn(\n"
     ]
    },
    {
     "name": "stdout",
     "output_type": "stream",
     "text": [
      "Topic 0:\t['t need', 'feel like', 't really', 't don', 't like', 'think s', 't worry', 't think', 't want', 'don t']\n",
      "Topic 1:\t['bonus action', 'going make', 'yeah m', 'going m', 'going try', 'right m', 'going use', 'going cast', 'okay m', 'm going']\n",
      "Topic 2:\t['going attempt', 'going end', 'critical role', 'going ahead', 'know s', 'going make', 's turn', 'going hit', 'yeah s', 's going']\n",
      "Topic 3:\t['tonight s', 'episode critical', 's episode', 's let', 'right let', 's ahead', 'yeah let', 'critical role', 's just', 'let s']\n",
      "Topic 4:\t['ll week', 'd amazing', 's fun', 'people s', 'thank d', 'd game', 'like oh', 'critical role', 've got', 'd d']\n",
      "Topic 5:\t['brown glass', 'need ugh', 'falls shatters', 'hole hear', 'hand away', 'eventually comes', 'goes m', 'going need', 'dark brown', 'little bit']\n",
      "Topic 6:\t['know ll', 'know just', 've got', 'wasn t', 'know ve', 'know don', 'know m', 'know s', 'don t', 't know']\n",
      "Topic 7:\t['t really', 'points damage', 't want', 't look', 'feel like', 'keeper yennen', 'look like', 't matter', 'haven t', 'doesn t']\n",
      "Topic 8:\t['t really', 't think', 'm just', 'vax ildan', 'oh didn', 's good', 't say', 'm sorry', 't want', 'didn t']\n",
      "Topic 9:\t['s just', 'winter s', 's crest', 'haven t', 'tal dorei', 'vox machina', 'make way', 's like', 'like s', 'looks like']\n"
     ]
    }
   ],
   "source": [
    "nmf = NMF(n_components=n_components, max_iter=500)\n",
    "topics = nmf.fit_transform(cv_df)\n",
    "print_top_terms(n_components=n_components, topics=topics, terms=cv.get_feature_names_out())"
   ]
  },
  {
   "cell_type": "code",
   "execution_count": 81,
   "metadata": {},
   "outputs": [
    {
     "name": "stderr",
     "output_type": "stream",
     "text": [
      "/home/patrick/anaconda3/envs/metis/lib/python3.10/site-packages/sklearn/decomposition/_nmf.py:289: FutureWarning: The 'init' value, when 'init=None' and n_components is less than n_samples and n_features, will be changed from 'nndsvd' to 'nndsvda' in 1.1 (renaming of 0.26).\n",
      "  warnings.warn(\n"
     ]
    },
    {
     "name": "stdout",
     "output_type": "stream",
     "text": [
      "Topic 0:\t['yeah don', 't mind', 't really', 'oh don', 't need', 't like', 't worry', 't think', 't want', 'don t']\n",
      "Topic 1:\t['going m', 'going make', 'going run', 'right m', 'yeah m', 'going try', 'going use', 'going cast', 'okay m', 'm going']\n",
      "Topic 2:\t['s way', 's try', 'okay let', 's ahead', 's look', 's let', 'right let', 'yeah let', 's just', 'let s']\n",
      "Topic 3:\t['going make', 's turn', 'going end', 'going attempt', 'going s', 'know s', 'going try', 'going hit', 'yeah s', 's going']\n",
      "Topic 4:\t['know ve', 'know maybe', 'know just', 'know don', 'wouldn t', 'know m', 'doesn t', 'know s', 'don t', 't know']\n",
      "Topic 5:\t['oh plus', 'come grog', 'pretty good', 'like oh', 'everybody s', 's got', 'haven t', 'm sorry', 'god s', 'oh god']\n",
      "Topic 6:\t['oh yeah', 'got good', 'okay s', 'got lot', 'doesn t', 'm gonna', 'know ve', 'got little', 'yeah ve', 've got']\n",
      "Topic 7:\t['ve seen', 't roll', 't tell', 't work', 'm sorry', 't want', 't think', 'oh didn', 't say', 'didn t']\n",
      "Topic 8:\t['got little', 'make way', 'just little', 'bit light', 'points damage', 's little', 'doesn t', 's just', 'looks like', 'little bit']\n",
      "Topic 9:\t['good idea', 's got', 'good s', 'doesn t', 's right', 's just', 'yeah s', 's like', 'oh s', 's good']\n"
     ]
    }
   ],
   "source": [
    "nmf = NMF(n_components=n_components, max_iter=200)\n",
    "topics = nmf.fit_transform(tfidf_df)\n",
    "print_top_terms(n_components=n_components, topics=topics, terms=tfidf.get_feature_names_out())"
   ]
  },
  {
   "cell_type": "code",
   "execution_count": null,
   "metadata": {},
   "outputs": [],
   "source": []
  },
  {
   "cell_type": "code",
   "execution_count": null,
   "metadata": {},
   "outputs": [],
   "source": []
  }
 ],
 "metadata": {
  "kernelspec": {
   "display_name": "Python 3.10.4 ('metis')",
   "language": "python",
   "name": "python3"
  },
  "language_info": {
   "codemirror_mode": {
    "name": "ipython",
    "version": 3
   },
   "file_extension": ".py",
   "mimetype": "text/x-python",
   "name": "python",
   "nbconvert_exporter": "python",
   "pygments_lexer": "ipython3",
   "version": "3.10.4"
  },
  "orig_nbformat": 4,
  "vscode": {
   "interpreter": {
    "hash": "2279e2d64b6cb4063ab7cfccb2020b604cfa41abe39379e7173718ec353138e1"
   }
  }
 },
 "nbformat": 4,
 "nbformat_minor": 2
}
