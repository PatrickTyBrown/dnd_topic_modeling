{
 "cells": [
  {
   "cell_type": "markdown",
   "metadata": {},
   "source": [
    "# Topic Modeling\n",
    "### Without Preprocessing"
   ]
  },
  {
   "cell_type": "code",
   "execution_count": 1,
   "metadata": {},
   "outputs": [
    {
     "name": "stderr",
     "output_type": "stream",
     "text": [
      "2022-08-28 19:27:16.122812: W tensorflow/stream_executor/platform/default/dso_loader.cc:64] Could not load dynamic library 'libcudart.so.11.0'; dlerror: libcudart.so.11.0: cannot open shared object file: No such file or directory\n",
      "2022-08-28 19:27:16.122833: I tensorflow/stream_executor/cuda/cudart_stub.cc:29] Ignore above cudart dlerror if you do not have a GPU set up on your machine.\n"
     ]
    }
   ],
   "source": [
    "import json\n",
    "import os\n",
    "import random\n",
    "import pandas as pd\n",
    "import numpy as np\n",
    "from sklearn.feature_extraction.text import CountVectorizer, TfidfVectorizer\n",
    "from sklearn.decomposition import PCA\n",
    "from sklearn.decomposition import NMF\n",
    "from sklearn.decomposition import TruncatedSVD\n",
    "from sklearn.decomposition import LatentDirichletAllocation\n",
    "import spacy\n",
    "# import coreferee\n",
    "# nlp = spacy.load('en_core_web_trf')\n",
    "# nlp.add_pipe('coreferee')\n",
    "nlp = spacy.load(\"en_core_web_sm\")"
   ]
  },
  {
   "cell_type": "markdown",
   "metadata": {},
   "source": [
    "#### Define Parameters"
   ]
  },
  {
   "cell_type": "code",
   "execution_count": 2,
   "metadata": {},
   "outputs": [],
   "source": [
    "n_components = 15 #Topics To generate\n",
    "n = 40 #Transcripts to use\n",
    "max_df=20\n",
    "min_df=3\n",
    "n_terms = 10"
   ]
  },
  {
   "cell_type": "markdown",
   "metadata": {},
   "source": [
    "## Load Data"
   ]
  },
  {
   "cell_type": "code",
   "execution_count": 3,
   "metadata": {},
   "outputs": [],
   "source": [
    "# pos = [\"CCONJ\",\"NUM\",\"PRON\",\"PROPN\",\"PUNCT\",\"SCONJ\",\"SYM\",\"X\"]\n",
    "# pos = [\"ADJ\",\"ADP\",\"ADV\",\"AUX\",\"CCONJ\",\"DET\",\"INTJ\",\"NOUN\",\"NUM\",\"PART\",\"PRON\",\"PROPN\",\"PUNCT\",\"SCONJ\",\"SYM\",\"VERB\",\"X\"]\n",
    "pos = [\"ADJ\",\"AUX\",\"CCONJ\",\"DET\",\"INTJ\",\"NUM\",\"PART\",\"PRON\",\"PROPN\",\"PUNCT\",\"SCONJ\",\"SYM\",\"X\"]\n",
    "def clean_text(text, coref = False, lemma = True, pos_exclusions = pos):\n",
    "    doc = nlp(text)\n",
    "\n",
    "    if coref:\n",
    "        new_text = \"\"\n",
    "        for i  in range(len(doc)):\n",
    "            tokens = doc[i]\n",
    "            if doc._.coref_chains.resolve(tokens):\n",
    "                new_text += doc._.coref_chains.resolve(tokens)[0].text\n",
    "            else:\n",
    "                new_text += tokens.text\n",
    "            new_text+= \" \"\n",
    "        doc = nlp(new_text)\n",
    "    text = \"\"\n",
    "    for token in doc:\n",
    "        if token.pos_ not in pos_exclusions:\n",
    "            text += token.lemma_ if lemma else token.text\n",
    "            text += \" \"\n",
    "    return text"
   ]
  },
  {
   "cell_type": "code",
   "execution_count": 6,
   "metadata": {},
   "outputs": [],
   "source": [
    "def create_df_multi(n=25):\n",
    "    list_of_text = []\n",
    "    dir = 'data/aligned data/c=4'\n",
    "\n",
    "    files = [filename for filename in os.listdir(dir)]\n",
    "    sampled_files = random.choices(files,k=n)\n",
    "\n",
    "    for filename in sampled_files:\n",
    "        # choice = random.choice(os.listdir(dir))\n",
    "        # print(choice)\n",
    "        f = open(dir+'/'+filename)\n",
    "        data = json.load(f)\n",
    "        choice = random.choice(os.listdir(dir))\n",
    "        # print(choice)\n",
    "        f = open(dir+'/'+choice)\n",
    "        data = json.load(f)\n",
    "\n",
    "        for x in data:\n",
    "            for y in x['TURNS']:\n",
    "                if y['NAMES'][0] == 'MATT':\n",
    "                    text = ' '.join(y['UTTERANCES'])\n",
    "\n",
    "                    text = clean_text(text)\n",
    "                    list_of_text.append(text)\n",
    "    df = pd.DataFrame(list_of_text)\n",
    "    return df"
   ]
  },
  {
   "cell_type": "code",
   "execution_count": 7,
   "metadata": {},
   "outputs": [
    {
     "name": "stdout",
     "output_type": "stream",
     "text": [
      "(29284, 1)\n"
     ]
    },
    {
     "data": {
      "text/html": [
       "<div>\n",
       "<style scoped>\n",
       "    .dataframe tbody tr th:only-of-type {\n",
       "        vertical-align: middle;\n",
       "    }\n",
       "\n",
       "    .dataframe tbody tr th {\n",
       "        vertical-align: top;\n",
       "    }\n",
       "\n",
       "    .dataframe thead th {\n",
       "        text-align: right;\n",
       "    }\n",
       "</style>\n",
       "<table border=\"1\" class=\"dataframe\">\n",
       "  <thead>\n",
       "    <tr style=\"text-align: right;\">\n",
       "      <th></th>\n",
       "      <th>0</th>\n",
       "    </tr>\n",
       "  </thead>\n",
       "  <tbody>\n",
       "    <tr>\n",
       "      <th>0</th>\n",
       "      <td>to tonight episode of bunch of ass voice actor...</td>\n",
       "    </tr>\n",
       "    <tr>\n",
       "      <th>1</th>\n",
       "      <td>like jump into tonight episode have announceme...</td>\n",
       "    </tr>\n",
       "    <tr>\n",
       "      <th>2</th>\n",
       "      <td>appearance now on</td>\n",
       "    </tr>\n",
       "    <tr>\n",
       "      <th>3</th>\n",
       "      <td>get to laughter</td>\n",
       "    </tr>\n",
       "    <tr>\n",
       "      <th>4</th>\n",
       "      <td>mention before thank again friend at for spons...</td>\n",
       "    </tr>\n",
       "  </tbody>\n",
       "</table>\n",
       "</div>"
      ],
      "text/plain": [
       "                                                   0\n",
       "0  to tonight episode of bunch of ass voice actor...\n",
       "1  like jump into tonight episode have announceme...\n",
       "2                                 appearance now on \n",
       "3                                   get to laughter \n",
       "4  mention before thank again friend at for spons..."
      ]
     },
     "execution_count": 7,
     "metadata": {},
     "output_type": "execute_result"
    }
   ],
   "source": [
    "df = create_df_multi(n)\n",
    "print(df.shape)\n",
    "df.head()"
   ]
  },
  {
   "cell_type": "markdown",
   "metadata": {},
   "source": [
    "## Vectorize Data\n"
   ]
  },
  {
   "cell_type": "markdown",
   "metadata": {},
   "source": [
    "\n",
    "- Count Vectorizer\n",
    "- Tfidf Vectorizer\n",
    "\n",
    "Use both with each model"
   ]
  },
  {
   "cell_type": "code",
   "execution_count": 8,
   "metadata": {},
   "outputs": [
    {
     "name": "stdout",
     "output_type": "stream",
     "text": [
      "(29284, 3229)\n"
     ]
    },
    {
     "data": {
      "text/html": [
       "<div>\n",
       "<style scoped>\n",
       "    .dataframe tbody tr th:only-of-type {\n",
       "        vertical-align: middle;\n",
       "    }\n",
       "\n",
       "    .dataframe tbody tr th {\n",
       "        vertical-align: top;\n",
       "    }\n",
       "\n",
       "    .dataframe thead th {\n",
       "        text-align: right;\n",
       "    }\n",
       "</style>\n",
       "<table border=\"1\" class=\"dataframe\">\n",
       "  <thead>\n",
       "    <tr style=\"text-align: right;\">\n",
       "      <th></th>\n",
       "      <th>0</th>\n",
       "      <th>1</th>\n",
       "      <th>2</th>\n",
       "      <th>3</th>\n",
       "      <th>4</th>\n",
       "      <th>5</th>\n",
       "      <th>6</th>\n",
       "      <th>7</th>\n",
       "      <th>8</th>\n",
       "      <th>9</th>\n",
       "      <th>...</th>\n",
       "      <th>29274</th>\n",
       "      <th>29275</th>\n",
       "      <th>29276</th>\n",
       "      <th>29277</th>\n",
       "      <th>29278</th>\n",
       "      <th>29279</th>\n",
       "      <th>29280</th>\n",
       "      <th>29281</th>\n",
       "      <th>29282</th>\n",
       "      <th>29283</th>\n",
       "    </tr>\n",
       "  </thead>\n",
       "  <tbody>\n",
       "    <tr>\n",
       "      <th>zealotry</th>\n",
       "      <td>0.0</td>\n",
       "      <td>0.0</td>\n",
       "      <td>0.0</td>\n",
       "      <td>0.0</td>\n",
       "      <td>0.0</td>\n",
       "      <td>0.0</td>\n",
       "      <td>0.0</td>\n",
       "      <td>0.0</td>\n",
       "      <td>0.0</td>\n",
       "      <td>0.0</td>\n",
       "      <td>...</td>\n",
       "      <td>0.0</td>\n",
       "      <td>0.0</td>\n",
       "      <td>0.0</td>\n",
       "      <td>0.0</td>\n",
       "      <td>0.0</td>\n",
       "      <td>0.0</td>\n",
       "      <td>0.0</td>\n",
       "      <td>0.0</td>\n",
       "      <td>0.0</td>\n",
       "      <td>0.0</td>\n",
       "    </tr>\n",
       "    <tr>\n",
       "      <th>zenith</th>\n",
       "      <td>0.0</td>\n",
       "      <td>0.0</td>\n",
       "      <td>0.0</td>\n",
       "      <td>0.0</td>\n",
       "      <td>0.0</td>\n",
       "      <td>0.0</td>\n",
       "      <td>0.0</td>\n",
       "      <td>0.0</td>\n",
       "      <td>0.0</td>\n",
       "      <td>0.0</td>\n",
       "      <td>...</td>\n",
       "      <td>0.0</td>\n",
       "      <td>0.0</td>\n",
       "      <td>0.0</td>\n",
       "      <td>0.0</td>\n",
       "      <td>0.0</td>\n",
       "      <td>0.0</td>\n",
       "      <td>0.0</td>\n",
       "      <td>0.0</td>\n",
       "      <td>0.0</td>\n",
       "      <td>0.0</td>\n",
       "    </tr>\n",
       "    <tr>\n",
       "      <th>zigzag</th>\n",
       "      <td>0.0</td>\n",
       "      <td>0.0</td>\n",
       "      <td>0.0</td>\n",
       "      <td>0.0</td>\n",
       "      <td>0.0</td>\n",
       "      <td>0.0</td>\n",
       "      <td>0.0</td>\n",
       "      <td>0.0</td>\n",
       "      <td>0.0</td>\n",
       "      <td>0.0</td>\n",
       "      <td>...</td>\n",
       "      <td>0.0</td>\n",
       "      <td>0.0</td>\n",
       "      <td>0.0</td>\n",
       "      <td>0.0</td>\n",
       "      <td>0.0</td>\n",
       "      <td>0.0</td>\n",
       "      <td>0.0</td>\n",
       "      <td>0.0</td>\n",
       "      <td>0.0</td>\n",
       "      <td>0.0</td>\n",
       "    </tr>\n",
       "    <tr>\n",
       "      <th>zip</th>\n",
       "      <td>0.0</td>\n",
       "      <td>0.0</td>\n",
       "      <td>0.0</td>\n",
       "      <td>0.0</td>\n",
       "      <td>0.0</td>\n",
       "      <td>0.0</td>\n",
       "      <td>0.0</td>\n",
       "      <td>0.0</td>\n",
       "      <td>0.0</td>\n",
       "      <td>0.0</td>\n",
       "      <td>...</td>\n",
       "      <td>0.0</td>\n",
       "      <td>0.0</td>\n",
       "      <td>0.0</td>\n",
       "      <td>0.0</td>\n",
       "      <td>0.0</td>\n",
       "      <td>0.0</td>\n",
       "      <td>0.0</td>\n",
       "      <td>0.0</td>\n",
       "      <td>0.0</td>\n",
       "      <td>0.0</td>\n",
       "    </tr>\n",
       "    <tr>\n",
       "      <th>zone</th>\n",
       "      <td>0.0</td>\n",
       "      <td>0.0</td>\n",
       "      <td>0.0</td>\n",
       "      <td>0.0</td>\n",
       "      <td>0.0</td>\n",
       "      <td>0.0</td>\n",
       "      <td>0.0</td>\n",
       "      <td>0.0</td>\n",
       "      <td>0.0</td>\n",
       "      <td>0.0</td>\n",
       "      <td>...</td>\n",
       "      <td>0.0</td>\n",
       "      <td>0.0</td>\n",
       "      <td>0.0</td>\n",
       "      <td>0.0</td>\n",
       "      <td>0.0</td>\n",
       "      <td>0.0</td>\n",
       "      <td>0.0</td>\n",
       "      <td>0.0</td>\n",
       "      <td>0.0</td>\n",
       "      <td>0.0</td>\n",
       "    </tr>\n",
       "  </tbody>\n",
       "</table>\n",
       "<p>5 rows × 29284 columns</p>\n",
       "</div>"
      ],
      "text/plain": [
       "          0      1      2      3      4      5      6      7      8      \\\n",
       "zealotry    0.0    0.0    0.0    0.0    0.0    0.0    0.0    0.0    0.0   \n",
       "zenith      0.0    0.0    0.0    0.0    0.0    0.0    0.0    0.0    0.0   \n",
       "zigzag      0.0    0.0    0.0    0.0    0.0    0.0    0.0    0.0    0.0   \n",
       "zip         0.0    0.0    0.0    0.0    0.0    0.0    0.0    0.0    0.0   \n",
       "zone        0.0    0.0    0.0    0.0    0.0    0.0    0.0    0.0    0.0   \n",
       "\n",
       "          9      ...  29274  29275  29276  29277  29278  29279  29280  29281  \\\n",
       "zealotry    0.0  ...    0.0    0.0    0.0    0.0    0.0    0.0    0.0    0.0   \n",
       "zenith      0.0  ...    0.0    0.0    0.0    0.0    0.0    0.0    0.0    0.0   \n",
       "zigzag      0.0  ...    0.0    0.0    0.0    0.0    0.0    0.0    0.0    0.0   \n",
       "zip         0.0  ...    0.0    0.0    0.0    0.0    0.0    0.0    0.0    0.0   \n",
       "zone        0.0  ...    0.0    0.0    0.0    0.0    0.0    0.0    0.0    0.0   \n",
       "\n",
       "          29282  29283  \n",
       "zealotry    0.0    0.0  \n",
       "zenith      0.0    0.0  \n",
       "zigzag      0.0    0.0  \n",
       "zip         0.0    0.0  \n",
       "zone        0.0    0.0  \n",
       "\n",
       "[5 rows x 29284 columns]"
      ]
     },
     "execution_count": 8,
     "metadata": {},
     "output_type": "execute_result"
    }
   ],
   "source": [
    "# tfidf=TfidfVectorizer(stop_words='english',max_df=.7,min_df=2,token_pattern=r'(?u)\\b[A-Za-z]+\\b')\n",
    "\n",
    "tfidf = TfidfVectorizer(stop_words='english', \n",
    "    max_df=max_df,\n",
    "    min_df=min_df,\n",
    "    token_pattern=r'(?u)\\b[A-Za-z]+\\b'\n",
    "    )\n",
    "tfidf_sparse = tfidf.fit_transform(df[0])\n",
    "print(tfidf_sparse.shape)\n",
    "tfidf_df = pd.DataFrame(tfidf_sparse.toarray().transpose(),\n",
    "                   index=tfidf.get_feature_names_out())\n",
    "tfidf_df.tail()"
   ]
  },
  {
   "cell_type": "code",
   "execution_count": 9,
   "metadata": {},
   "outputs": [
    {
     "name": "stdout",
     "output_type": "stream",
     "text": [
      "(29284, 3229)\n"
     ]
    },
    {
     "data": {
      "text/html": [
       "<div>\n",
       "<style scoped>\n",
       "    .dataframe tbody tr th:only-of-type {\n",
       "        vertical-align: middle;\n",
       "    }\n",
       "\n",
       "    .dataframe tbody tr th {\n",
       "        vertical-align: top;\n",
       "    }\n",
       "\n",
       "    .dataframe thead th {\n",
       "        text-align: right;\n",
       "    }\n",
       "</style>\n",
       "<table border=\"1\" class=\"dataframe\">\n",
       "  <thead>\n",
       "    <tr style=\"text-align: right;\">\n",
       "      <th></th>\n",
       "      <th>0</th>\n",
       "      <th>1</th>\n",
       "      <th>2</th>\n",
       "      <th>3</th>\n",
       "      <th>4</th>\n",
       "      <th>5</th>\n",
       "      <th>6</th>\n",
       "      <th>7</th>\n",
       "      <th>8</th>\n",
       "      <th>9</th>\n",
       "      <th>...</th>\n",
       "      <th>29274</th>\n",
       "      <th>29275</th>\n",
       "      <th>29276</th>\n",
       "      <th>29277</th>\n",
       "      <th>29278</th>\n",
       "      <th>29279</th>\n",
       "      <th>29280</th>\n",
       "      <th>29281</th>\n",
       "      <th>29282</th>\n",
       "      <th>29283</th>\n",
       "    </tr>\n",
       "  </thead>\n",
       "  <tbody>\n",
       "    <tr>\n",
       "      <th>zealotry</th>\n",
       "      <td>0</td>\n",
       "      <td>0</td>\n",
       "      <td>0</td>\n",
       "      <td>0</td>\n",
       "      <td>0</td>\n",
       "      <td>0</td>\n",
       "      <td>0</td>\n",
       "      <td>0</td>\n",
       "      <td>0</td>\n",
       "      <td>0</td>\n",
       "      <td>...</td>\n",
       "      <td>0</td>\n",
       "      <td>0</td>\n",
       "      <td>0</td>\n",
       "      <td>0</td>\n",
       "      <td>0</td>\n",
       "      <td>0</td>\n",
       "      <td>0</td>\n",
       "      <td>0</td>\n",
       "      <td>0</td>\n",
       "      <td>0</td>\n",
       "    </tr>\n",
       "    <tr>\n",
       "      <th>zenith</th>\n",
       "      <td>0</td>\n",
       "      <td>0</td>\n",
       "      <td>0</td>\n",
       "      <td>0</td>\n",
       "      <td>0</td>\n",
       "      <td>0</td>\n",
       "      <td>0</td>\n",
       "      <td>0</td>\n",
       "      <td>0</td>\n",
       "      <td>0</td>\n",
       "      <td>...</td>\n",
       "      <td>0</td>\n",
       "      <td>0</td>\n",
       "      <td>0</td>\n",
       "      <td>0</td>\n",
       "      <td>0</td>\n",
       "      <td>0</td>\n",
       "      <td>0</td>\n",
       "      <td>0</td>\n",
       "      <td>0</td>\n",
       "      <td>0</td>\n",
       "    </tr>\n",
       "    <tr>\n",
       "      <th>zigzag</th>\n",
       "      <td>0</td>\n",
       "      <td>0</td>\n",
       "      <td>0</td>\n",
       "      <td>0</td>\n",
       "      <td>0</td>\n",
       "      <td>0</td>\n",
       "      <td>0</td>\n",
       "      <td>0</td>\n",
       "      <td>0</td>\n",
       "      <td>0</td>\n",
       "      <td>...</td>\n",
       "      <td>0</td>\n",
       "      <td>0</td>\n",
       "      <td>0</td>\n",
       "      <td>0</td>\n",
       "      <td>0</td>\n",
       "      <td>0</td>\n",
       "      <td>0</td>\n",
       "      <td>0</td>\n",
       "      <td>0</td>\n",
       "      <td>0</td>\n",
       "    </tr>\n",
       "    <tr>\n",
       "      <th>zip</th>\n",
       "      <td>0</td>\n",
       "      <td>0</td>\n",
       "      <td>0</td>\n",
       "      <td>0</td>\n",
       "      <td>0</td>\n",
       "      <td>0</td>\n",
       "      <td>0</td>\n",
       "      <td>0</td>\n",
       "      <td>0</td>\n",
       "      <td>0</td>\n",
       "      <td>...</td>\n",
       "      <td>0</td>\n",
       "      <td>0</td>\n",
       "      <td>0</td>\n",
       "      <td>0</td>\n",
       "      <td>0</td>\n",
       "      <td>0</td>\n",
       "      <td>0</td>\n",
       "      <td>0</td>\n",
       "      <td>0</td>\n",
       "      <td>0</td>\n",
       "    </tr>\n",
       "    <tr>\n",
       "      <th>zone</th>\n",
       "      <td>0</td>\n",
       "      <td>0</td>\n",
       "      <td>0</td>\n",
       "      <td>0</td>\n",
       "      <td>0</td>\n",
       "      <td>0</td>\n",
       "      <td>0</td>\n",
       "      <td>0</td>\n",
       "      <td>0</td>\n",
       "      <td>0</td>\n",
       "      <td>...</td>\n",
       "      <td>0</td>\n",
       "      <td>0</td>\n",
       "      <td>0</td>\n",
       "      <td>0</td>\n",
       "      <td>0</td>\n",
       "      <td>0</td>\n",
       "      <td>0</td>\n",
       "      <td>0</td>\n",
       "      <td>0</td>\n",
       "      <td>0</td>\n",
       "    </tr>\n",
       "  </tbody>\n",
       "</table>\n",
       "<p>5 rows × 29284 columns</p>\n",
       "</div>"
      ],
      "text/plain": [
       "          0      1      2      3      4      5      6      7      8      \\\n",
       "zealotry      0      0      0      0      0      0      0      0      0   \n",
       "zenith        0      0      0      0      0      0      0      0      0   \n",
       "zigzag        0      0      0      0      0      0      0      0      0   \n",
       "zip           0      0      0      0      0      0      0      0      0   \n",
       "zone          0      0      0      0      0      0      0      0      0   \n",
       "\n",
       "          9      ...  29274  29275  29276  29277  29278  29279  29280  29281  \\\n",
       "zealotry      0  ...      0      0      0      0      0      0      0      0   \n",
       "zenith        0  ...      0      0      0      0      0      0      0      0   \n",
       "zigzag        0  ...      0      0      0      0      0      0      0      0   \n",
       "zip           0  ...      0      0      0      0      0      0      0      0   \n",
       "zone          0  ...      0      0      0      0      0      0      0      0   \n",
       "\n",
       "          29282  29283  \n",
       "zealotry      0      0  \n",
       "zenith        0      0  \n",
       "zigzag        0      0  \n",
       "zip           0      0  \n",
       "zone          0      0  \n",
       "\n",
       "[5 rows x 29284 columns]"
      ]
     },
     "execution_count": 9,
     "metadata": {},
     "output_type": "execute_result"
    }
   ],
   "source": [
    "cv = CountVectorizer(stop_words='english', \n",
    "    max_df=max_df,\n",
    "    min_df=min_df,\n",
    "    token_pattern=r'(?u)\\b[A-Za-z]+\\b'\n",
    "    )\n",
    "cv_sparse = cv.fit_transform(df[0])\n",
    "print(cv_sparse.shape)\n",
    "cv_df = pd.DataFrame(cv_sparse.toarray().transpose(),\n",
    "                   index=cv.get_feature_names_out())\n",
    "cv_df.tail()"
   ]
  },
  {
   "cell_type": "markdown",
   "metadata": {},
   "source": [
    "## Define Output Functions"
   ]
  },
  {
   "cell_type": "code",
   "execution_count": 10,
   "metadata": {},
   "outputs": [],
   "source": [
    "def print_top_terms(n_components, topics, terms, n_terms = 10):\n",
    "    for x in range(n_components):\n",
    "        topic = x\n",
    "        components = topics[:,topic]\n",
    "        top_term_indices = components.argsort()[-n_terms:]\n",
    "        top_terms = np.array(terms)[top_term_indices]\n",
    "        \n",
    "        print(f'Topic {x}:\\t{top_terms.tolist()}')\n"
   ]
  },
  {
   "cell_type": "markdown",
   "metadata": {},
   "source": [
    "## PCA"
   ]
  },
  {
   "cell_type": "code",
   "execution_count": 11,
   "metadata": {},
   "outputs": [
    {
     "name": "stdout",
     "output_type": "stream",
     "text": [
      "Topic 0:\t['paralyze', 'rapidly', 'tight', 'teach', 'angel', 'dot', 'fox', 'veil', 'roil', 'mute']\n",
      "Topic 1:\t['teach', 'angel', 'dot', 'varn', 'k', 'colony', 'fox', 'roil', 'veil', 'mute']\n",
      "Topic 2:\t['mausoleum', 'undercroft', 'ignore', 'syla', 'bloodline', 'reading', 'charm', 'brink', 'wealth', 'cellar']\n",
      "Topic 3:\t['batter', 'dispel', 'proceed', 'timing', 'waterfall', 'transform', 'wealth', 'rider', 'hip', 'cellar']\n",
      "Topic 4:\t['compare', 'intel', 'farmland', 'fulfill', 'horseback', 'hatch', 'ambush', 'phrase', 'protector', 'slaver']\n",
      "Topic 5:\t['fortress', 'slavery', 'halfle', 'pilgrimage', 'overview', 'mutate', 'paladin', 'abomination', 'enemy', 'quest']\n",
      "Topic 6:\t['canine', 'bony', 'starch', 'ankle', 'pupil', 'accent', 'puff', 'switch', 'linger', 'portrait']\n",
      "Topic 7:\t['seize', 'faith', 'blacksmithy', 'downpour', 'selling', 'sprinkle', 'anvil', 'banging', 'stride', 'ware']\n",
      "Topic 8:\t['robot', 'goatee', 'necromancer', 'demeanor', 'mourn', 'agreement', 'argument', 'bazaar', 'daughter', 'resurrection']\n",
      "Topic 9:\t['audience', 'condense', 'godhood', 'craftsmanship', 'seed', 'extent', 'volcano', 'orchard', 'imbue', 'faith']\n",
      "Topic 10:\t['monster', 'screech', 'arrest', 'judgment', 'maw', 'frustration', 'increase', 'decline', 'hunter', 'refuse']\n",
      "Topic 11:\t['beseech', 'invitation', 'citadel', 'extinguish', 'glade', 'unto', 'exchange', 'transfer', 'race', 'orchard']\n",
      "Topic 12:\t['extinguish', 'citadel', 'glade', 'unto', 'transfer', 'exchange', 'race', 'bully', 'parent', 'orchard']\n",
      "Topic 13:\t['gangplank', 'halo', 'quicken', 'abruptly', 'sailing', 'deckhand', 'nest', 'n', 'cap', 'clack']\n",
      "Topic 14:\t['showdown', 'bastion', 'dark', 'mercenary', 'hulk', 'oppress', 'survivor', 'horde', 'townsfolk', 'noble']\n"
     ]
    }
   ],
   "source": [
    "pca = PCA(n_components=n_components)\n",
    "topics = pca.fit_transform(cv_df)\n",
    "print_top_terms(n_components=n_components, topics=topics, terms=cv.get_feature_names_out())"
   ]
  },
  {
   "cell_type": "code",
   "execution_count": 12,
   "metadata": {},
   "outputs": [
    {
     "name": "stdout",
     "output_type": "stream",
     "text": [
      "Topic 0:\t['marching', 'treant', 'robot', 'film', 'tour', 'completion', 'birthday', 'lend', 'pardon', 'buddy']\n",
      "Topic 1:\t['tour', 'tinker', 'jostle', 'relieve', 'marching', 'clinking', 'honestly', 'buddy', 'timing', 'sleight']\n",
      "Topic 2:\t['deflect', 'crossroad', 'selling', 'downpour', 'blacksmithy', 'banging', 'anvil', 'sprinkle', 'stride', 'ware']\n",
      "Topic 3:\t['auto', 'drool', 'credit', 'imp', 'thread', 'lend', 'completion', 'minus', 'paralyze', 'automatically']\n",
      "Topic 4:\t['stealthing', 'unleash', 'scimitar', 'ready', 'glaive', 'minus', 'loop', 'automatically', 'treant', 'jester']\n",
      "Topic 5:\t['merch', 'bush', 'flutter', 'jester', 'unmove', 'jet', 'feat', 'general', 'froth', 'drool']\n",
      "Topic 6:\t['flutter', 'greatsword', 'goliath', 'shriek', 'yank', 'marching', 'deflect', 'froth', 'drool', 'treant']\n",
      "Topic 7:\t['lend', 'froth', 'scan', 'greatsword', 'jester', 'unlock', 'drool', 'eel', 'theory', 'melee']\n",
      "Topic 8:\t['spatter', 'budge', 'froth', 'melee', 'drool', 'shock', 'treant', 'credit', 'eel', 'minus']\n",
      "Topic 9:\t['treant', 'froth', 'accomplish', 'egg', 'tour', 'drool', 'marching', 'scan', 'melee', 'credit']\n",
      "Topic 10:\t['goliath', 'volunteer', 'wand', 'deflect', 'unlock', 'tour', 'scan', 'treant', 'minus', 'merch']\n",
      "Topic 11:\t['greatsword', 'individually', 'scan', 'strait', 'friendship', 'deflect', 'apiece', 'eel', 'tour', 'discount']\n",
      "Topic 12:\t['erinye', 'general', 'scan', 'imp', 'tour', 'spatter', 'theory', 'minus', 'marching', 'cock']\n",
      "Topic 13:\t['unleash', 'shock', 'deflect', 'eel', 'feat', 'fine', 'theory', 'unlock', 'tour', 'spatter']\n",
      "Topic 14:\t['merch', 'eel', 'honestly', 'enchant', 'scan', 'credit', 'imp', 'unlock', 'marching', 'theory']\n"
     ]
    }
   ],
   "source": [
    "pca = PCA(n_components=n_components)\n",
    "topics = pca.fit_transform(tfidf_df)\n",
    "print_top_terms(n_components=n_components, topics=topics, terms=tfidf.get_feature_names_out())"
   ]
  },
  {
   "cell_type": "markdown",
   "metadata": {},
   "source": [
    "## LDA"
   ]
  },
  {
   "cell_type": "code",
   "execution_count": 13,
   "metadata": {},
   "outputs": [
    {
     "name": "stdout",
     "output_type": "stream",
     "text": [
      "Topic 0:\t['reform', 'shade', 'hate', 'vein', 'cat', 'paralyze', 'mutter', 'buddy', 'rapidly', 'manacle']\n",
      "Topic 1:\t['latch', 'unmove', 'troupe', 'marble', 'caravan', 'plenty', 'loosely', 'credit', 'monk', 'regard']\n",
      "Topic 2:\t['theory', 'basis', 'training', 'refuse', 'sulfur', 'shriek', 'glove', 'illusion', 'muck', 'egg']\n",
      "Topic 3:\t['transpire', 'scan', 'season', 'sizzle', 'suck', 'brass', 'eel', 'podcast', 'erinye', 'flare']\n",
      "Topic 4:\t['escort', 'cap', 'affix', 'singe', 'mustache', 'anchor', 'tiger', 'enemy', 'crumble', 'wealth']\n",
      "Topic 5:\t['melee', 'flick', 'splatter', 'merch', 'shrink', 'patrol', 'hunch', 'spike', 'simultaneously', 'jewelry']\n",
      "Topic 6:\t['chew', 'pearl', 'perch', 'clock', 'recovery', 'completion', 'gnarl', 'jet', 'contest', 'mechanism']\n",
      "Topic 7:\t['brighten', 'regardless', 'warn', 'glimmer', 'red', 'gauntlet', 'curtain', 'pressure', 'donation', 'goliath']\n",
      "Topic 8:\t['instinctively', 'tab', 'dip', 'dome', 'yank', 'lend', 'accomplish', 'female', 'tar', 'subscriber']\n",
      "Topic 9:\t['wonder', 'general', 'shock', 'bet', 'phrase', 'protector', 'honestly', 'faith', 'tour', 'mini']\n",
      "Topic 10:\t['disperse', 'slave', 'slap', 'pact', 'treant', 'greet', 'relax', 'deflect', 'flutter', 'thread']\n",
      "Topic 11:\t['king', 'melt', 'nostril', 'clearing', 'cock', 'jester', 'military', 'protrude', 'react', 'dance']\n",
      "Topic 12:\t['automatically', 'slump', 'settle', 'sustain', 'groove', 'glyph', 'unlock', 'wand', 'wash', 'imp']\n",
      "Topic 13:\t['unleash', 'intro', 'decorate', 'braid', 'drool', 'footprint', 'content', 'discount', 'ware', 'aura']\n",
      "Topic 14:\t['lumber', 'longbow', 'residuum', 'daylight', 'feat', 'tune', 'spatter', 'sleight', 'freeze', 'enchant']\n"
     ]
    }
   ],
   "source": [
    "lda = LatentDirichletAllocation(n_components=n_components)\n",
    "topics = lda.fit_transform(cv_df)\n",
    "print_top_terms(n_components=n_components, topics=topics, terms=cv.get_feature_names_out())"
   ]
  },
  {
   "cell_type": "code",
   "execution_count": 14,
   "metadata": {},
   "outputs": [
    {
     "name": "stdout",
     "output_type": "stream",
     "text": [
      "Topic 0:\t['filter', 'current', 'standpoint', 'sentinel', 'subscriber', 'groove', 'properly', 'completion', 'plenty', 'regardless']\n",
      "Topic 1:\t['fellow', 'attune', 'rate', 'flavor', 'backhand', 'hiss', 'procure', 'expression', 'manacle', 'mainly']\n",
      "Topic 2:\t['situate', 'possibility', 'coal', 'benefit', 'casting', 'jet', 'camera', 'react', 'general', 'muck']\n",
      "Topic 3:\t['audio', 'lower', 'apology', 'tune', 'transpire', 'longbow', 'goliath', 'honestly', 'theory', 'jester']\n",
      "Topic 4:\t['d', 'pardon', 'tiger', 'scenario', 'wonder', 'daylight', 'fine', 'erinye', 'melee', 'treant']\n",
      "Topic 5:\t['melt', 'hat', 'medicine', 'disengage', 'distraction', 'bush', 'shriek', 'anchor', 'tar', 'enchant']\n",
      "Topic 6:\t['loosely', 'shrink', 'freak', 'suit', 'slap', 'limb', 'equipment', 'simultaneously', 'egg', 'unlock']\n",
      "Topic 7:\t['protrude', 'palm', 'blink', 'suck', 'basis', 'deckhand', 'trick', 'wand', 'tinker', 'credit']\n",
      "Topic 8:\t['lend', 'flare', 'paralyze', 'physicality', 'singing', 'greatsword', 'feat', 'scan', 'imp', 'automatically']\n",
      "Topic 9:\t['rubble', 'mutter', 'hop', 'aura', 'rapidly', 'disperse', 'fucking', 'flutter', 'minus', 'cock']\n",
      "Topic 10:\t['confuse', 'waist', 'seep', 'mini', 'crumble', 'gauntlet', 'tiberius', 'pin', 'vein', 'glove']\n",
      "Topic 11:\t['walkway', 'longsword', 'shard', 'secret', 'choke', 'shock', 'unleash', 'deflect', 'tour', 'sleight']\n",
      "Topic 12:\t['cone', 'escort', 'bet', 'singe', 'dance', 'sketch', 'unmove', 'lumber', 'yank', 'buddy']\n",
      "Topic 13:\t['comparatively', 'bother', 'cat', 'glaive', 'hack', 'accomplish', 'marching', 'drool', 'merch', 'discount']\n",
      "Topic 14:\t['jewelry', 'goes', 'drum', 'mechanism', 'hunch', 'greet', 'print', 'sizzle', 'spatter', 'eel']\n"
     ]
    }
   ],
   "source": [
    "lda = LatentDirichletAllocation(n_components=n_components)\n",
    "topics = lda.fit_transform(tfidf_df)\n",
    "print_top_terms(n_components=n_components, topics=topics, terms=tfidf.get_feature_names_out())"
   ]
  },
  {
   "cell_type": "markdown",
   "metadata": {},
   "source": [
    "## SVD"
   ]
  },
  {
   "cell_type": "code",
   "execution_count": 15,
   "metadata": {},
   "outputs": [
    {
     "name": "stdout",
     "output_type": "stream",
     "text": [
      "Topic 0:\t['mood', 'enslave', 'statement', 'bulk', 'rob', 'paltry', 'brand', 'varn', 'k', 'colony']\n",
      "Topic 1:\t['paralyze', 'rapidly', 'tight', 'teach', 'angel', 'dot', 'fox', 'veil', 'roil', 'mute']\n",
      "Topic 2:\t['taunt', 'dispel', 'batter', 'proceed', 'transform', 'timing', 'waterfall', 'rider', 'hip', 'cellar']\n",
      "Topic 3:\t['mausoleum', 'undercroft', 'ignore', 'syla', 'bloodline', 'reading', 'charm', 'brink', 'wealth', 'cellar']\n",
      "Topic 4:\t['compare', 'intel', 'farmland', 'fulfill', 'horseback', 'hatch', 'ambush', 'phrase', 'protector', 'slaver']\n",
      "Topic 5:\t['fortress', 'slavery', 'halfle', 'pilgrimage', 'overview', 'mutate', 'paladin', 'abomination', 'enemy', 'quest']\n",
      "Topic 6:\t['permeate', 'starch', 'bony', 'ankle', 'pupil', 'accent', 'puff', 'switch', 'linger', 'portrait']\n",
      "Topic 7:\t['robot', 'necromancer', 'goatee', 'demeanor', 'mourn', 'agreement', 'bazaar', 'argument', 'daughter', 'resurrection']\n",
      "Topic 8:\t['orchard', 'faith', 'blacksmithy', 'downpour', 'selling', 'sprinkle', 'anvil', 'banging', 'stride', 'ware']\n",
      "Topic 9:\t['masse', 'condense', 'craftsmanship', 'godhood', 'seed', 'volcano', 'extent', 'orchard', 'imbue', 'faith']\n",
      "Topic 10:\t['approval', 'monster', 'screech', 'arrest', 'judgment', 'maw', 'frustration', 'decline', 'hunter', 'refuse']\n",
      "Topic 11:\t['mistake', 'possibility', 'countryside', 'tinker', 'contest', 'goal', 'champion', 'mission', 'bully', 'parent']\n",
      "Topic 12:\t['tidbit', 'invitation', 'citadel', 'extinguish', 'glade', 'unto', 'transfer', 'exchange', 'race', 'orchard']\n",
      "Topic 13:\t['gangplank', 'halo', 'quicken', 'abruptly', 'sailing', 'deckhand', 'nest', 'n', 'cap', 'clack']\n",
      "Topic 14:\t['sway', 'regime', 'mini', 'dome', 'oppress', 'survivor', 'horde', 'townsfolk', 'noble', 'briarwood']\n"
     ]
    }
   ],
   "source": [
    "svd = TruncatedSVD(n_components=n_components)\n",
    "topics = svd.fit_transform(cv_df)\n",
    "print_top_terms(n_components=n_components, topics=topics, terms=cv.get_feature_names_out())"
   ]
  },
  {
   "cell_type": "code",
   "execution_count": 16,
   "metadata": {},
   "outputs": [
    {
     "name": "stdout",
     "output_type": "stream",
     "text": [
      "Topic 0:\t['film', 'deflect', 'eel', 'jester', 'birthday', 'muck', 'discount', 'pardon', 'spatter', 'buddy']\n",
      "Topic 1:\t['eel', 'spatter', 'timing', 'automatically', 'lumber', 'fucking', 'discount', 'marching', 'jester', 'sleight']\n",
      "Topic 2:\t['merch', 'sleight', 'selling', 'blacksmithy', 'downpour', 'banging', 'anvil', 'sprinkle', 'stride', 'ware']\n",
      "Topic 3:\t['auto', 'theory', 'greatsword', 'thread', 'enchant', 'tour', 'merch', 'scan', 'paralyze', 'automatically']\n",
      "Topic 4:\t['tour', 'flutter', 'yank', 'paralyze', 'egg', 'cock', 'spatter', 'minus', 'general', 'jester']\n",
      "Topic 5:\t['manacle', 'feat', 'imp', 'sizzle', 'eel', 'jester', 'discount', 'enchant', 'froth', 'drool']\n",
      "Topic 6:\t['shriek', 'flutter', 'unlock', 'jester', 'cock', 'fine', 'froth', 'general', 'drool', 'treant']\n",
      "Topic 7:\t['completion', 'lend', 'individually', 'print', 'equipment', 'fine', 'discount', 'tour', 'melee', 'theory']\n",
      "Topic 8:\t['lend', 'warn', 'greatsword', 'cock', 'unleash', 'shock', 'jester', 'discount', 'melee', 'eel']\n",
      "Topic 9:\t['shock', 'erinye', 'unleash', 'honestly', 'enchant', 'credit', 'unlock', 'eel', 'cock', 'tour']\n",
      "Topic 10:\t['accomplish', 'fucking', 'tour', 'deflect', 'scan', 'melee', 'merch', 'discount', 'cock', 'credit']\n",
      "Topic 11:\t['trick', 'muck', 'general', 'honestly', 'eel', 'tour', 'theory', 'sizzle', 'minus', 'merch']\n",
      "Topic 12:\t['greatsword', 'feat', 'erinye', 'general', 'melee', 'credit', 'sizzle', 'unlock', 'theory', 'scan']\n",
      "Topic 13:\t['tune', 'greatsword', 'minus', 'paralyze', 'unleash', 'sizzle', 'credit', 'spatter', 'fine', 'melee']\n",
      "Topic 14:\t['unmove', 'accomplish', 'flutter', 'theory', 'eel', 'deflect', 'minus', 'discount', 'spatter', 'marching']\n"
     ]
    }
   ],
   "source": [
    "svd = TruncatedSVD(n_components=n_components)\n",
    "topics = svd.fit_transform(tfidf_df)\n",
    "print_top_terms(n_components=n_components, topics=topics, terms=tfidf.get_feature_names_out())"
   ]
  },
  {
   "cell_type": "markdown",
   "metadata": {},
   "source": [
    "## NMF"
   ]
  },
  {
   "cell_type": "code",
   "execution_count": 17,
   "metadata": {},
   "outputs": [
    {
     "name": "stderr",
     "output_type": "stream",
     "text": [
      "/home/patrick/anaconda3/envs/metis/lib/python3.10/site-packages/sklearn/decomposition/_nmf.py:289: FutureWarning: The 'init' value, when 'init=None' and n_components is less than n_samples and n_features, will be changed from 'nndsvd' to 'nndsvda' in 1.1 (renaming of 0.26).\n",
      "  warnings.warn(\n"
     ]
    },
    {
     "name": "stdout",
     "output_type": "stream",
     "text": [
      "Topic 0:\t['infiltrate', 'mood', 'statement', 'bulk', 'rob', 'paltry', 'brand', 'k', 'varn', 'colony']\n",
      "Topic 1:\t['paralyze', 'rapidly', 'tight', 'teach', 'angel', 'dot', 'fox', 'veil', 'roil', 'mute']\n",
      "Topic 2:\t['clip', 'atop', 'dispel', 'batter', 'proceed', 'timing', 'transform', 'waterfall', 'rider', 'hip']\n",
      "Topic 3:\t['undercroft', 'ignore', 'syla', 'myth', 'bloodline', 'reading', 'charm', 'brink', 'wealth', 'cellar']\n",
      "Topic 4:\t['compare', 'intel', 'farmland', 'fulfill', 'horseback', 'hatch', 'ambush', 'phrase', 'protector', 'slaver']\n",
      "Topic 5:\t['colony', 'slavery', 'halfle', 'pilgrimage', 'overview', 'mutate', 'paladin', 'abomination', 'enemy', 'quest']\n",
      "Topic 6:\t['permeate', 'bony', 'starch', 'ankle', 'pupil', 'accent', 'puff', 'switch', 'linger', 'portrait']\n",
      "Topic 7:\t['robot', 'necromancer', 'goatee', 'demeanor', 'mourn', 'agreement', 'argument', 'bazaar', 'daughter', 'resurrection']\n",
      "Topic 8:\t['seize', 'crossroad', 'downpour', 'selling', 'blacksmithy', 'sprinkle', 'anvil', 'banging', 'stride', 'ware']\n",
      "Topic 9:\t['blacksmith', 'masse', 'audience', 'godhood', 'condense', 'craftsmanship', 'seed', 'extent', 'volcano', 'faith']\n",
      "Topic 10:\t['monster', 'judgment', 'screech', 'arrest', 'maw', 'frustration', 'increase', 'decline', 'hunter', 'refuse']\n",
      "Topic 11:\t['mistake', 'tinker', 'countryside', 'possibility', 'contest', 'goal', 'mission', 'champion', 'bully', 'parent']\n",
      "Topic 12:\t['invitation', 'citadel', 'extinguish', 'glade', 'unto', 'imbue', 'exchange', 'transfer', 'race', 'orchard']\n",
      "Topic 13:\t['gangplank', 'halo', 'quicken', 'abruptly', 'sailing', 'deckhand', 'nest', 'n', 'cap', 'clack']\n",
      "Topic 14:\t['burrow', 'dark', 'instill', 'sway', 'oppress', 'briarwood', 'survivor', 'horde', 'townsfolk', 'noble']\n"
     ]
    }
   ],
   "source": [
    "nmf = NMF(n_components=n_components, max_iter=500)\n",
    "topics = nmf.fit_transform(cv_df)\n",
    "print_top_terms(n_components=n_components, topics=topics, terms=cv.get_feature_names_out())"
   ]
  },
  {
   "cell_type": "code",
   "execution_count": 18,
   "metadata": {},
   "outputs": [
    {
     "name": "stderr",
     "output_type": "stream",
     "text": [
      "/home/patrick/anaconda3/envs/metis/lib/python3.10/site-packages/sklearn/decomposition/_nmf.py:289: FutureWarning: The 'init' value, when 'init=None' and n_components is less than n_samples and n_features, will be changed from 'nndsvd' to 'nndsvda' in 1.1 (renaming of 0.26).\n",
      "  warnings.warn(\n",
      "/home/patrick/anaconda3/envs/metis/lib/python3.10/site-packages/sklearn/decomposition/_nmf.py:1637: ConvergenceWarning: Maximum number of iterations 400 reached. Increase it to improve convergence.\n",
      "  warnings.warn(\n"
     ]
    },
    {
     "name": "stdout",
     "output_type": "stream",
     "text": [
      "Topic 0:\t['talent', 'web', 'inspire', 'intro', 'lend', 'robot', 'film', 'birthday', 'pardon', 'buddy']\n",
      "Topic 1:\t['spike', 'rider', 'hip', 'narrative', 'bruise', 'jostle', 'relieve', 'clinking', 'timing', 'sleight']\n",
      "Topic 2:\t['duration', 'crossroad', 'selling', 'blacksmithy', 'downpour', 'banging', 'anvil', 'sprinkle', 'stride', 'ware']\n",
      "Topic 3:\t['crackle', 'cancel', 'mute', 'nudge', 'confuse', 'fang', 'auto', 'thread', 'paralyze', 'automatically']\n",
      "Topic 4:\t['trick', 'wax', 'blip', 'example', 'copy', 'stealthing', 'scimitar', 'ready', 'loop', 'jester']\n",
      "Topic 5:\t['reload', 'composure', 'regain', 'rifle', 'spitting', 'waste', 'glisten', 'jet', 'froth', 'drool']\n",
      "Topic 6:\t['creaking', 'headache', 'gout', 'smolder', 'gravity', 'knot', 'reference', 'harry', 'shriek', 'treant']\n",
      "Topic 7:\t['contest', 'surrounding', 'fortune', 'pound', 'nostril', 'flavor', 'awkwardly', 'd', 'accomplish', 'credit']\n",
      "Topic 8:\t['increase', 'mm', 'slice', 'mentally', 'whatsoever', 'bearing', 'superiority', 'longsword', 'theory', 'melee']\n",
      "Topic 9:\t['increase', 'sigil', 'nudge', 'confuse', 'slot', 'clock', 'cancel', 'paralyze', 'budge', 'minus']\n",
      "Topic 10:\t['bee', 'situate', 'hive', 'hospitality', 'eagerly', 'mm', 'wise', 'promise', 'hat', 'tour']\n",
      "Topic 11:\t['trouble', 'sum', 'bargain', 'haul', 'bulk', 'friendship', 'strait', 'individually', 'apiece', 'discount']\n",
      "Topic 12:\t['horribly', 'react', 'frustrate', 'gnarl', 'chew', 'shave', 'bludgeon', 'revert', 'shock', 'eel']\n",
      "Topic 13:\t['scenario', 'jet', 'current', 'rebuild', 'survey', 'com', 'scope', 'cruise', 'volunteer', 'merch']\n",
      "Topic 14:\t['drain', 'slap', 'cock', 'mechanism', 'groove', 'keyring', 'sewer', 'latch', 'unlock', 'spatter']\n"
     ]
    }
   ],
   "source": [
    "nmf = NMF(n_components=n_components, max_iter=400)\n",
    "topics = nmf.fit_transform(tfidf_df)\n",
    "print_top_terms(n_components=n_components, topics=topics, terms=tfidf.get_feature_names_out())"
   ]
  },
  {
   "cell_type": "code",
   "execution_count": null,
   "metadata": {},
   "outputs": [],
   "source": []
  }
 ],
 "metadata": {
  "kernelspec": {
   "display_name": "Python 3.10.4 ('metis')",
   "language": "python",
   "name": "python3"
  },
  "language_info": {
   "codemirror_mode": {
    "name": "ipython",
    "version": 3
   },
   "file_extension": ".py",
   "mimetype": "text/x-python",
   "name": "python",
   "nbconvert_exporter": "python",
   "pygments_lexer": "ipython3",
   "version": "3.10.4"
  },
  "orig_nbformat": 4,
  "vscode": {
   "interpreter": {
    "hash": "2279e2d64b6cb4063ab7cfccb2020b604cfa41abe39379e7173718ec353138e1"
   }
  }
 },
 "nbformat": 4,
 "nbformat_minor": 2
}
